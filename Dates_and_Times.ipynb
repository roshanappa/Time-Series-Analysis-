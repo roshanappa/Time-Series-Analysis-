{
  "nbformat": 4,
  "nbformat_minor": 0,
  "metadata": {
    "colab": {
      "name": "Dates and Times.ipynb",
      "provenance": [],
      "collapsed_sections": [],
      "authorship_tag": "ABX9TyPamGGN1xglvBDZtU+DNrb3",
      "include_colab_link": true
    },
    "kernelspec": {
      "name": "python3",
      "display_name": "Python 3"
    }
  },
  "cells": [
    {
      "cell_type": "markdown",
      "metadata": {
        "id": "view-in-github",
        "colab_type": "text"
      },
      "source": [
        "<a href=\"https://colab.research.google.com/github/roshanappa/Time-Series-Analysis-/blob/master/Dates_and_Times.ipynb\" target=\"_parent\"><img src=\"https://colab.research.google.com/assets/colab-badge.svg\" alt=\"Open In Colab\"/></a>"
      ]
    },
    {
      "cell_type": "code",
      "metadata": {
        "id": "QJSJ8krVTszl",
        "colab_type": "code",
        "colab": {}
      },
      "source": [
        "import numpy as np\n",
        "import pandas as pd\n",
        "import matplotlib.pyplot as plt\n",
        "import seaborn as sns\n",
        "import warnings\n",
        "warnings.filterwarnings('ignore')\n",
        "%matplotlib inline"
      ],
      "execution_count": 29,
      "outputs": []
    },
    {
      "cell_type": "markdown",
      "metadata": {
        "id": "_Vavd0_PWx1g",
        "colab_type": "text"
      },
      "source": [
        "# Times "
      ]
    },
    {
      "cell_type": "code",
      "metadata": {
        "id": "FPQdjBChVpLp",
        "colab_type": "code",
        "colab": {}
      },
      "source": [
        "date_range = pd.date_range(start='2011-01-01',end='2020-01-31',freq='D')"
      ],
      "execution_count": 30,
      "outputs": []
    },
    {
      "cell_type": "code",
      "metadata": {
        "id": "4CRe1jTlVphr",
        "colab_type": "code",
        "colab": {
          "base_uri": "https://localhost:8080/",
          "height": 187
        },
        "outputId": "0d03ecdc-98aa-42e7-9543-45554dc25555"
      },
      "source": [
        "for i in date_range[:10]:\n",
        "  print(i)"
      ],
      "execution_count": 31,
      "outputs": [
        {
          "output_type": "stream",
          "text": [
            "2011-01-01 00:00:00\n",
            "2011-01-02 00:00:00\n",
            "2011-01-03 00:00:00\n",
            "2011-01-04 00:00:00\n",
            "2011-01-05 00:00:00\n",
            "2011-01-06 00:00:00\n",
            "2011-01-07 00:00:00\n",
            "2011-01-08 00:00:00\n",
            "2011-01-09 00:00:00\n",
            "2011-01-10 00:00:00\n"
          ],
          "name": "stdout"
        }
      ]
    },
    {
      "cell_type": "markdown",
      "metadata": {
        "id": "Q55H5ffQY6nX",
        "colab_type": "text"
      },
      "source": [
        "Here,we can see the Freq we given the frequency is the terms of Days but if we required the frequency in the terms of year and month too."
      ]
    },
    {
      "cell_type": "code",
      "metadata": {
        "id": "PVUUpDFyVp7R",
        "colab_type": "code",
        "colab": {}
      },
      "source": [
        "date_range1 = pd.date_range(start='2011-01-01',end='2020-01-31',freq='M')"
      ],
      "execution_count": 32,
      "outputs": []
    },
    {
      "cell_type": "code",
      "metadata": {
        "id": "LsYkjLg1Vp4S",
        "colab_type": "code",
        "colab": {
          "base_uri": "https://localhost:8080/",
          "height": 187
        },
        "outputId": "09d611d6-3050-4f65-a66d-77c2be5ac05d"
      },
      "source": [
        "for i in date_range1[:10]:\n",
        "  print(i)"
      ],
      "execution_count": 33,
      "outputs": [
        {
          "output_type": "stream",
          "text": [
            "2011-01-31 00:00:00\n",
            "2011-02-28 00:00:00\n",
            "2011-03-31 00:00:00\n",
            "2011-04-30 00:00:00\n",
            "2011-05-31 00:00:00\n",
            "2011-06-30 00:00:00\n",
            "2011-07-31 00:00:00\n",
            "2011-08-31 00:00:00\n",
            "2011-09-30 00:00:00\n",
            "2011-10-31 00:00:00\n"
          ],
          "name": "stdout"
        }
      ]
    },
    {
      "cell_type": "code",
      "metadata": {
        "id": "F6G1iSnoVp1d",
        "colab_type": "code",
        "colab": {}
      },
      "source": [
        "date_range2 = pd.date_range(start='2011-01-01',end='2020-01-31',freq='Y')"
      ],
      "execution_count": 34,
      "outputs": []
    },
    {
      "cell_type": "code",
      "metadata": {
        "id": "q8oQBR4UVpya",
        "colab_type": "code",
        "colab": {
          "base_uri": "https://localhost:8080/",
          "height": 170
        },
        "outputId": "dabf306a-0943-4ee1-d37b-b1b6b4b43c66"
      },
      "source": [
        "for i in date_range2[:10]:\n",
        "  print(i)"
      ],
      "execution_count": 35,
      "outputs": [
        {
          "output_type": "stream",
          "text": [
            "2011-12-31 00:00:00\n",
            "2012-12-31 00:00:00\n",
            "2013-12-31 00:00:00\n",
            "2014-12-31 00:00:00\n",
            "2015-12-31 00:00:00\n",
            "2016-12-31 00:00:00\n",
            "2017-12-31 00:00:00\n",
            "2018-12-31 00:00:00\n",
            "2019-12-31 00:00:00\n"
          ],
          "name": "stdout"
        }
      ]
    },
    {
      "cell_type": "markdown",
      "metadata": {
        "id": "Wx1HuJllaO8Y",
        "colab_type": "text"
      },
      "source": [
        "Format of the date_range is avalible like below:-\n",
        "`yy-MM-YY`.\n",
        "- Lets try the different format of the  date_range."
      ]
    },
    {
      "cell_type": "markdown",
      "metadata": {
        "id": "ZvF92p5kdnkY",
        "colab_type": "text"
      },
      "source": [
        "Format = `YY/MM/DD`"
      ]
    },
    {
      "cell_type": "code",
      "metadata": {
        "id": "iW8kWH-RVpvB",
        "colab_type": "code",
        "colab": {}
      },
      "source": [
        "date_range = pd.date_range(start='2012/01/01',end='2014/01/31',freq='Y')"
      ],
      "execution_count": 36,
      "outputs": []
    },
    {
      "cell_type": "code",
      "metadata": {
        "id": "T0ZwWT9TVprA",
        "colab_type": "code",
        "colab": {
          "base_uri": "https://localhost:8080/",
          "height": 51
        },
        "outputId": "42286f2c-d4ca-4c17-e68a-38d4f4af01be"
      },
      "source": [
        "for i in date_range[:5]:\n",
        "  print(i)"
      ],
      "execution_count": 37,
      "outputs": [
        {
          "output_type": "stream",
          "text": [
            "2012-12-31 00:00:00\n",
            "2013-12-31 00:00:00\n"
          ],
          "name": "stdout"
        }
      ]
    },
    {
      "cell_type": "code",
      "metadata": {
        "id": "naBkD83XVpmr",
        "colab_type": "code",
        "colab": {
          "base_uri": "https://localhost:8080/",
          "height": 68
        },
        "outputId": "e38211c8-ffd1-4c6b-96ef-d2bcd0d21de5"
      },
      "source": [
        "print(date_range.month)\n",
        "print(date_range.day)\n",
        "print(date_range.year)"
      ],
      "execution_count": 84,
      "outputs": [
        {
          "output_type": "stream",
          "text": [
            "Int64Index([12, 12, 12], dtype='int64')\n",
            "Int64Index([31, 31, 31], dtype='int64')\n",
            "Int64Index([2012, 2013, 2014], dtype='int64')\n"
          ],
          "name": "stdout"
        }
      ]
    },
    {
      "cell_type": "markdown",
      "metadata": {
        "id": "PM5G1WT7dyOk",
        "colab_type": "text"
      },
      "source": [
        "Format = `2012 dec 31`"
      ]
    },
    {
      "cell_type": "code",
      "metadata": {
        "id": "Pj6xUXr4cirg",
        "colab_type": "code",
        "colab": {}
      },
      "source": [
        "date_range = pd.date_range(start='2012 jan 31',end='2014 dec 31 ',freq='Y')"
      ],
      "execution_count": 85,
      "outputs": []
    },
    {
      "cell_type": "code",
      "metadata": {
        "id": "t4Z2UJwgpoMA",
        "colab_type": "code",
        "colab": {
          "base_uri": "https://localhost:8080/",
          "height": 34
        },
        "outputId": "943c2c45-8843-449e-fac9-0b34719ec1d4"
      },
      "source": [
        "date_range.day_name()"
      ],
      "execution_count": 86,
      "outputs": [
        {
          "output_type": "execute_result",
          "data": {
            "text/plain": [
              "Index(['Monday', 'Tuesday', 'Wednesday'], dtype='object')"
            ]
          },
          "metadata": {
            "tags": []
          },
          "execution_count": 86
        }
      ]
    },
    {
      "cell_type": "code",
      "metadata": {
        "id": "zHv47PefpviD",
        "colab_type": "code",
        "colab": {
          "base_uri": "https://localhost:8080/",
          "height": 34
        },
        "outputId": "8685f46c-1b91-48a7-a188-def58be16e3f"
      },
      "source": [
        "date_range.month_name()"
      ],
      "execution_count": 88,
      "outputs": [
        {
          "output_type": "execute_result",
          "data": {
            "text/plain": [
              "Index(['December', 'December', 'December'], dtype='object')"
            ]
          },
          "metadata": {
            "tags": []
          },
          "execution_count": 88
        }
      ]
    },
    {
      "cell_type": "code",
      "metadata": {
        "id": "VJSp5fGXcimX",
        "colab_type": "code",
        "colab": {
          "base_uri": "https://localhost:8080/",
          "height": 68
        },
        "outputId": "3be40868-9d9b-49e0-8e4b-e95d81782aa6"
      },
      "source": [
        "for i in date_range3:\n",
        "  print(i)"
      ],
      "execution_count": 43,
      "outputs": [
        {
          "output_type": "stream",
          "text": [
            "2012-12-31 00:00:00\n",
            "2013-12-31 00:00:00\n",
            "2014-12-31 00:00:00\n"
          ],
          "name": "stdout"
        }
      ]
    },
    {
      "cell_type": "markdown",
      "metadata": {
        "id": "_Q_V_FAOgWNk",
        "colab_type": "text"
      },
      "source": [
        "Format = `31 ,jan 2010`"
      ]
    },
    {
      "cell_type": "code",
      "metadata": {
        "id": "_g7nUP1zcihS",
        "colab_type": "code",
        "colab": {}
      },
      "source": [
        "date_range4 = pd.date_range(start='01 jan,2012',end='31 dec,2012',freq='M')"
      ],
      "execution_count": 44,
      "outputs": []
    },
    {
      "cell_type": "code",
      "metadata": {
        "id": "60AzpE4Qcicp",
        "colab_type": "code",
        "colab": {
          "base_uri": "https://localhost:8080/",
          "height": 85
        },
        "outputId": "27b218e8-8f48-4e0c-8f7f-f64493f803b0"
      },
      "source": [
        "date_range4"
      ],
      "execution_count": 45,
      "outputs": [
        {
          "output_type": "execute_result",
          "data": {
            "text/plain": [
              "DatetimeIndex(['2012-01-31', '2012-02-29', '2012-03-31', '2012-04-30',\n",
              "               '2012-05-31', '2012-06-30', '2012-07-31', '2012-08-31',\n",
              "               '2012-09-30', '2012-10-31', '2012-11-30', '2012-12-31'],\n",
              "              dtype='datetime64[ns]', freq='M')"
            ]
          },
          "metadata": {
            "tags": []
          },
          "execution_count": 45
        }
      ]
    },
    {
      "cell_type": "code",
      "metadata": {
        "id": "nFYioO4ojC0J",
        "colab_type": "code",
        "colab": {}
      },
      "source": [
        "series = pd.Series(data=range(12),index = pd.date_range(start='2020/01/01',end='2020/12/31',freq='M'))"
      ],
      "execution_count": 61,
      "outputs": []
    },
    {
      "cell_type": "code",
      "metadata": {
        "id": "KJ7Vj3QWjjEY",
        "colab_type": "code",
        "colab": {
          "base_uri": "https://localhost:8080/",
          "height": 238
        },
        "outputId": "e858701b-9f25-4ec3-a0f4-80b7a7391947"
      },
      "source": [
        "series"
      ],
      "execution_count": 62,
      "outputs": [
        {
          "output_type": "execute_result",
          "data": {
            "text/plain": [
              "2020-01-31     0\n",
              "2020-02-29     1\n",
              "2020-03-31     2\n",
              "2020-04-30     3\n",
              "2020-05-31     4\n",
              "2020-06-30     5\n",
              "2020-07-31     6\n",
              "2020-08-31     7\n",
              "2020-09-30     8\n",
              "2020-10-31     9\n",
              "2020-11-30    10\n",
              "2020-12-31    11\n",
              "Freq: M, dtype: int64"
            ]
          },
          "metadata": {
            "tags": []
          },
          "execution_count": 62
        }
      ]
    },
    {
      "cell_type": "code",
      "metadata": {
        "id": "x_P4dbhanaTf",
        "colab_type": "code",
        "colab": {
          "base_uri": "https://localhost:8080/",
          "height": 68
        },
        "outputId": "f26bb63a-4fe9-44dc-b27f-912f5da408ef"
      },
      "source": [
        "date_range11 = pd.date_range(start='2020-01-01',end='2020-12-31',periods=3)\n",
        "date_range11"
      ],
      "execution_count": 82,
      "outputs": [
        {
          "output_type": "execute_result",
          "data": {
            "text/plain": [
              "DatetimeIndex(['2020-01-01 00:00:00', '2020-07-01 12:00:00',\n",
              "               '2020-12-31 00:00:00'],\n",
              "              dtype='datetime64[ns]', freq=None)"
            ]
          },
          "metadata": {
            "tags": []
          },
          "execution_count": 82
        }
      ]
    },
    {
      "cell_type": "markdown",
      "metadata": {
        "id": "36t0aXRPj_9t",
        "colab_type": "text"
      },
      "source": [
        "# Resampling."
      ]
    },
    {
      "cell_type": "code",
      "metadata": {
        "id": "SMzL3whVj8cs",
        "colab_type": "code",
        "colab": {
          "base_uri": "https://localhost:8080/",
          "height": 153
        },
        "outputId": "38028226-f807-42b6-8fa5-801755fc64e8"
      },
      "source": [
        "series.resample('2M').mean()"
      ],
      "execution_count": 66,
      "outputs": [
        {
          "output_type": "execute_result",
          "data": {
            "text/plain": [
              "2020-01-31     0.0\n",
              "2020-03-31     1.5\n",
              "2020-05-31     3.5\n",
              "2020-07-31     5.5\n",
              "2020-09-30     7.5\n",
              "2020-11-30     9.5\n",
              "2021-01-31    11.0\n",
              "Freq: 2M, dtype: float64"
            ]
          },
          "metadata": {
            "tags": []
          },
          "execution_count": 66
        }
      ]
    },
    {
      "cell_type": "markdown",
      "metadata": {
        "id": "WP9PM0d-hJfW",
        "colab_type": "text"
      },
      "source": [
        "# TIME STAMPS VS TIME SPANS"
      ]
    },
    {
      "cell_type": "code",
      "metadata": {
        "id": "VeZpP-85ciX9",
        "colab_type": "code",
        "colab": {
          "base_uri": "https://localhost:8080/",
          "height": 34
        },
        "outputId": "072f6c0d-f72a-4022-f65e-121c2a2a0beb"
      },
      "source": [
        "pd.Timestamp('2010/01/01')"
      ],
      "execution_count": 46,
      "outputs": [
        {
          "output_type": "execute_result",
          "data": {
            "text/plain": [
              "Timestamp('2010-01-01 00:00:00')"
            ]
          },
          "metadata": {
            "tags": []
          },
          "execution_count": 46
        }
      ]
    },
    {
      "cell_type": "code",
      "metadata": {
        "id": "NLrVmNc1hNRz",
        "colab_type": "code",
        "colab": {}
      },
      "source": [
        "timestamp=pd.Timestamp('2020/01/01 12:12:23')"
      ],
      "execution_count": 48,
      "outputs": []
    },
    {
      "cell_type": "code",
      "metadata": {
        "id": "qPOFVxI8hNNR",
        "colab_type": "code",
        "colab": {
          "base_uri": "https://localhost:8080/",
          "height": 34
        },
        "outputId": "34b64671-da18-4a69-8aa1-1218f378dd88"
      },
      "source": [
        "timestamp.day"
      ],
      "execution_count": 49,
      "outputs": [
        {
          "output_type": "execute_result",
          "data": {
            "text/plain": [
              "1"
            ]
          },
          "metadata": {
            "tags": []
          },
          "execution_count": 49
        }
      ]
    },
    {
      "cell_type": "code",
      "metadata": {
        "id": "ufSMIMWahNJJ",
        "colab_type": "code",
        "colab": {
          "base_uri": "https://localhost:8080/",
          "height": 34
        },
        "outputId": "97e502e3-3f99-4fce-a704-b3a039b5af1d"
      },
      "source": [
        "timestamp.month"
      ],
      "execution_count": 55,
      "outputs": [
        {
          "output_type": "execute_result",
          "data": {
            "text/plain": [
              "1"
            ]
          },
          "metadata": {
            "tags": []
          },
          "execution_count": 55
        }
      ]
    },
    {
      "cell_type": "markdown",
      "metadata": {
        "id": "ZgczAP0SmcR0",
        "colab_type": "text"
      },
      "source": [
        "# Period"
      ]
    },
    {
      "cell_type": "code",
      "metadata": {
        "id": "95GMJRAch_CG",
        "colab_type": "code",
        "colab": {
          "base_uri": "https://localhost:8080/",
          "height": 34
        },
        "outputId": "94e88fda-2c78-4926-d4ec-e151d3dde0dc"
      },
      "source": [
        "pd.Period('2020/01/31')"
      ],
      "execution_count": 67,
      "outputs": [
        {
          "output_type": "execute_result",
          "data": {
            "text/plain": [
              "Period('2020-01-31', 'D')"
            ]
          },
          "metadata": {
            "tags": []
          },
          "execution_count": 67
        }
      ]
    },
    {
      "cell_type": "code",
      "metadata": {
        "id": "z51Z8QMchNFB",
        "colab_type": "code",
        "colab": {
          "base_uri": "https://localhost:8080/",
          "height": 34
        },
        "outputId": "f3e39931-9759-4121-f1a5-daa616344399"
      },
      "source": [
        "pd.Period('2020/01/31 01:12:00')"
      ],
      "execution_count": 68,
      "outputs": [
        {
          "output_type": "execute_result",
          "data": {
            "text/plain": [
              "Period('2020-01-31 01:12:00', 'S')"
            ]
          },
          "metadata": {
            "tags": []
          },
          "execution_count": 68
        }
      ]
    },
    {
      "cell_type": "code",
      "metadata": {
        "id": "hEnHWv9fhNBC",
        "colab_type": "code",
        "colab": {}
      },
      "source": [
        "prd = pd.Period(freq ='D', year = 2001, month = 1, day = 21) "
      ],
      "execution_count": 69,
      "outputs": []
    },
    {
      "cell_type": "code",
      "metadata": {
        "id": "yjRhOZLqhM9B",
        "colab_type": "code",
        "colab": {
          "base_uri": "https://localhost:8080/",
          "height": 34
        },
        "outputId": "baa9bbcb-2d7d-4a4d-92a9-1f1f9060008e"
      },
      "source": [
        "print(prd)"
      ],
      "execution_count": 70,
      "outputs": [
        {
          "output_type": "stream",
          "text": [
            "2001-01-21\n"
          ],
          "name": "stdout"
        }
      ]
    },
    {
      "cell_type": "markdown",
      "metadata": {
        "id": "TPuZdSysqM6p",
        "colab_type": "text"
      },
      "source": [
        "# Time Offsets.\n",
        "\n",
        "**TimeDelta**\n",
        "It is help to add the time values."
      ]
    },
    {
      "cell_type": "code",
      "metadata": {
        "id": "xsBEQXQXhM5B",
        "colab_type": "code",
        "colab": {
          "base_uri": "https://localhost:8080/",
          "height": 34
        },
        "outputId": "635cb06f-08e0-41e9-b1b6-21d4e3cc839c"
      },
      "source": [
        "pd.Timedelta('1 day')"
      ],
      "execution_count": 89,
      "outputs": [
        {
          "output_type": "execute_result",
          "data": {
            "text/plain": [
              "Timedelta('1 days 00:00:00')"
            ]
          },
          "metadata": {
            "tags": []
          },
          "execution_count": 89
        }
      ]
    },
    {
      "cell_type": "code",
      "metadata": {
        "id": "kVw3EE16hM1E",
        "colab_type": "code",
        "colab": {}
      },
      "source": [
        "timeDelta=pd.Period('2001-01-01') + pd.Timedelta('1 day')"
      ],
      "execution_count": 91,
      "outputs": []
    },
    {
      "cell_type": "code",
      "metadata": {
        "id": "XxG1xFJQhMw9",
        "colab_type": "code",
        "colab": {
          "base_uri": "https://localhost:8080/",
          "height": 34
        },
        "outputId": "98410230-a1ef-4a46-bf8d-e1f3f2bfb1d9"
      },
      "source": [
        "timeDelta.day"
      ],
      "execution_count": 92,
      "outputs": [
        {
          "output_type": "execute_result",
          "data": {
            "text/plain": [
              "2"
            ]
          },
          "metadata": {
            "tags": []
          },
          "execution_count": 92
        }
      ]
    },
    {
      "cell_type": "code",
      "metadata": {
        "id": "9m2mrEFGhMsl",
        "colab_type": "code",
        "colab": {
          "base_uri": "https://localhost:8080/",
          "height": 85
        },
        "outputId": "88344eca-43e8-4742-f306-975c030e66b6"
      },
      "source": [
        "# FANCY FREQUENCY SETTING\n",
        "# Only want business days\n",
        "\n",
        "pd.period_range('2016-01-01 10:10', freq = 'B', periods = 10)"
      ],
      "execution_count": 95,
      "outputs": [
        {
          "output_type": "execute_result",
          "data": {
            "text/plain": [
              "PeriodIndex(['2016-01-01', '2016-01-04', '2016-01-05', '2016-01-06',\n",
              "             '2016-01-07', '2016-01-08', '2016-01-11', '2016-01-12',\n",
              "             '2016-01-13', '2016-01-14'],\n",
              "            dtype='period[B]', freq='B')"
            ]
          },
          "metadata": {
            "tags": []
          },
          "execution_count": 95
        }
      ]
    },
    {
      "cell_type": "code",
      "metadata": {
        "id": "VzrSH5KZzB9-",
        "colab_type": "code",
        "colab": {}
      },
      "source": [
        "\n",
        "# It's possible to combine frequencies. What if you want to advance by 25 hours each day. What are the 2 ways to do it?\n",
        "p1 = pd.period_range('2016-01-01 10:10', freq = '25H', periods = 10)"
      ],
      "execution_count": 96,
      "outputs": []
    },
    {
      "cell_type": "code",
      "metadata": {
        "id": "pov9nOjAziGE",
        "colab_type": "code",
        "colab": {}
      },
      "source": [
        "p2 = pd.period_range('2016-01-01 10:10', freq = '1D1H', periods = 10)"
      ],
      "execution_count": 97,
      "outputs": []
    },
    {
      "cell_type": "code",
      "metadata": {
        "id": "BtuWAD0lziAa",
        "colab_type": "code",
        "colab": {
          "base_uri": "https://localhost:8080/",
          "height": 102
        },
        "outputId": "e39f6c51-4444-48c6-fc2b-e6e0daa9f645"
      },
      "source": [
        "print(p1)"
      ],
      "execution_count": 98,
      "outputs": [
        {
          "output_type": "stream",
          "text": [
            "PeriodIndex(['2016-01-01 10:00', '2016-01-02 11:00', '2016-01-03 12:00',\n",
            "             '2016-01-04 13:00', '2016-01-05 14:00', '2016-01-06 15:00',\n",
            "             '2016-01-07 16:00', '2016-01-08 17:00', '2016-01-09 18:00',\n",
            "             '2016-01-10 19:00'],\n",
            "            dtype='period[25H]', freq='25H')\n"
          ],
          "name": "stdout"
        }
      ]
    },
    {
      "cell_type": "code",
      "metadata": {
        "id": "Y6IXTTyMzh39",
        "colab_type": "code",
        "colab": {
          "base_uri": "https://localhost:8080/",
          "height": 102
        },
        "outputId": "ab96c704-c861-4fc1-de04-622d05a683cc"
      },
      "source": [
        "print(p2)"
      ],
      "execution_count": 99,
      "outputs": [
        {
          "output_type": "stream",
          "text": [
            "PeriodIndex(['2016-01-01 10:00', '2016-01-02 11:00', '2016-01-03 12:00',\n",
            "             '2016-01-04 13:00', '2016-01-05 14:00', '2016-01-06 15:00',\n",
            "             '2016-01-07 16:00', '2016-01-08 17:00', '2016-01-09 18:00',\n",
            "             '2016-01-10 19:00'],\n",
            "            dtype='period[25H]', freq='25H')\n"
          ],
          "name": "stdout"
        }
      ]
    },
    {
      "cell_type": "code",
      "metadata": {
        "id": "QoO-syJwzhvn",
        "colab_type": "code",
        "colab": {
          "base_uri": "https://localhost:8080/",
          "height": 204
        },
        "outputId": "2225faf1-484f-4aa8-8dd1-e29d52305457"
      },
      "source": [
        "# INDEXING WITH TIME OBJECTS\n",
        "# You can use these objects for indices\n",
        "# Let's start with using a date range as above\n",
        "rng = pd.date_range('2016 Jul 1', periods = 10, freq = 'D')\n",
        "rng\n",
        "pd.Series(range(len(rng)), index = rng)"
      ],
      "execution_count": 100,
      "outputs": [
        {
          "output_type": "execute_result",
          "data": {
            "text/plain": [
              "2016-07-01    0\n",
              "2016-07-02    1\n",
              "2016-07-03    2\n",
              "2016-07-04    3\n",
              "2016-07-05    4\n",
              "2016-07-06    5\n",
              "2016-07-07    6\n",
              "2016-07-08    7\n",
              "2016-07-09    8\n",
              "2016-07-10    9\n",
              "Freq: D, dtype: int64"
            ]
          },
          "metadata": {
            "tags": []
          },
          "execution_count": 100
        }
      ]
    },
    {
      "cell_type": "code",
      "metadata": {
        "id": "1NfbyJUKzhpH",
        "colab_type": "code",
        "colab": {
          "base_uri": "https://localhost:8080/",
          "height": 85
        },
        "outputId": "182881c1-cd8b-49db-95bb-d2eca340be71"
      },
      "source": [
        "\n",
        "# You can also use time period indices, in cases where it makes more sense \n",
        "# to think about your index as a time span rather than a single point in time\n",
        "\n",
        "periods = [pd.Period('2016-01'), pd.Period('2016-02'), pd.Period('2016-03')]\n",
        "ts = pd.Series(np.random.randn(len(periods)), index = periods)\n",
        "ts"
      ],
      "execution_count": 101,
      "outputs": [
        {
          "output_type": "execute_result",
          "data": {
            "text/plain": [
              "2016-01   -2.042908\n",
              "2016-02    1.119775\n",
              "2016-03   -0.156843\n",
              "Freq: M, dtype: float64"
            ]
          },
          "metadata": {
            "tags": []
          },
          "execution_count": 101
        }
      ]
    },
    {
      "cell_type": "code",
      "metadata": {
        "id": "GHAhfJWgzhgb",
        "colab_type": "code",
        "colab": {
          "base_uri": "https://localhost:8080/",
          "height": 34
        },
        "outputId": "52fed016-88fd-4eea-c066-6502dfcec6d6"
      },
      "source": [
        "\n",
        "# What type is the index for ts?\n",
        "type(ts.index)"
      ],
      "execution_count": 102,
      "outputs": [
        {
          "output_type": "execute_result",
          "data": {
            "text/plain": [
              "pandas.core.indexes.period.PeriodIndex"
            ]
          },
          "metadata": {
            "tags": []
          },
          "execution_count": 102
        }
      ]
    },
    {
      "cell_type": "code",
      "metadata": {
        "id": "AyL52hS4hMnQ",
        "colab_type": "code",
        "colab": {
          "base_uri": "https://localhost:8080/",
          "height": 204
        },
        "outputId": "25abd068-d3bc-485b-a881-8b6f449b48ae"
      },
      "source": [
        "# Timestamped data can be convereted to period indices with to_period and vice versa with to_timestamp\n",
        "ts = pd.Series(range(10), pd.date_range('07-10-16 8:00', periods = 10, freq = 'H'))\n",
        "ts"
      ],
      "execution_count": 103,
      "outputs": [
        {
          "output_type": "execute_result",
          "data": {
            "text/plain": [
              "2016-07-10 08:00:00    0\n",
              "2016-07-10 09:00:00    1\n",
              "2016-07-10 10:00:00    2\n",
              "2016-07-10 11:00:00    3\n",
              "2016-07-10 12:00:00    4\n",
              "2016-07-10 13:00:00    5\n",
              "2016-07-10 14:00:00    6\n",
              "2016-07-10 15:00:00    7\n",
              "2016-07-10 16:00:00    8\n",
              "2016-07-10 17:00:00    9\n",
              "Freq: H, dtype: int64"
            ]
          },
          "metadata": {
            "tags": []
          },
          "execution_count": 103
        }
      ]
    },
    {
      "cell_type": "code",
      "metadata": {
        "id": "IMxMynExciSg",
        "colab_type": "code",
        "colab": {
          "base_uri": "https://localhost:8080/",
          "height": 204
        },
        "outputId": "9c2ae749-6464-4421-82d1-9f62ddc611e3"
      },
      "source": [
        "ts_period = ts.to_period()\n",
        "ts_period"
      ],
      "execution_count": 104,
      "outputs": [
        {
          "output_type": "execute_result",
          "data": {
            "text/plain": [
              "2016-07-10 08:00    0\n",
              "2016-07-10 09:00    1\n",
              "2016-07-10 10:00    2\n",
              "2016-07-10 11:00    3\n",
              "2016-07-10 12:00    4\n",
              "2016-07-10 13:00    5\n",
              "2016-07-10 14:00    6\n",
              "2016-07-10 15:00    7\n",
              "2016-07-10 16:00    8\n",
              "2016-07-10 17:00    9\n",
              "Freq: H, dtype: int64"
            ]
          },
          "metadata": {
            "tags": []
          },
          "execution_count": 104
        }
      ]
    },
    {
      "cell_type": "code",
      "metadata": {
        "id": "KIDg0kBH0VvT",
        "colab_type": "code",
        "colab": {
          "base_uri": "https://localhost:8080/",
          "height": 102
        },
        "outputId": "dc45a10d-e43d-4952-bf1d-e84a47a0124b"
      },
      "source": [
        "ts_period['2016-07-10 08:30':'2016-07-10 11:45'] # we have the concept of overlap with time periods"
      ],
      "execution_count": 105,
      "outputs": [
        {
          "output_type": "execute_result",
          "data": {
            "text/plain": [
              "2016-07-10 08:00    0\n",
              "2016-07-10 09:00    1\n",
              "2016-07-10 10:00    2\n",
              "2016-07-10 11:00    3\n",
              "Freq: H, dtype: int64"
            ]
          },
          "metadata": {
            "tags": []
          },
          "execution_count": 105
        }
      ]
    },
    {
      "cell_type": "code",
      "metadata": {
        "id": "zqJ-esX20VoF",
        "colab_type": "code",
        "colab": {
          "base_uri": "https://localhost:8080/",
          "height": 85
        },
        "outputId": "0c297851-6d8b-4b35-8641-5ecaea176312"
      },
      "source": [
        "ts['2016-07-10 08:30':'2016-07-10 11:45'] # we have the concept of include with timestamps"
      ],
      "execution_count": 106,
      "outputs": [
        {
          "output_type": "execute_result",
          "data": {
            "text/plain": [
              "2016-07-10 09:00:00    1\n",
              "2016-07-10 10:00:00    2\n",
              "2016-07-10 11:00:00    3\n",
              "Freq: H, dtype: int64"
            ]
          },
          "metadata": {
            "tags": []
          },
          "execution_count": 106
        }
      ]
    }
  ]
}