{
  "nbformat": 4,
  "nbformat_minor": 0,
  "metadata": {
    "colab": {
      "name": "Time Zone Handeling.ipynb",
      "provenance": [],
      "authorship_tag": "ABX9TyNdziTi5+46Zq/SmAP7NG5A",
      "include_colab_link": true
    },
    "kernelspec": {
      "name": "python3",
      "display_name": "Python 3"
    }
  },
  "cells": [
    {
      "cell_type": "markdown",
      "metadata": {
        "id": "view-in-github",
        "colab_type": "text"
      },
      "source": [
        "<a href=\"https://colab.research.google.com/github/roshanappa/Time-Series-Analysis-/blob/master/Time_Zone_Handeling.ipynb\" target=\"_parent\"><img src=\"https://colab.research.google.com/assets/colab-badge.svg\" alt=\"Open In Colab\"/></a>"
      ]
    },
    {
      "cell_type": "code",
      "metadata": {
        "id": "icc-i0YXC_kk",
        "colab_type": "code",
        "colab": {}
      },
      "source": [
        "import numpy as np\n",
        "import pandas as pd"
      ],
      "execution_count": 1,
      "outputs": []
    },
    {
      "cell_type": "code",
      "metadata": {
        "id": "Zq7v_XkCDJOc",
        "colab_type": "code",
        "colab": {}
      },
      "source": [
        "rng = pd.date_range('3/6/2012 00:00', periods = 15, freq = 'D')\n",
        "rng.tz"
      ],
      "execution_count": 2,
      "outputs": []
    },
    {
      "cell_type": "code",
      "metadata": {
        "id": "u3iT9lh-DJLI",
        "colab_type": "code",
        "colab": {
          "base_uri": "https://localhost:8080/",
          "height": 34
        },
        "outputId": "18a24375-ca70-4a7c-c4b8-6ac26541d558"
      },
      "source": [
        "\n",
        "rng_tz = pd.date_range('3/6/2012 00:00', periods = 15, freq = 'D', tz = 'Europe/London')\n",
        "rng_tz.tz"
      ],
      "execution_count": 3,
      "outputs": [
        {
          "output_type": "execute_result",
          "data": {
            "text/plain": [
              "<DstTzInfo 'Europe/London' LMT-1 day, 23:59:00 STD>"
            ]
          },
          "metadata": {
            "tags": []
          },
          "execution_count": 3
        }
      ]
    },
    {
      "cell_type": "code",
      "metadata": {
        "id": "EBeHj2FpDJG4",
        "colab_type": "code",
        "colab": {}
      },
      "source": [
        "from pytz import common_timezones, all_timezones"
      ],
      "execution_count": 4,
      "outputs": []
    },
    {
      "cell_type": "code",
      "metadata": {
        "id": "h_crBLmeDJDg",
        "colab_type": "code",
        "colab": {
          "base_uri": "https://localhost:8080/",
          "height": 51
        },
        "outputId": "c5c1cbad-ec02-40a4-9823-cddd0a5f9b8c"
      },
      "source": [
        "print(len(common_timezones))\n",
        "print(len(all_timezones))"
      ],
      "execution_count": 5,
      "outputs": [
        {
          "output_type": "stream",
          "text": [
            "440\n",
            "592\n"
          ],
          "name": "stdout"
        }
      ]
    },
    {
      "cell_type": "code",
      "metadata": {
        "id": "NJ5bNxfJDJAP",
        "colab_type": "code",
        "colab": {
          "base_uri": "https://localhost:8080/",
          "height": 54
        },
        "outputId": "7f1c2df9-60f5-4d24-ab94-317a19549591"
      },
      "source": [
        "print(set(all_timezones) - set(common_timezones))"
      ],
      "execution_count": 6,
      "outputs": [
        {
          "output_type": "stream",
          "text": [
            "{'PRC', 'EST5EDT', 'America/Louisville', 'Asia/Tel_Aviv', 'Canada/Yukon', 'Australia/ACT', 'America/Porto_Acre', 'Antarctica/South_Pole', 'Europe/Tiraspol', 'CST6CDT', 'Iceland', 'US/Indiana-Starke', 'America/Buenos_Aires', 'Asia/Ashkhabad', 'Eire', 'Australia/Queensland', 'Etc/GMT+11', 'Australia/Tasmania', 'Australia/West', 'Egypt', 'Asia/Macao', 'ROK', 'Australia/LHI', 'Etc/GMT-3', 'Asia/Dacca', 'America/Coral_Harbour', 'Asia/Katmandu', 'Greenwich', 'Etc/Zulu', 'Europe/Belfast', 'Etc/GMT-10', 'Asia/Ulan_Bator', 'Etc/GMT+12', 'MET', 'Israel', 'Brazil/Acre', 'Turkey', 'Africa/Timbuktu', 'Pacific/Johnston', 'GMT+0', 'Japan', 'WET', 'Etc/GMT-6', 'America/Santa_Isabel', 'Kwajalein', 'Etc/Universal', 'America/Jujuy', 'Iran', 'America/Argentina/ComodRivadavia', 'Brazil/East', 'Chile/Continental', 'Etc/GMT-13', 'Etc/UTC', 'Universal', 'Etc/GMT-4', 'Atlantic/Faeroe', 'Pacific/Samoa', 'Canada/Saskatchewan', 'Atlantic/Jan_Mayen', 'GB', 'Etc/GMT+3', 'America/Fort_Wayne', 'MST7MDT', 'Pacific/Ponape', 'Etc/GMT-5', 'America/Rosario', 'Asia/Rangoon', 'Etc/GMT-7', 'Etc/GMT-12', 'America/Montreal', 'Etc/GMT-2', 'Zulu', 'UCT', 'US/East-Indiana', 'HST', 'Portugal', 'CET', 'Libya', 'Etc/GMT-11', 'America/Ensenada', 'America/Cordoba', 'Australia/Victoria', 'Etc/GMT+0', 'Etc/GMT+9', 'America/Knox_IN', 'Asia/Chungking', 'Etc/GMT+10', 'Brazil/West', 'Asia/Saigon', 'PST8PDT', 'Poland', 'Etc/GMT-14', 'Asia/Chongqing', 'Australia/NSW', 'Europe/Nicosia', 'Etc/GMT0', 'Etc/UCT', 'US/Michigan', 'Africa/Asmera', 'NZ', 'US/Samoa', 'America/Mendoza', 'Pacific/Yap', 'Brazil/DeNoronha', 'Etc/GMT-1', 'Singapore', 'Etc/GMT-9', 'Mexico/General', 'Navajo', 'NZ-CHAT', 'Cuba', 'US/Aleutian', 'Chile/EasterIsland', 'Etc/GMT+8', 'Australia/North', 'Etc/GMT+1', 'Etc/GMT-8', 'Etc/GMT+4', 'Jamaica', 'Australia/Canberra', 'Etc/GMT-0', 'Pacific/Truk', 'W-SU', 'Asia/Istanbul', 'Etc/GMT+5', 'Hongkong', 'Mexico/BajaNorte', 'Etc/GMT+7', 'Etc/GMT+6', 'GMT-0', 'America/Virgin', 'EST', 'Asia/Calcutta', 'MST', 'Asia/Harbin', 'Mexico/BajaSur', 'Australia/South', 'EET', 'Etc/Greenwich', 'GMT0', 'Etc/GMT+2', 'America/Shiprock', 'America/Catamarca', 'America/Indianapolis', 'ROC', 'Asia/Ujung_Pandang', 'Australia/Yancowinna', 'Etc/GMT', 'GB-Eire', 'Asia/Kashgar', 'Asia/Thimbu', 'America/Atka'}\n"
          ],
          "name": "stdout"
        }
      ]
    },
    {
      "cell_type": "code",
      "metadata": {
        "id": "hlIjBJgHDI83",
        "colab_type": "code",
        "colab": {
          "base_uri": "https://localhost:8080/",
          "height": 34
        },
        "outputId": "5ef95d3c-7272-4606-9c96-29cab0573429"
      },
      "source": [
        "# You can also localize a naive timestamp\n",
        "t_naive = pd.Timestamp('2016-07-10 08:50')\n",
        "t_naive"
      ],
      "execution_count": 7,
      "outputs": [
        {
          "output_type": "execute_result",
          "data": {
            "text/plain": [
              "Timestamp('2016-07-10 08:50:00')"
            ]
          },
          "metadata": {
            "tags": []
          },
          "execution_count": 7
        }
      ]
    },
    {
      "cell_type": "code",
      "metadata": {
        "id": "mpallgnQDI5r",
        "colab_type": "code",
        "colab": {
          "base_uri": "https://localhost:8080/",
          "height": 34
        },
        "outputId": "a314c58d-be3d-41dc-a353-c6d0051e5634"
      },
      "source": [
        "t = t_naive.tz_localize(tz = 'US/Central')\n",
        "t"
      ],
      "execution_count": 8,
      "outputs": [
        {
          "output_type": "execute_result",
          "data": {
            "text/plain": [
              "Timestamp('2016-07-10 08:50:00-0500', tz='US/Central')"
            ]
          },
          "metadata": {
            "tags": []
          },
          "execution_count": 8
        }
      ]
    },
    {
      "cell_type": "code",
      "metadata": {
        "id": "kmCdrdpdDwst",
        "colab_type": "code",
        "colab": {
          "base_uri": "https://localhost:8080/",
          "height": 34
        },
        "outputId": "25943b43-32c1-4277-d1b2-f8714c338e00"
      },
      "source": [
        "t.tz_convert('Asia/Tokyo')"
      ],
      "execution_count": 9,
      "outputs": [
        {
          "output_type": "execute_result",
          "data": {
            "text/plain": [
              "Timestamp('2016-07-10 22:50:00+0900', tz='Asia/Tokyo')"
            ]
          },
          "metadata": {
            "tags": []
          },
          "execution_count": 9
        }
      ]
    },
    {
      "cell_type": "code",
      "metadata": {
        "id": "FAL3FJefDwmn",
        "colab_type": "code",
        "colab": {
          "base_uri": "https://localhost:8080/",
          "height": 204
        },
        "outputId": "df2670c9-a976-49dd-858d-3da91b4d3d5a"
      },
      "source": [
        "# how to handle daylight savings?\n",
        "rng = pd.date_range('2016-03-10', periods=10, tz='US/Central')\n",
        "ts = pd.Series(range(10), index=rng)\n",
        "ts"
      ],
      "execution_count": 10,
      "outputs": [
        {
          "output_type": "execute_result",
          "data": {
            "text/plain": [
              "2016-03-10 00:00:00-06:00    0\n",
              "2016-03-11 00:00:00-06:00    1\n",
              "2016-03-12 00:00:00-06:00    2\n",
              "2016-03-13 00:00:00-06:00    3\n",
              "2016-03-14 00:00:00-05:00    4\n",
              "2016-03-15 00:00:00-05:00    5\n",
              "2016-03-16 00:00:00-05:00    6\n",
              "2016-03-17 00:00:00-05:00    7\n",
              "2016-03-18 00:00:00-05:00    8\n",
              "2016-03-19 00:00:00-05:00    9\n",
              "Freq: D, dtype: int64"
            ]
          },
          "metadata": {
            "tags": []
          },
          "execution_count": 10
        }
      ]
    },
    {
      "cell_type": "code",
      "metadata": {
        "id": "cs9jDvAjDwij",
        "colab_type": "code",
        "colab": {
          "base_uri": "https://localhost:8080/",
          "height": 204
        },
        "outputId": "d2e690f5-7de9-48a3-d07c-095be272331e"
      },
      "source": [
        "rng = pd.date_range('2016-03-10', periods=10, tz='utc')\n",
        "ts = pd.Series(range(10), index=rng)\n",
        "ts"
      ],
      "execution_count": 11,
      "outputs": [
        {
          "output_type": "execute_result",
          "data": {
            "text/plain": [
              "2016-03-10 00:00:00+00:00    0\n",
              "2016-03-11 00:00:00+00:00    1\n",
              "2016-03-12 00:00:00+00:00    2\n",
              "2016-03-13 00:00:00+00:00    3\n",
              "2016-03-14 00:00:00+00:00    4\n",
              "2016-03-15 00:00:00+00:00    5\n",
              "2016-03-16 00:00:00+00:00    6\n",
              "2016-03-17 00:00:00+00:00    7\n",
              "2016-03-18 00:00:00+00:00    8\n",
              "2016-03-19 00:00:00+00:00    9\n",
              "Freq: D, dtype: int64"
            ]
          },
          "metadata": {
            "tags": []
          },
          "execution_count": 11
        }
      ]
    },
    {
      "cell_type": "code",
      "metadata": {
        "id": "T7RyVGUTDwd-",
        "colab_type": "code",
        "colab": {
          "base_uri": "https://localhost:8080/",
          "height": 204
        },
        "outputId": "b8ae1c02-1893-4d34-aa57-5bbe895bfc58"
      },
      "source": [
        "ts.tz_convert('US/Central')"
      ],
      "execution_count": 12,
      "outputs": [
        {
          "output_type": "execute_result",
          "data": {
            "text/plain": [
              "2016-03-09 18:00:00-06:00    0\n",
              "2016-03-10 18:00:00-06:00    1\n",
              "2016-03-11 18:00:00-06:00    2\n",
              "2016-03-12 18:00:00-06:00    3\n",
              "2016-03-13 19:00:00-05:00    4\n",
              "2016-03-14 19:00:00-05:00    5\n",
              "2016-03-15 19:00:00-05:00    6\n",
              "2016-03-16 19:00:00-05:00    7\n",
              "2016-03-17 19:00:00-05:00    8\n",
              "2016-03-18 19:00:00-05:00    9\n",
              "Freq: D, dtype: int64"
            ]
          },
          "metadata": {
            "tags": []
          },
          "execution_count": 12
        }
      ]
    },
    {
      "cell_type": "code",
      "metadata": {
        "id": "cZ7CKOecDI0e",
        "colab_type": "code",
        "colab": {
          "base_uri": "https://localhost:8080/",
          "height": 136
        },
        "outputId": "f48011e7-fc9b-4d53-f29c-c02be3b10181"
      },
      "source": [
        "pd.date_range('03-12-2016 22:00', periods = 12, freq = 'H', tz = 'US/Eastern')"
      ],
      "execution_count": 13,
      "outputs": [
        {
          "output_type": "execute_result",
          "data": {
            "text/plain": [
              "DatetimeIndex(['2016-03-12 22:00:00-05:00', '2016-03-12 23:00:00-05:00',\n",
              "               '2016-03-13 00:00:00-05:00', '2016-03-13 01:00:00-05:00',\n",
              "               '2016-03-13 03:00:00-04:00', '2016-03-13 04:00:00-04:00',\n",
              "               '2016-03-13 05:00:00-04:00', '2016-03-13 06:00:00-04:00',\n",
              "               '2016-03-13 07:00:00-04:00', '2016-03-13 08:00:00-04:00',\n",
              "               '2016-03-13 09:00:00-04:00', '2016-03-13 10:00:00-04:00'],\n",
              "              dtype='datetime64[ns, US/Eastern]', freq='H')"
            ]
          },
          "metadata": {
            "tags": []
          },
          "execution_count": 13
        }
      ]
    },
    {
      "cell_type": "markdown",
      "metadata": {
        "id": "zC1hqYeSEv18",
        "colab_type": "text"
      },
      "source": [
        "# Practice"
      ]
    },
    {
      "cell_type": "code",
      "metadata": {
        "id": "VPIHelZKFXA8",
        "colab_type": "code",
        "colab": {}
      },
      "source": [
        "from pytz import common_timezones,all_timezones,all_timezones_set,common_timezones_set"
      ],
      "execution_count": 17,
      "outputs": []
    },
    {
      "cell_type": "code",
      "metadata": {
        "id": "eY12zk7KFqrk",
        "colab_type": "code",
        "colab": {
          "base_uri": "https://localhost:8080/",
          "height": 54
        },
        "outputId": "b5ebd66b-7262-49e2-8579-90e034588f4c"
      },
      "source": [
        "print(set(all_timezones) - set(common_timezones))"
      ],
      "execution_count": 22,
      "outputs": [
        {
          "output_type": "stream",
          "text": [
            "{'PRC', 'EST5EDT', 'America/Louisville', 'Asia/Tel_Aviv', 'Canada/Yukon', 'Australia/ACT', 'America/Porto_Acre', 'Antarctica/South_Pole', 'Europe/Tiraspol', 'CST6CDT', 'Iceland', 'US/Indiana-Starke', 'America/Buenos_Aires', 'Asia/Ashkhabad', 'Eire', 'Australia/Queensland', 'Etc/GMT+11', 'Australia/Tasmania', 'Australia/West', 'Egypt', 'Asia/Macao', 'ROK', 'Australia/LHI', 'Etc/GMT-3', 'Asia/Dacca', 'America/Coral_Harbour', 'Asia/Katmandu', 'Greenwich', 'Etc/Zulu', 'Europe/Belfast', 'Etc/GMT-10', 'Asia/Ulan_Bator', 'Etc/GMT+12', 'MET', 'Israel', 'Brazil/Acre', 'Turkey', 'Africa/Timbuktu', 'Pacific/Johnston', 'GMT+0', 'Japan', 'WET', 'Etc/GMT-6', 'America/Santa_Isabel', 'Kwajalein', 'Etc/Universal', 'America/Jujuy', 'Iran', 'America/Argentina/ComodRivadavia', 'Brazil/East', 'Chile/Continental', 'Etc/GMT-13', 'Etc/UTC', 'Universal', 'Etc/GMT-4', 'Atlantic/Faeroe', 'Pacific/Samoa', 'Canada/Saskatchewan', 'Atlantic/Jan_Mayen', 'GB', 'Etc/GMT+3', 'America/Fort_Wayne', 'MST7MDT', 'Pacific/Ponape', 'Etc/GMT-5', 'America/Rosario', 'Asia/Rangoon', 'Etc/GMT-7', 'Etc/GMT-12', 'America/Montreal', 'Etc/GMT-2', 'Zulu', 'UCT', 'US/East-Indiana', 'HST', 'Portugal', 'CET', 'Libya', 'Etc/GMT-11', 'America/Ensenada', 'America/Cordoba', 'Australia/Victoria', 'Etc/GMT+0', 'Etc/GMT+9', 'America/Knox_IN', 'Asia/Chungking', 'Etc/GMT+10', 'Brazil/West', 'Asia/Saigon', 'PST8PDT', 'Poland', 'Etc/GMT-14', 'Asia/Chongqing', 'Australia/NSW', 'Europe/Nicosia', 'Etc/GMT0', 'Etc/UCT', 'US/Michigan', 'Africa/Asmera', 'NZ', 'US/Samoa', 'America/Mendoza', 'Pacific/Yap', 'Brazil/DeNoronha', 'Etc/GMT-1', 'Singapore', 'Etc/GMT-9', 'Mexico/General', 'Navajo', 'NZ-CHAT', 'Cuba', 'US/Aleutian', 'Chile/EasterIsland', 'Etc/GMT+8', 'Australia/North', 'Etc/GMT+1', 'Etc/GMT-8', 'Etc/GMT+4', 'Jamaica', 'Australia/Canberra', 'Etc/GMT-0', 'Pacific/Truk', 'W-SU', 'Asia/Istanbul', 'Etc/GMT+5', 'Hongkong', 'Mexico/BajaNorte', 'Etc/GMT+7', 'Etc/GMT+6', 'GMT-0', 'America/Virgin', 'EST', 'Asia/Calcutta', 'MST', 'Asia/Harbin', 'Mexico/BajaSur', 'Australia/South', 'EET', 'Etc/Greenwich', 'GMT0', 'Etc/GMT+2', 'America/Shiprock', 'America/Catamarca', 'America/Indianapolis', 'ROC', 'Asia/Ujung_Pandang', 'Australia/Yancowinna', 'Etc/GMT', 'GB-Eire', 'Asia/Kashgar', 'Asia/Thimbu', 'America/Atka'}\n"
          ],
          "name": "stdout"
        }
      ]
    },
    {
      "cell_type": "code",
      "metadata": {
        "id": "KBI3_54xEbnb",
        "colab_type": "code",
        "colab": {}
      },
      "source": [
        "date_range = pd.date_range(start='2020/01/01 12:00:11',freq='D',tz = 'Brazil/East',periods=12)"
      ],
      "execution_count": 33,
      "outputs": []
    },
    {
      "cell_type": "code",
      "metadata": {
        "id": "bGAhw4BjEttH",
        "colab_type": "code",
        "colab": {
          "base_uri": "https://localhost:8080/",
          "height": 136
        },
        "outputId": "6f4a3d0a-8b41-432d-ecac-4fc5979b2885"
      },
      "source": [
        "date_range"
      ],
      "execution_count": 34,
      "outputs": [
        {
          "output_type": "execute_result",
          "data": {
            "text/plain": [
              "DatetimeIndex(['2020-01-01 12:00:11-02:00', '2020-01-02 12:00:11-02:00',\n",
              "               '2020-01-03 12:00:11-02:00', '2020-01-04 12:00:11-02:00',\n",
              "               '2020-01-05 12:00:11-02:00', '2020-01-06 12:00:11-02:00',\n",
              "               '2020-01-07 12:00:11-02:00', '2020-01-08 12:00:11-02:00',\n",
              "               '2020-01-09 12:00:11-02:00', '2020-01-10 12:00:11-02:00',\n",
              "               '2020-01-11 12:00:11-02:00', '2020-01-12 12:00:11-02:00'],\n",
              "              dtype='datetime64[ns, Brazil/East]', freq='D')"
            ]
          },
          "metadata": {
            "tags": []
          },
          "execution_count": 34
        }
      ]
    },
    {
      "cell_type": "code",
      "metadata": {
        "id": "ftR3QWSPEtn9",
        "colab_type": "code",
        "colab": {}
      },
      "source": [
        "date_range = pd.date_range(start='2020/01/01 12:00:11',end='2020/12/31 12:00:11',freq='M',tz = 'Brazil/East')"
      ],
      "execution_count": 38,
      "outputs": []
    },
    {
      "cell_type": "code",
      "metadata": {
        "id": "07BoQ0b5EtkP",
        "colab_type": "code",
        "colab": {
          "base_uri": "https://localhost:8080/",
          "height": 136
        },
        "outputId": "aa1b6d66-9dd3-4711-eb2e-99186aff929f"
      },
      "source": [
        "date_range"
      ],
      "execution_count": 39,
      "outputs": [
        {
          "output_type": "execute_result",
          "data": {
            "text/plain": [
              "DatetimeIndex(['2020-01-31 12:00:11-02:00', '2020-02-29 12:00:11-03:00',\n",
              "               '2020-03-31 12:00:11-03:00', '2020-04-30 12:00:11-03:00',\n",
              "               '2020-05-31 12:00:11-03:00', '2020-06-30 12:00:11-03:00',\n",
              "               '2020-07-31 12:00:11-03:00', '2020-08-31 12:00:11-03:00',\n",
              "               '2020-09-30 12:00:11-03:00', '2020-10-31 12:00:11-03:00',\n",
              "               '2020-11-30 12:00:11-02:00', '2020-12-31 12:00:11-02:00'],\n",
              "              dtype='datetime64[ns, Brazil/East]', freq='M')"
            ]
          },
          "metadata": {
            "tags": []
          },
          "execution_count": 39
        }
      ]
    },
    {
      "cell_type": "code",
      "metadata": {
        "id": "L7QFEynnHj53",
        "colab_type": "code",
        "colab": {}
      },
      "source": [
        "TimeStamp = pd.Timestamp('2012/12/01',tz='Iran')"
      ],
      "execution_count": 40,
      "outputs": []
    },
    {
      "cell_type": "code",
      "metadata": {
        "id": "ytptQSrPHj0H",
        "colab_type": "code",
        "colab": {
          "base_uri": "https://localhost:8080/",
          "height": 34
        },
        "outputId": "e827cf12-eb84-48d3-95dc-9f4b92d3f003"
      },
      "source": [
        "TimeStamp.tz_convert('Etc/Universal')"
      ],
      "execution_count": 44,
      "outputs": [
        {
          "output_type": "execute_result",
          "data": {
            "text/plain": [
              "Timestamp('2012-11-30 20:30:00+0000', tz='Etc/Universal')"
            ]
          },
          "metadata": {
            "tags": []
          },
          "execution_count": 44
        }
      ]
    },
    {
      "cell_type": "code",
      "metadata": {
        "id": "yTz3VjAHHjuP",
        "colab_type": "code",
        "colab": {
          "base_uri": "https://localhost:8080/",
          "height": 35
        },
        "outputId": "7fee7daf-2c5c-4ea6-9d76-25f4910701cd"
      },
      "source": [
        "TimeStamp.tzname()"
      ],
      "execution_count": 48,
      "outputs": [
        {
          "output_type": "execute_result",
          "data": {
            "application/vnd.google.colaboratory.intrinsic": {
              "type": "string"
            },
            "text/plain": [
              "'+0330'"
            ]
          },
          "metadata": {
            "tags": []
          },
          "execution_count": 48
        }
      ]
    },
    {
      "cell_type": "code",
      "metadata": {
        "id": "jDyqHTbTILsD",
        "colab_type": "code",
        "colab": {}
      },
      "source": [
        "TimeStamp2 = pd.Timestamp('2012/12/01')"
      ],
      "execution_count": 52,
      "outputs": []
    },
    {
      "cell_type": "code",
      "metadata": {
        "id": "1LhUDs24ILlP",
        "colab_type": "code",
        "colab": {
          "base_uri": "https://localhost:8080/",
          "height": 34
        },
        "outputId": "f4a9ced7-4a5b-4897-9b23-e9498e4b893a"
      },
      "source": [
        "TimeStamp2.tz_localize(tz='America/Argentina/ComodRivadavia')"
      ],
      "execution_count": 53,
      "outputs": [
        {
          "output_type": "execute_result",
          "data": {
            "text/plain": [
              "Timestamp('2012-12-01 00:00:00-0300', tz='America/Argentina/ComodRivadavia')"
            ]
          },
          "metadata": {
            "tags": []
          },
          "execution_count": 53
        }
      ]
    }
  ]
}