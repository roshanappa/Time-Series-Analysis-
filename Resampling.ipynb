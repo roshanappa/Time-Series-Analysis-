{
  "nbformat": 4,
  "nbformat_minor": 0,
  "metadata": {
    "colab": {
      "name": "Resampling.ipynb",
      "provenance": [],
      "authorship_tag": "ABX9TyO7ayNDslTlj7HLVUgToFRv",
      "include_colab_link": true
    },
    "kernelspec": {
      "name": "python3",
      "display_name": "Python 3"
    }
  },
  "cells": [
    {
      "cell_type": "markdown",
      "metadata": {
        "id": "view-in-github",
        "colab_type": "text"
      },
      "source": [
        "<a href=\"https://colab.research.google.com/github/roshanappa/Time-Series-Analysis-/blob/master/Resampling.ipynb\" target=\"_parent\"><img src=\"https://colab.research.google.com/assets/colab-badge.svg\" alt=\"Open In Colab\"/></a>"
      ]
    },
    {
      "cell_type": "code",
      "metadata": {
        "id": "1TWzFETXWWzE",
        "colab_type": "code",
        "colab": {}
      },
      "source": [
        "import pandas as pd\n",
        "import numpy as np"
      ],
      "execution_count": 1,
      "outputs": []
    },
    {
      "cell_type": "code",
      "metadata": {
        "id": "p8w0ZKiPWt8i",
        "colab_type": "code",
        "colab": {}
      },
      "source": [
        "rng = pd.date_range('1/1/2011', periods=72, freq='H')\n",
        "ts = pd.Series(np.random.randn(len(rng)), index=rng)"
      ],
      "execution_count": 2,
      "outputs": []
    },
    {
      "cell_type": "code",
      "metadata": {
        "id": "ZxW7awTtWt5L",
        "colab_type": "code",
        "colab": {
          "base_uri": "https://localhost:8080/",
          "height": 221
        },
        "outputId": "4952a126-2c2d-458f-abe7-a51f17a04102"
      },
      "source": [
        "ts"
      ],
      "execution_count": 3,
      "outputs": [
        {
          "output_type": "execute_result",
          "data": {
            "text/plain": [
              "2011-01-01 00:00:00   -1.787685\n",
              "2011-01-01 01:00:00   -0.139907\n",
              "2011-01-01 02:00:00   -0.658110\n",
              "2011-01-01 03:00:00   -1.156436\n",
              "2011-01-01 04:00:00   -0.844925\n",
              "                         ...   \n",
              "2011-01-03 19:00:00    0.546443\n",
              "2011-01-03 20:00:00   -0.999631\n",
              "2011-01-03 21:00:00   -0.937119\n",
              "2011-01-03 22:00:00   -1.479879\n",
              "2011-01-03 23:00:00    0.518063\n",
              "Freq: H, Length: 72, dtype: float64"
            ]
          },
          "metadata": {
            "tags": []
          },
          "execution_count": 3
        }
      ]
    },
    {
      "cell_type": "code",
      "metadata": {
        "id": "sJxhPKW9Wt2E",
        "colab_type": "code",
        "colab": {}
      },
      "source": [
        "converted_ser = ts.asfreq('45Min',method='pad')"
      ],
      "execution_count": 4,
      "outputs": []
    },
    {
      "cell_type": "code",
      "metadata": {
        "id": "06MWxsGgWtyw",
        "colab_type": "code",
        "colab": {
          "base_uri": "https://localhost:8080/",
          "height": 221
        },
        "outputId": "8613107e-1aca-498b-fc39-ab4b400453d7"
      },
      "source": [
        "converted_ser"
      ],
      "execution_count": 5,
      "outputs": [
        {
          "output_type": "execute_result",
          "data": {
            "text/plain": [
              "2011-01-01 00:00:00   -1.787685\n",
              "2011-01-01 00:45:00   -1.787685\n",
              "2011-01-01 01:30:00   -0.139907\n",
              "2011-01-01 02:15:00   -0.658110\n",
              "2011-01-01 03:00:00   -1.156436\n",
              "                         ...   \n",
              "2011-01-03 19:30:00    0.546443\n",
              "2011-01-03 20:15:00   -0.999631\n",
              "2011-01-03 21:00:00   -0.937119\n",
              "2011-01-03 21:45:00   -0.937119\n",
              "2011-01-03 22:30:00   -1.479879\n",
              "Freq: 45T, Length: 95, dtype: float64"
            ]
          },
          "metadata": {
            "tags": []
          },
          "execution_count": 5
        }
      ]
    },
    {
      "cell_type": "code",
      "metadata": {
        "id": "j7uhVe1sWtvh",
        "colab_type": "code",
        "colab": {
          "base_uri": "https://localhost:8080/",
          "height": 221
        },
        "outputId": "a7f76fde-7ff1-4aea-a1da-b19835b4b222"
      },
      "source": [
        "Converted_fflill = ts.asfreq('45Min',fill_value=10)\n",
        "Converted_fflill"
      ],
      "execution_count": 7,
      "outputs": [
        {
          "output_type": "execute_result",
          "data": {
            "text/plain": [
              "2011-01-01 00:00:00    -1.787685\n",
              "2011-01-01 00:45:00    10.000000\n",
              "2011-01-01 01:30:00    10.000000\n",
              "2011-01-01 02:15:00    10.000000\n",
              "2011-01-01 03:00:00    -1.156436\n",
              "                         ...    \n",
              "2011-01-03 19:30:00    10.000000\n",
              "2011-01-03 20:15:00    10.000000\n",
              "2011-01-03 21:00:00    -0.937119\n",
              "2011-01-03 21:45:00    10.000000\n",
              "2011-01-03 22:30:00    10.000000\n",
              "Freq: 45T, Length: 95, dtype: float64"
            ]
          },
          "metadata": {
            "tags": []
          },
          "execution_count": 7
        }
      ]
    },
    {
      "cell_type": "code",
      "metadata": {
        "id": "3XbmZS6_WtsP",
        "colab_type": "code",
        "colab": {}
      },
      "source": [
        "# What do the different methods do?\n",
        "# method : {‘backfill’, ‘bfill’, ‘pad’, ‘ffill’, None}\n",
        "# Might any of these methods have pitfalls from a logical point of view?\n",
        "# What's the difference between going to a higher frequency and a lower frequency?"
      ],
      "execution_count": 10,
      "outputs": []
    },
    {
      "cell_type": "code",
      "metadata": {
        "id": "rdKXhovcWto-",
        "colab_type": "code",
        "colab": {}
      },
      "source": [
        "converted = ts.asfreq('90Min', method = 'bfill')"
      ],
      "execution_count": 11,
      "outputs": []
    },
    {
      "cell_type": "code",
      "metadata": {
        "id": "McLl9a44Wtl2",
        "colab_type": "code",
        "colab": {
          "base_uri": "https://localhost:8080/",
          "height": 408
        },
        "outputId": "2998bb19-b777-4bce-b270-70d5f9ebb950"
      },
      "source": [
        "converted[:22]"
      ],
      "execution_count": 14,
      "outputs": [
        {
          "output_type": "execute_result",
          "data": {
            "text/plain": [
              "2011-01-01 00:00:00   -1.787685\n",
              "2011-01-01 01:30:00   -0.658110\n",
              "2011-01-01 03:00:00   -1.156436\n",
              "2011-01-01 04:30:00   -0.004935\n",
              "2011-01-01 06:00:00    0.049111\n",
              "2011-01-01 07:30:00    0.462268\n",
              "2011-01-01 09:00:00   -1.792526\n",
              "2011-01-01 10:30:00   -1.137560\n",
              "2011-01-01 12:00:00    0.936049\n",
              "2011-01-01 13:30:00   -0.736445\n",
              "2011-01-01 15:00:00    0.080405\n",
              "2011-01-01 16:30:00    0.219571\n",
              "2011-01-01 18:00:00   -0.307916\n",
              "2011-01-01 19:30:00    0.566563\n",
              "2011-01-01 21:00:00   -2.111667\n",
              "2011-01-01 22:30:00    0.689389\n",
              "2011-01-02 00:00:00   -0.169253\n",
              "2011-01-02 01:30:00    0.788033\n",
              "2011-01-02 03:00:00    1.505911\n",
              "2011-01-02 04:30:00    0.260340\n",
              "2011-01-02 06:00:00    0.163394\n",
              "2011-01-02 07:30:00   -0.287407\n",
              "Freq: 90T, dtype: float64"
            ]
          },
          "metadata": {
            "tags": []
          },
          "execution_count": 14
        }
      ]
    },
    {
      "cell_type": "code",
      "metadata": {
        "id": "vSLAqeSiWtgf",
        "colab_type": "code",
        "colab": {}
      },
      "source": [
        "# What's different logically about going to a higher frequency vs a lower frequency? \n",
        "# What do you want to do when switching to a lower freqeuncy that is not logical when switching to a higher frequency?"
      ],
      "execution_count": 15,
      "outputs": []
    },
    {
      "cell_type": "code",
      "metadata": {
        "id": "CFVYm0ptZKuX",
        "colab_type": "code",
        "colab": {
          "base_uri": "https://localhost:8080/",
          "height": 85
        },
        "outputId": "6f9255cd-c08b-4236-9a87-45e91f8c38d7"
      },
      "source": [
        "ts.resample('D').sum()"
      ],
      "execution_count": 17,
      "outputs": [
        {
          "output_type": "execute_result",
          "data": {
            "text/plain": [
              "2011-01-01    -5.527705\n",
              "2011-01-02     2.185751\n",
              "2011-01-03   -10.013289\n",
              "Freq: D, dtype: float64"
            ]
          },
          "metadata": {
            "tags": []
          },
          "execution_count": 17
        }
      ]
    },
    {
      "cell_type": "code",
      "metadata": {
        "id": "XvoTtFUGZKp4",
        "colab_type": "code",
        "colab": {}
      },
      "source": [
        "# What if you want to downsample and you don't want to ffill or bfill?\n",
        "# What is the difference between .resample() and .asfreq()?\n",
        "# What are some special things you can do with .resample() you can't do with .asfreq()?"
      ],
      "execution_count": 18,
      "outputs": []
    }
  ]
}