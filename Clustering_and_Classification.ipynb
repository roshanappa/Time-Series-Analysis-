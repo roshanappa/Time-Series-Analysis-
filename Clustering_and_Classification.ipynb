{
  "nbformat": 4,
  "nbformat_minor": 0,
  "metadata": {
    "colab": {
      "name": "Clustering and Classification.ipynb",
      "provenance": [],
      "authorship_tag": "ABX9TyNWZXQvH6BNpYmfl2z/jImw",
      "include_colab_link": true
    },
    "kernelspec": {
      "name": "python3",
      "display_name": "Python 3"
    }
  },
  "cells": [
    {
      "cell_type": "markdown",
      "metadata": {
        "id": "view-in-github",
        "colab_type": "text"
      },
      "source": [
        "<a href=\"https://colab.research.google.com/github/roshanappa/Time-Series-Analysis-/blob/master/Clustering_and_Classification.ipynb\" target=\"_parent\"><img src=\"https://colab.research.google.com/assets/colab-badge.svg\" alt=\"Open In Colab\"/></a>"
      ]
    },
    {
      "cell_type": "code",
      "metadata": {
        "id": "QyVWAmGjZWOk",
        "colab_type": "code",
        "colab": {}
      },
      "source": [
        "import matplotlib.pylab as plt\n",
        "%matplotlib inline\n",
        "from matplotlib.pylab import rcParams\n",
        "rcParams['figure.figsize'] = 15, 6\n",
        "\n",
        "from datetime import datetime\n",
        "from scipy.cluster.hierarchy import dendrogram, linkage\n",
        "\n",
        "from datetime import datetime\n",
        "import pandas as pd\n",
        "import numpy as np\n",
        "from sklearn.metrics.pairwise import pairwise_distances\n",
        "from math import sqrt\n",
        "from scipy.spatial.distance import squareform"
      ],
      "execution_count": 2,
      "outputs": []
    },
    {
      "cell_type": "code",
      "metadata": {
        "id": "gl-gHuw0anQc",
        "colab_type": "code",
        "colab": {}
      },
      "source": [
        "words = pd.read_csv('/content/50words_TEST.csv')"
      ],
      "execution_count": 5,
      "outputs": []
    },
    {
      "cell_type": "code",
      "metadata": {
        "id": "EMLYtpbwbFBT",
        "colab_type": "code",
        "colab": {
          "base_uri": "https://localhost:8080/",
          "height": 34
        },
        "outputId": "08a6a997-3474-440e-da47-cac275958f94"
      },
      "source": [
        ""
      ],
      "execution_count": 9,
      "outputs": [
        {
          "output_type": "execute_result",
          "data": {
            "text/plain": [
              "pandas.core.frame.DataFrame"
            ]
          },
          "metadata": {
            "tags": []
          },
          "execution_count": 9
        }
      ]
    },
    {
      "cell_type": "code",
      "metadata": {
        "id": "wDPG5XnJanNC",
        "colab_type": "code",
        "colab": {}
      },
      "source": [
        "test = words.iloc[:, 1:]"
      ],
      "execution_count": 12,
      "outputs": []
    },
    {
      "cell_type": "code",
      "metadata": {
        "id": "ehctOXqaanJi",
        "colab_type": "code",
        "colab": {}
      },
      "source": [
        "\n",
        "a = lambda x, y: x[0] + y[0]\n",
        "p = pairwise_distances(test, metric = 'euclidean')"
      ],
      "execution_count": 15,
      "outputs": []
    },
    {
      "cell_type": "code",
      "metadata": {
        "id": "SgxzT0DTanFI",
        "colab_type": "code",
        "colab": {}
      },
      "source": [
        "p.shape\n",
        "Z = linkage(p, method='ward')"
      ],
      "execution_count": 17,
      "outputs": []
    },
    {
      "cell_type": "code",
      "metadata": {
        "id": "wNllq8e9aa_U",
        "colab_type": "code",
        "colab": {
          "base_uri": "https://localhost:8080/",
          "height": 136
        },
        "outputId": "ee38c140-9000-418a-d687-14eea1c860dc"
      },
      "source": [
        "Z"
      ],
      "execution_count": 19,
      "outputs": [
        {
          "output_type": "execute_result",
          "data": {
            "text/plain": [
              "array([[  43.        ,  140.        ,    9.68645189,    2.        ],\n",
              "       [  92.        ,  297.        ,    9.78666505,    2.        ],\n",
              "       [ 204.        ,  345.        ,   11.24263889,    2.        ],\n",
              "       ...,\n",
              "       [ 899.        ,  901.        ,  652.47818862,  138.        ],\n",
              "       [ 902.        ,  903.        ,  765.43214454,  316.        ],\n",
              "       [ 904.        ,  905.        , 1174.78554861,  454.        ]])"
            ]
          },
          "metadata": {
            "tags": []
          },
          "execution_count": 19
        }
      ]
    },
    {
      "cell_type": "code",
      "metadata": {
        "id": "I0JenL7Saa7s",
        "colab_type": "code",
        "colab": {
          "base_uri": "https://localhost:8080/",
          "height": 253
        },
        "outputId": "2ea30bf0-156e-4ef7-e150-8975d83bf197"
      },
      "source": [
        "words.head()"
      ],
      "execution_count": 20,
      "outputs": [
        {
          "output_type": "execute_result",
          "data": {
            "text/html": [
              "<div>\n",
              "<style scoped>\n",
              "    .dataframe tbody tr th:only-of-type {\n",
              "        vertical-align: middle;\n",
              "    }\n",
              "\n",
              "    .dataframe tbody tr th {\n",
              "        vertical-align: top;\n",
              "    }\n",
              "\n",
              "    .dataframe thead th {\n",
              "        text-align: right;\n",
              "    }\n",
              "</style>\n",
              "<table border=\"1\" class=\"dataframe\">\n",
              "  <thead>\n",
              "    <tr style=\"text-align: right;\">\n",
              "      <th></th>\n",
              "      <th>4</th>\n",
              "      <th>-0.89094</th>\n",
              "      <th>-0.86099</th>\n",
              "      <th>-0.82438</th>\n",
              "      <th>-0.78214</th>\n",
              "      <th>-0.73573</th>\n",
              "      <th>-0.68691</th>\n",
              "      <th>-0.63754</th>\n",
              "      <th>-0.58937</th>\n",
              "      <th>-0.54342</th>\n",
              "      <th>-0.50044</th>\n",
              "      <th>-0.46082</th>\n",
              "      <th>-0.42469</th>\n",
              "      <th>-0.3924</th>\n",
              "      <th>-0.36389</th>\n",
              "      <th>-0.33906</th>\n",
              "      <th>-0.31795</th>\n",
              "      <th>-0.30056</th>\n",
              "      <th>-0.28692</th>\n",
              "      <th>-0.27727</th>\n",
              "      <th>-0.27105</th>\n",
              "      <th>-0.26777</th>\n",
              "      <th>-0.26678</th>\n",
              "      <th>-0.26742</th>\n",
              "      <th>-0.26927</th>\n",
              "      <th>-0.27202</th>\n",
              "      <th>-0.27529</th>\n",
              "      <th>-0.27898</th>\n",
              "      <th>-0.2832</th>\n",
              "      <th>-0.28814</th>\n",
              "      <th>-0.29431</th>\n",
              "      <th>-0.30185</th>\n",
              "      <th>-0.31086</th>\n",
              "      <th>-0.32135</th>\n",
              "      <th>-0.33326</th>\n",
              "      <th>-0.3465</th>\n",
              "      <th>-0.36103</th>\n",
              "      <th>-0.37659</th>\n",
              "      <th>-0.39297</th>\n",
              "      <th>-0.40995</th>\n",
              "      <th>...</th>\n",
              "      <th>0.052471</th>\n",
              "      <th>-0.01492</th>\n",
              "      <th>-0.082568</th>\n",
              "      <th>-0.14848</th>\n",
              "      <th>-0.21193</th>\n",
              "      <th>-0.27229</th>\n",
              "      <th>-0.32905</th>\n",
              "      <th>-0.38303</th>\n",
              "      <th>-0.43222</th>\n",
              "      <th>-0.47628</th>\n",
              "      <th>-0.51587</th>\n",
              "      <th>-0.55188</th>\n",
              "      <th>-0.58534</th>\n",
              "      <th>-0.61763</th>\n",
              "      <th>-0.64653</th>\n",
              "      <th>-0.67227</th>\n",
              "      <th>-0.69521</th>\n",
              "      <th>-0.71576</th>\n",
              "      <th>-0.73517</th>\n",
              "      <th>-0.75286</th>\n",
              "      <th>-0.76798</th>\n",
              "      <th>-0.7812</th>\n",
              "      <th>-0.79326</th>\n",
              "      <th>-0.80474</th>\n",
              "      <th>-0.81719</th>\n",
              "      <th>-0.82831</th>\n",
              "      <th>-0.83768</th>\n",
              "      <th>-0.84538</th>\n",
              "      <th>-0.85165</th>\n",
              "      <th>-0.85731</th>\n",
              "      <th>-0.86309</th>\n",
              "      <th>-0.86791</th>\n",
              "      <th>-0.87271</th>\n",
              "      <th>-0.87846</th>\n",
              "      <th>-0.88592</th>\n",
              "      <th>-0.89619</th>\n",
              "      <th>-0.90783</th>\n",
              "      <th>-0.91942</th>\n",
              "      <th>-0.93018</th>\n",
              "      <th>-0.93939</th>\n",
              "    </tr>\n",
              "  </thead>\n",
              "  <tbody>\n",
              "    <tr>\n",
              "      <th>0</th>\n",
              "      <td>12</td>\n",
              "      <td>-0.78346</td>\n",
              "      <td>-0.68562</td>\n",
              "      <td>-0.58409</td>\n",
              "      <td>-0.47946</td>\n",
              "      <td>-0.37398</td>\n",
              "      <td>-0.27008</td>\n",
              "      <td>-0.17225</td>\n",
              "      <td>-0.087463</td>\n",
              "      <td>-0.019191</td>\n",
              "      <td>0.035301</td>\n",
              "      <td>0.080601</td>\n",
              "      <td>0.12121</td>\n",
              "      <td>0.16167</td>\n",
              "      <td>0.202230</td>\n",
              "      <td>0.239730</td>\n",
              "      <td>0.27386</td>\n",
              "      <td>0.305240</td>\n",
              "      <td>0.334170</td>\n",
              "      <td>0.364750</td>\n",
              "      <td>0.399670</td>\n",
              "      <td>0.436950</td>\n",
              "      <td>0.474700</td>\n",
              "      <td>0.509190</td>\n",
              "      <td>0.534400</td>\n",
              "      <td>0.547550</td>\n",
              "      <td>0.549650</td>\n",
              "      <td>0.542360</td>\n",
              "      <td>0.529090</td>\n",
              "      <td>0.515230</td>\n",
              "      <td>0.503070</td>\n",
              "      <td>0.491830</td>\n",
              "      <td>0.48213</td>\n",
              "      <td>0.472450</td>\n",
              "      <td>0.459290</td>\n",
              "      <td>0.443090</td>\n",
              "      <td>0.424040</td>\n",
              "      <td>0.400530</td>\n",
              "      <td>0.375850</td>\n",
              "      <td>0.35189</td>\n",
              "      <td>...</td>\n",
              "      <td>0.71107</td>\n",
              "      <td>0.64773</td>\n",
              "      <td>0.57989</td>\n",
              "      <td>0.50674</td>\n",
              "      <td>0.42767</td>\n",
              "      <td>0.34155</td>\n",
              "      <td>0.24849</td>\n",
              "      <td>0.15221</td>\n",
              "      <td>0.056228</td>\n",
              "      <td>-0.036684</td>\n",
              "      <td>-0.12352</td>\n",
              "      <td>-0.20472</td>\n",
              "      <td>-0.28299</td>\n",
              "      <td>-0.35917</td>\n",
              "      <td>-0.43397</td>\n",
              "      <td>-0.50794</td>\n",
              "      <td>-0.57864</td>\n",
              "      <td>-0.64302</td>\n",
              "      <td>-0.70017</td>\n",
              "      <td>-0.74901</td>\n",
              "      <td>-0.78785</td>\n",
              "      <td>-0.81818</td>\n",
              "      <td>-0.84200</td>\n",
              "      <td>-0.85809</td>\n",
              "      <td>-0.86830</td>\n",
              "      <td>-0.87519</td>\n",
              "      <td>-0.87721</td>\n",
              "      <td>-0.87661</td>\n",
              "      <td>-0.87728</td>\n",
              "      <td>-0.87899</td>\n",
              "      <td>-0.88318</td>\n",
              "      <td>-0.89189</td>\n",
              "      <td>-0.90290</td>\n",
              "      <td>-0.91427</td>\n",
              "      <td>-0.92668</td>\n",
              "      <td>-0.93966</td>\n",
              "      <td>-0.95244</td>\n",
              "      <td>-0.96623</td>\n",
              "      <td>-0.9805</td>\n",
              "      <td>-0.99178</td>\n",
              "    </tr>\n",
              "    <tr>\n",
              "      <th>1</th>\n",
              "      <td>13</td>\n",
              "      <td>-1.32560</td>\n",
              "      <td>-1.28430</td>\n",
              "      <td>-1.21970</td>\n",
              "      <td>-1.15670</td>\n",
              "      <td>-1.09980</td>\n",
              "      <td>-1.04960</td>\n",
              "      <td>-1.01550</td>\n",
              "      <td>-0.996720</td>\n",
              "      <td>-0.985040</td>\n",
              "      <td>-0.971990</td>\n",
              "      <td>-0.964030</td>\n",
              "      <td>-0.96355</td>\n",
              "      <td>-0.96236</td>\n",
              "      <td>-0.950770</td>\n",
              "      <td>-0.917330</td>\n",
              "      <td>-0.87105</td>\n",
              "      <td>-0.817930</td>\n",
              "      <td>-0.760640</td>\n",
              "      <td>-0.701060</td>\n",
              "      <td>-0.644150</td>\n",
              "      <td>-0.594710</td>\n",
              "      <td>-0.529310</td>\n",
              "      <td>-0.409210</td>\n",
              "      <td>-0.205990</td>\n",
              "      <td>0.066333</td>\n",
              "      <td>0.344810</td>\n",
              "      <td>0.565100</td>\n",
              "      <td>0.703590</td>\n",
              "      <td>0.785270</td>\n",
              "      <td>0.840450</td>\n",
              "      <td>0.870940</td>\n",
              "      <td>0.85764</td>\n",
              "      <td>0.775790</td>\n",
              "      <td>0.634510</td>\n",
              "      <td>0.480380</td>\n",
              "      <td>0.351620</td>\n",
              "      <td>0.241000</td>\n",
              "      <td>0.115930</td>\n",
              "      <td>-0.02214</td>\n",
              "      <td>...</td>\n",
              "      <td>-0.44351</td>\n",
              "      <td>-0.43741</td>\n",
              "      <td>-0.44448</td>\n",
              "      <td>-0.45708</td>\n",
              "      <td>-0.46691</td>\n",
              "      <td>-0.47419</td>\n",
              "      <td>-0.47495</td>\n",
              "      <td>-0.46916</td>\n",
              "      <td>-0.456730</td>\n",
              "      <td>-0.439730</td>\n",
              "      <td>-0.42135</td>\n",
              "      <td>-0.40614</td>\n",
              "      <td>-0.40352</td>\n",
              "      <td>-0.41293</td>\n",
              "      <td>-0.42965</td>\n",
              "      <td>-0.44611</td>\n",
              "      <td>-0.45623</td>\n",
              "      <td>-0.46585</td>\n",
              "      <td>-0.48431</td>\n",
              "      <td>-0.52010</td>\n",
              "      <td>-0.56853</td>\n",
              "      <td>-0.61788</td>\n",
              "      <td>-0.65943</td>\n",
              "      <td>-0.68651</td>\n",
              "      <td>-0.70204</td>\n",
              "      <td>-0.71318</td>\n",
              "      <td>-0.72646</td>\n",
              "      <td>-0.74568</td>\n",
              "      <td>-0.77144</td>\n",
              "      <td>-0.80390</td>\n",
              "      <td>-0.83499</td>\n",
              "      <td>-0.86204</td>\n",
              "      <td>-0.88559</td>\n",
              "      <td>-0.90454</td>\n",
              "      <td>-0.93353</td>\n",
              "      <td>-0.99135</td>\n",
              "      <td>-1.06910</td>\n",
              "      <td>-1.13680</td>\n",
              "      <td>-1.1980</td>\n",
              "      <td>-1.27000</td>\n",
              "    </tr>\n",
              "    <tr>\n",
              "      <th>2</th>\n",
              "      <td>23</td>\n",
              "      <td>-1.09370</td>\n",
              "      <td>-1.04200</td>\n",
              "      <td>-0.99840</td>\n",
              "      <td>-0.95997</td>\n",
              "      <td>-0.93997</td>\n",
              "      <td>-0.93764</td>\n",
              "      <td>-0.92649</td>\n",
              "      <td>-0.857090</td>\n",
              "      <td>-0.693320</td>\n",
              "      <td>-0.312890</td>\n",
              "      <td>0.339420</td>\n",
              "      <td>0.98909</td>\n",
              "      <td>1.33000</td>\n",
              "      <td>1.349500</td>\n",
              "      <td>1.222900</td>\n",
              "      <td>1.04450</td>\n",
              "      <td>0.829670</td>\n",
              "      <td>0.602100</td>\n",
              "      <td>0.365250</td>\n",
              "      <td>0.128330</td>\n",
              "      <td>-0.046387</td>\n",
              "      <td>-0.165640</td>\n",
              "      <td>-0.265030</td>\n",
              "      <td>-0.362500</td>\n",
              "      <td>-0.449520</td>\n",
              "      <td>-0.510830</td>\n",
              "      <td>-0.562550</td>\n",
              "      <td>-0.608530</td>\n",
              "      <td>-0.635880</td>\n",
              "      <td>-0.632320</td>\n",
              "      <td>-0.597000</td>\n",
              "      <td>-0.52032</td>\n",
              "      <td>-0.427310</td>\n",
              "      <td>-0.291990</td>\n",
              "      <td>-0.066752</td>\n",
              "      <td>0.241280</td>\n",
              "      <td>0.610500</td>\n",
              "      <td>0.961810</td>\n",
              "      <td>1.21160</td>\n",
              "      <td>...</td>\n",
              "      <td>1.11560</td>\n",
              "      <td>1.76630</td>\n",
              "      <td>2.55800</td>\n",
              "      <td>3.33430</td>\n",
              "      <td>3.84940</td>\n",
              "      <td>3.90180</td>\n",
              "      <td>3.62190</td>\n",
              "      <td>3.18950</td>\n",
              "      <td>2.623000</td>\n",
              "      <td>2.031000</td>\n",
              "      <td>1.49790</td>\n",
              "      <td>1.00600</td>\n",
              "      <td>0.55445</td>\n",
              "      <td>0.16993</td>\n",
              "      <td>-0.12355</td>\n",
              "      <td>-0.31586</td>\n",
              "      <td>-0.43344</td>\n",
              "      <td>-0.50570</td>\n",
              "      <td>-0.53268</td>\n",
              "      <td>-0.53688</td>\n",
              "      <td>-0.54374</td>\n",
              "      <td>-0.56792</td>\n",
              "      <td>-0.60857</td>\n",
              "      <td>-0.63638</td>\n",
              "      <td>-0.64471</td>\n",
              "      <td>-0.64440</td>\n",
              "      <td>-0.65382</td>\n",
              "      <td>-0.66957</td>\n",
              "      <td>-0.69135</td>\n",
              "      <td>-0.71082</td>\n",
              "      <td>-0.72810</td>\n",
              "      <td>-0.74512</td>\n",
              "      <td>-0.76376</td>\n",
              "      <td>-0.78068</td>\n",
              "      <td>-0.80593</td>\n",
              "      <td>-0.84350</td>\n",
              "      <td>-0.89531</td>\n",
              "      <td>-0.96052</td>\n",
              "      <td>-1.0509</td>\n",
              "      <td>-1.12830</td>\n",
              "    </tr>\n",
              "    <tr>\n",
              "      <th>3</th>\n",
              "      <td>4</td>\n",
              "      <td>-0.90138</td>\n",
              "      <td>-0.85228</td>\n",
              "      <td>-0.80196</td>\n",
              "      <td>-0.74932</td>\n",
              "      <td>-0.69298</td>\n",
              "      <td>-0.63316</td>\n",
              "      <td>-0.57038</td>\n",
              "      <td>-0.506920</td>\n",
              "      <td>-0.446040</td>\n",
              "      <td>-0.390180</td>\n",
              "      <td>-0.339310</td>\n",
              "      <td>-0.29231</td>\n",
              "      <td>-0.24833</td>\n",
              "      <td>-0.206350</td>\n",
              "      <td>-0.165850</td>\n",
              "      <td>-0.12719</td>\n",
              "      <td>-0.091931</td>\n",
              "      <td>-0.059946</td>\n",
              "      <td>-0.030921</td>\n",
              "      <td>-0.004628</td>\n",
              "      <td>0.018364</td>\n",
              "      <td>0.038239</td>\n",
              "      <td>0.054732</td>\n",
              "      <td>0.067206</td>\n",
              "      <td>0.075442</td>\n",
              "      <td>0.080507</td>\n",
              "      <td>0.083344</td>\n",
              "      <td>0.083628</td>\n",
              "      <td>0.081179</td>\n",
              "      <td>0.075684</td>\n",
              "      <td>0.066456</td>\n",
              "      <td>0.05167</td>\n",
              "      <td>0.032078</td>\n",
              "      <td>0.008739</td>\n",
              "      <td>-0.017323</td>\n",
              "      <td>-0.046021</td>\n",
              "      <td>-0.075800</td>\n",
              "      <td>-0.105810</td>\n",
              "      <td>-0.13622</td>\n",
              "      <td>...</td>\n",
              "      <td>-0.39441</td>\n",
              "      <td>-0.37672</td>\n",
              "      <td>-0.35716</td>\n",
              "      <td>-0.33905</td>\n",
              "      <td>-0.32255</td>\n",
              "      <td>-0.30807</td>\n",
              "      <td>-0.29818</td>\n",
              "      <td>-0.29607</td>\n",
              "      <td>-0.300260</td>\n",
              "      <td>-0.310800</td>\n",
              "      <td>-0.32809</td>\n",
              "      <td>-0.35262</td>\n",
              "      <td>-0.38035</td>\n",
              "      <td>-0.41034</td>\n",
              "      <td>-0.44236</td>\n",
              "      <td>-0.47573</td>\n",
              "      <td>-0.50864</td>\n",
              "      <td>-0.54145</td>\n",
              "      <td>-0.57506</td>\n",
              "      <td>-0.60889</td>\n",
              "      <td>-0.64237</td>\n",
              "      <td>-0.67593</td>\n",
              "      <td>-0.71042</td>\n",
              "      <td>-0.74502</td>\n",
              "      <td>-0.77959</td>\n",
              "      <td>-0.81402</td>\n",
              "      <td>-0.84805</td>\n",
              "      <td>-0.87959</td>\n",
              "      <td>-0.90785</td>\n",
              "      <td>-0.93276</td>\n",
              "      <td>-0.95452</td>\n",
              "      <td>-0.97322</td>\n",
              "      <td>-0.98984</td>\n",
              "      <td>-1.00520</td>\n",
              "      <td>-1.01880</td>\n",
              "      <td>-1.02960</td>\n",
              "      <td>-1.03700</td>\n",
              "      <td>-1.04110</td>\n",
              "      <td>-1.0418</td>\n",
              "      <td>-1.04030</td>\n",
              "    </tr>\n",
              "    <tr>\n",
              "      <th>4</th>\n",
              "      <td>13</td>\n",
              "      <td>-1.24470</td>\n",
              "      <td>-1.22000</td>\n",
              "      <td>-1.16940</td>\n",
              "      <td>-1.09130</td>\n",
              "      <td>-0.98968</td>\n",
              "      <td>-0.86828</td>\n",
              "      <td>-0.73462</td>\n",
              "      <td>-0.595370</td>\n",
              "      <td>-0.457100</td>\n",
              "      <td>-0.328410</td>\n",
              "      <td>-0.212790</td>\n",
              "      <td>-0.11358</td>\n",
              "      <td>-0.03165</td>\n",
              "      <td>0.035894</td>\n",
              "      <td>0.087864</td>\n",
              "      <td>0.12773</td>\n",
              "      <td>0.156780</td>\n",
              "      <td>0.174070</td>\n",
              "      <td>0.182500</td>\n",
              "      <td>0.176690</td>\n",
              "      <td>0.155510</td>\n",
              "      <td>0.119790</td>\n",
              "      <td>0.065682</td>\n",
              "      <td>0.005382</td>\n",
              "      <td>-0.055811</td>\n",
              "      <td>-0.112820</td>\n",
              "      <td>-0.156290</td>\n",
              "      <td>-0.196880</td>\n",
              "      <td>-0.229960</td>\n",
              "      <td>-0.255270</td>\n",
              "      <td>-0.274590</td>\n",
              "      <td>-0.27491</td>\n",
              "      <td>-0.259140</td>\n",
              "      <td>-0.224670</td>\n",
              "      <td>-0.172020</td>\n",
              "      <td>-0.111800</td>\n",
              "      <td>-0.041958</td>\n",
              "      <td>0.030334</td>\n",
              "      <td>0.10343</td>\n",
              "      <td>...</td>\n",
              "      <td>-0.96652</td>\n",
              "      <td>-0.95135</td>\n",
              "      <td>-0.93302</td>\n",
              "      <td>-0.90890</td>\n",
              "      <td>-0.88170</td>\n",
              "      <td>-0.85445</td>\n",
              "      <td>-0.82758</td>\n",
              "      <td>-0.80356</td>\n",
              "      <td>-0.780240</td>\n",
              "      <td>-0.754610</td>\n",
              "      <td>-0.72249</td>\n",
              "      <td>-0.67764</td>\n",
              "      <td>-0.61818</td>\n",
              "      <td>-0.54518</td>\n",
              "      <td>-0.46390</td>\n",
              "      <td>-0.38192</td>\n",
              "      <td>-0.30494</td>\n",
              "      <td>-0.23815</td>\n",
              "      <td>-0.18473</td>\n",
              "      <td>-0.14694</td>\n",
              "      <td>-0.12698</td>\n",
              "      <td>-0.12503</td>\n",
              "      <td>-0.14001</td>\n",
              "      <td>-0.16884</td>\n",
              "      <td>-0.20732</td>\n",
              "      <td>-0.25310</td>\n",
              "      <td>-0.30544</td>\n",
              "      <td>-0.36551</td>\n",
              "      <td>-0.43485</td>\n",
              "      <td>-0.51289</td>\n",
              "      <td>-0.59899</td>\n",
              "      <td>-0.69078</td>\n",
              "      <td>-0.78410</td>\n",
              "      <td>-0.87322</td>\n",
              "      <td>-0.95100</td>\n",
              "      <td>-1.01550</td>\n",
              "      <td>-1.07050</td>\n",
              "      <td>-1.12200</td>\n",
              "      <td>-1.1728</td>\n",
              "      <td>-1.21670</td>\n",
              "    </tr>\n",
              "  </tbody>\n",
              "</table>\n",
              "<p>5 rows × 271 columns</p>\n",
              "</div>"
            ],
            "text/plain": [
              "    4  -0.89094  -0.86099  -0.82438  ...  -0.90783  -0.91942  -0.93018  -0.93939\n",
              "0  12  -0.78346  -0.68562  -0.58409  ...  -0.95244  -0.96623   -0.9805  -0.99178\n",
              "1  13  -1.32560  -1.28430  -1.21970  ...  -1.06910  -1.13680   -1.1980  -1.27000\n",
              "2  23  -1.09370  -1.04200  -0.99840  ...  -0.89531  -0.96052   -1.0509  -1.12830\n",
              "3   4  -0.90138  -0.85228  -0.80196  ...  -1.03700  -1.04110   -1.0418  -1.04030\n",
              "4  13  -1.24470  -1.22000  -1.16940  ...  -1.07050  -1.12200   -1.1728  -1.21670\n",
              "\n",
              "[5 rows x 271 columns]"
            ]
          },
          "metadata": {
            "tags": []
          },
          "execution_count": 20
        }
      ]
    },
    {
      "cell_type": "code",
      "metadata": {
        "id": "OS22stscaa4W",
        "colab_type": "code",
        "colab": {}
      },
      "source": [
        "words['type']  = words.iloc[:, 1]"
      ],
      "execution_count": 21,
      "outputs": []
    },
    {
      "cell_type": "code",
      "metadata": {
        "id": "1Kve2vybaa0r",
        "colab_type": "code",
        "colab": {}
      },
      "source": [
        "\n",
        "w = words[words['type'] < 5]"
      ],
      "execution_count": 22,
      "outputs": []
    },
    {
      "cell_type": "code",
      "metadata": {
        "id": "srURCqvuaaxV",
        "colab_type": "code",
        "colab": {
          "base_uri": "https://localhost:8080/",
          "height": 34
        },
        "outputId": "dcf7e4bc-0078-48b2-94d1-1b1001be7b9e"
      },
      "source": [
        "w.shape"
      ],
      "execution_count": 23,
      "outputs": [
        {
          "output_type": "execute_result",
          "data": {
            "text/plain": [
              "(454, 272)"
            ]
          },
          "metadata": {
            "tags": []
          },
          "execution_count": 23
        }
      ]
    },
    {
      "cell_type": "code",
      "metadata": {
        "id": "xMlrxlrMaauN",
        "colab_type": "code",
        "colab": {
          "base_uri": "https://localhost:8080/",
          "height": 391
        },
        "outputId": "252514fa-15a3-494f-8aee-283f680ecac0"
      },
      "source": [
        "w.iloc[0, 1:].plot()"
      ],
      "execution_count": 24,
      "outputs": [
        {
          "output_type": "execute_result",
          "data": {
            "text/plain": [
              "<matplotlib.axes._subplots.AxesSubplot at 0x7f9b767e3a20>"
            ]
          },
          "metadata": {
            "tags": []
          },
          "execution_count": 24
        },
        {
          "output_type": "display_data",
          "data": {
            "image/png": "[encoded data removed]",
            "text/plain": [
              "<Figure size 1080x432 with 1 Axes>"
            ]
          },
          "metadata": {
            "tags": [],
            "needs_background": "light"
          }
        }
      ]
    },
    {
      "cell_type": "code",
      "metadata": {
        "id": "VgjwSS2eaaq2",
        "colab_type": "code",
        "colab": {
          "base_uri": "https://localhost:8080/",
          "height": 391
        },
        "outputId": "8b4d3341-9b3b-4104-8af6-3dd1da1c86a7"
      },
      "source": [
        "w.iloc[2, 1:].plot()"
      ],
      "execution_count": 25,
      "outputs": [
        {
          "output_type": "execute_result",
          "data": {
            "text/plain": [
              "<matplotlib.axes._subplots.AxesSubplot at 0x7f9b790b3908>"
            ]
          },
          "metadata": {
            "tags": []
          },
          "execution_count": 25
        },
        {
          "output_type": "display_data",
          "data": {
            "image/png": "[encoded data removed]",
            "text/plain": [
              "<Figure size 1080x432 with 1 Axes>"
            ]
          },
          "metadata": {
            "tags": [],
            "needs_background": "light"
          }
        }
      ]
    }
  ]
}