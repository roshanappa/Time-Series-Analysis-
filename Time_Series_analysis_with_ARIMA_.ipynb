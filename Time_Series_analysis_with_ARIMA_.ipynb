{
  "nbformat": 4,
  "nbformat_minor": 0,
  "metadata": {
    "colab": {
      "name": "Time Series analysis with ARIMA .ipynb",
      "provenance": [],
      "authorship_tag": "ABX9TyM6nPlSw/GoMTkiCVcNOSiC",
      "include_colab_link": true
    },
    "kernelspec": {
      "name": "python3",
      "display_name": "Python 3"
    }
  },
  "cells": [
    {
      "cell_type": "markdown",
      "metadata": {
        "id": "view-in-github",
        "colab_type": "text"
      },
      "source": [
        "<a href=\"https://colab.research.google.com/github/roshanappa/Time-Series-Analysis-/blob/master/Time_Series_analysis_with_ARIMA_.ipynb\" target=\"_parent\"><img src=\"https://colab.research.google.com/assets/colab-badge.svg\" alt=\"Open In Colab\"/></a>"
      ]
    },
    {
      "cell_type": "code",
      "metadata": {
        "id": "aTurYpCbU4yW",
        "colab_type": "code",
        "colab": {}
      },
      "source": [
        "import numpy as np\n",
        "import pandas as pd\n",
        "import seaborn as sns\n",
        "import matplotlib.pyplot as plt\n",
        "import warnings\n",
        "warnings.filterwarnings('ignore')"
      ],
      "execution_count": null,
      "outputs": []
    },
    {
      "cell_type": "code",
      "metadata": {
        "id": "fVD0n1VAVEz8",
        "colab_type": "code",
        "colab": {}
      },
      "source": [
        "from zipfile import ZipFile"
      ],
      "execution_count": null,
      "outputs": []
    },
    {
      "cell_type": "code",
      "metadata": {
        "id": "eT7Z7RylXVNX",
        "colab_type": "code",
        "colab": {}
      },
      "source": [
        "file_name = '/content/64789_128364_bundle_archive.zip'"
      ],
      "execution_count": null,
      "outputs": []
    },
    {
      "cell_type": "code",
      "metadata": {
        "id": "w5YlrBhiVEwI",
        "colab_type": "code",
        "colab": {
          "base_uri": "https://localhost:8080/",
          "height": 34
        },
        "outputId": "38973051-5972-481c-b7f6-8a363d2c6d58"
      },
      "source": [
        "with ZipFile(file_name,'r') as zip:\n",
        "  zip.extractall()\n",
        "  print('Done')"
      ],
      "execution_count": null,
      "outputs": [
        {
          "output_type": "stream",
          "text": [
            "Done\n"
          ],
          "name": "stdout"
        }
      ]
    },
    {
      "cell_type": "code",
      "metadata": {
        "id": "Zk-oXdASVEsj",
        "colab_type": "code",
        "colab": {}
      },
      "source": [
        "data = pd.read_csv('/content/daily-total-female-births-CA.csv')"
      ],
      "execution_count": null,
      "outputs": []
    },
    {
      "cell_type": "code",
      "metadata": {
        "id": "UOFybiAiVEpD",
        "colab_type": "code",
        "colab": {
          "base_uri": "https://localhost:8080/",
          "height": 204
        },
        "outputId": "f9e3440f-806a-40b3-d7f7-b5b2ee387eb9"
      },
      "source": [
        "data.head()"
      ],
      "execution_count": null,
      "outputs": [
        {
          "output_type": "execute_result",
          "data": {
            "text/html": [
              "<div>\n",
              "<style scoped>\n",
              "    .dataframe tbody tr th:only-of-type {\n",
              "        vertical-align: middle;\n",
              "    }\n",
              "\n",
              "    .dataframe tbody tr th {\n",
              "        vertical-align: top;\n",
              "    }\n",
              "\n",
              "    .dataframe thead th {\n",
              "        text-align: right;\n",
              "    }\n",
              "</style>\n",
              "<table border=\"1\" class=\"dataframe\">\n",
              "  <thead>\n",
              "    <tr style=\"text-align: right;\">\n",
              "      <th></th>\n",
              "      <th>date</th>\n",
              "      <th>births</th>\n",
              "    </tr>\n",
              "  </thead>\n",
              "  <tbody>\n",
              "    <tr>\n",
              "      <th>0</th>\n",
              "      <td>1959-01-01</td>\n",
              "      <td>35</td>\n",
              "    </tr>\n",
              "    <tr>\n",
              "      <th>1</th>\n",
              "      <td>1959-01-02</td>\n",
              "      <td>32</td>\n",
              "    </tr>\n",
              "    <tr>\n",
              "      <th>2</th>\n",
              "      <td>1959-01-03</td>\n",
              "      <td>30</td>\n",
              "    </tr>\n",
              "    <tr>\n",
              "      <th>3</th>\n",
              "      <td>1959-01-04</td>\n",
              "      <td>31</td>\n",
              "    </tr>\n",
              "    <tr>\n",
              "      <th>4</th>\n",
              "      <td>1959-01-05</td>\n",
              "      <td>44</td>\n",
              "    </tr>\n",
              "  </tbody>\n",
              "</table>\n",
              "</div>"
            ],
            "text/plain": [
              "         date  births\n",
              "0  1959-01-01      35\n",
              "1  1959-01-02      32\n",
              "2  1959-01-03      30\n",
              "3  1959-01-04      31\n",
              "4  1959-01-05      44"
            ]
          },
          "metadata": {
            "tags": []
          },
          "execution_count": 18
        }
      ]
    },
    {
      "cell_type": "code",
      "metadata": {
        "id": "OZou_Lu-VElX",
        "colab_type": "code",
        "colab": {
          "base_uri": "https://localhost:8080/",
          "height": 204
        },
        "outputId": "63cc93ea-1dc0-48f0-fa90-6c1d01d2fe6b"
      },
      "source": [
        "data.tail()"
      ],
      "execution_count": null,
      "outputs": [
        {
          "output_type": "execute_result",
          "data": {
            "text/html": [
              "<div>\n",
              "<style scoped>\n",
              "    .dataframe tbody tr th:only-of-type {\n",
              "        vertical-align: middle;\n",
              "    }\n",
              "\n",
              "    .dataframe tbody tr th {\n",
              "        vertical-align: top;\n",
              "    }\n",
              "\n",
              "    .dataframe thead th {\n",
              "        text-align: right;\n",
              "    }\n",
              "</style>\n",
              "<table border=\"1\" class=\"dataframe\">\n",
              "  <thead>\n",
              "    <tr style=\"text-align: right;\">\n",
              "      <th></th>\n",
              "      <th>date</th>\n",
              "      <th>births</th>\n",
              "    </tr>\n",
              "  </thead>\n",
              "  <tbody>\n",
              "    <tr>\n",
              "      <th>360</th>\n",
              "      <td>1959-12-27</td>\n",
              "      <td>37</td>\n",
              "    </tr>\n",
              "    <tr>\n",
              "      <th>361</th>\n",
              "      <td>1959-12-28</td>\n",
              "      <td>52</td>\n",
              "    </tr>\n",
              "    <tr>\n",
              "      <th>362</th>\n",
              "      <td>1959-12-29</td>\n",
              "      <td>48</td>\n",
              "    </tr>\n",
              "    <tr>\n",
              "      <th>363</th>\n",
              "      <td>1959-12-30</td>\n",
              "      <td>55</td>\n",
              "    </tr>\n",
              "    <tr>\n",
              "      <th>364</th>\n",
              "      <td>1959-12-31</td>\n",
              "      <td>50</td>\n",
              "    </tr>\n",
              "  </tbody>\n",
              "</table>\n",
              "</div>"
            ],
            "text/plain": [
              "           date  births\n",
              "360  1959-12-27      37\n",
              "361  1959-12-28      52\n",
              "362  1959-12-29      48\n",
              "363  1959-12-30      55\n",
              "364  1959-12-31      50"
            ]
          },
          "metadata": {
            "tags": []
          },
          "execution_count": 19
        }
      ]
    },
    {
      "cell_type": "code",
      "metadata": {
        "id": "z9L-lEPnVEiI",
        "colab_type": "code",
        "colab": {
          "base_uri": "https://localhost:8080/",
          "height": 297
        },
        "outputId": "fab4173f-a1ae-43a5-fcf1-4d838070124a"
      },
      "source": [
        "round(data.describe(),1)"
      ],
      "execution_count": null,
      "outputs": [
        {
          "output_type": "execute_result",
          "data": {
            "text/html": [
              "<div>\n",
              "<style scoped>\n",
              "    .dataframe tbody tr th:only-of-type {\n",
              "        vertical-align: middle;\n",
              "    }\n",
              "\n",
              "    .dataframe tbody tr th {\n",
              "        vertical-align: top;\n",
              "    }\n",
              "\n",
              "    .dataframe thead th {\n",
              "        text-align: right;\n",
              "    }\n",
              "</style>\n",
              "<table border=\"1\" class=\"dataframe\">\n",
              "  <thead>\n",
              "    <tr style=\"text-align: right;\">\n",
              "      <th></th>\n",
              "      <th>births</th>\n",
              "    </tr>\n",
              "  </thead>\n",
              "  <tbody>\n",
              "    <tr>\n",
              "      <th>count</th>\n",
              "      <td>365.0</td>\n",
              "    </tr>\n",
              "    <tr>\n",
              "      <th>mean</th>\n",
              "      <td>42.0</td>\n",
              "    </tr>\n",
              "    <tr>\n",
              "      <th>std</th>\n",
              "      <td>7.3</td>\n",
              "    </tr>\n",
              "    <tr>\n",
              "      <th>min</th>\n",
              "      <td>23.0</td>\n",
              "    </tr>\n",
              "    <tr>\n",
              "      <th>25%</th>\n",
              "      <td>37.0</td>\n",
              "    </tr>\n",
              "    <tr>\n",
              "      <th>50%</th>\n",
              "      <td>42.0</td>\n",
              "    </tr>\n",
              "    <tr>\n",
              "      <th>75%</th>\n",
              "      <td>46.0</td>\n",
              "    </tr>\n",
              "    <tr>\n",
              "      <th>max</th>\n",
              "      <td>73.0</td>\n",
              "    </tr>\n",
              "  </tbody>\n",
              "</table>\n",
              "</div>"
            ],
            "text/plain": [
              "       births\n",
              "count   365.0\n",
              "mean     42.0\n",
              "std       7.3\n",
              "min      23.0\n",
              "25%      37.0\n",
              "50%      42.0\n",
              "75%      46.0\n",
              "max      73.0"
            ]
          },
          "metadata": {
            "tags": []
          },
          "execution_count": 21
        }
      ]
    },
    {
      "cell_type": "code",
      "metadata": {
        "id": "j4wtniUjVEe2",
        "colab_type": "code",
        "colab": {
          "base_uri": "https://localhost:8080/",
          "height": 68
        },
        "outputId": "f6271d7e-1735-4857-9cba-f9f12ec1e383"
      },
      "source": [
        "data.isnull().sum()"
      ],
      "execution_count": null,
      "outputs": [
        {
          "output_type": "execute_result",
          "data": {
            "text/plain": [
              "date      0\n",
              "births    0\n",
              "dtype: int64"
            ]
          },
          "metadata": {
            "tags": []
          },
          "execution_count": 22
        }
      ]
    },
    {
      "cell_type": "code",
      "metadata": {
        "id": "zl0G93D2VEbu",
        "colab_type": "code",
        "colab": {
          "base_uri": "https://localhost:8080/",
          "height": 68
        },
        "outputId": "f9e95f2c-a9d8-4122-bfa2-223ef68a52db"
      },
      "source": [
        "data.dtypes"
      ],
      "execution_count": null,
      "outputs": [
        {
          "output_type": "execute_result",
          "data": {
            "text/plain": [
              "date      object\n",
              "births     int64\n",
              "dtype: object"
            ]
          },
          "metadata": {
            "tags": []
          },
          "execution_count": 23
        }
      ]
    },
    {
      "cell_type": "markdown",
      "metadata": {
        "id": "YWiStoeJYzqQ",
        "colab_type": "text"
      },
      "source": [
        "# Data Transformation."
      ]
    },
    {
      "cell_type": "code",
      "metadata": {
        "id": "fWb3zXsTVEYj",
        "colab_type": "code",
        "colab": {
          "base_uri": "https://localhost:8080/",
          "height": 34
        },
        "outputId": "5a5892dd-adfe-479a-a9b5-acb6c036a7d1"
      },
      "source": [
        "data['date'].dtypes"
      ],
      "execution_count": null,
      "outputs": [
        {
          "output_type": "execute_result",
          "data": {
            "text/plain": [
              "dtype('O')"
            ]
          },
          "metadata": {
            "tags": []
          },
          "execution_count": 25
        }
      ]
    },
    {
      "cell_type": "code",
      "metadata": {
        "id": "_vDjh3ttVEVb",
        "colab_type": "code",
        "colab": {}
      },
      "source": [
        "data['date'] = pd.to_datetime(data['date'])"
      ],
      "execution_count": null,
      "outputs": []
    },
    {
      "cell_type": "code",
      "metadata": {
        "id": "XydUlVyKVESP",
        "colab_type": "code",
        "colab": {
          "base_uri": "https://localhost:8080/",
          "height": 119
        },
        "outputId": "6baa64af-7098-467a-fadc-668d327a39d5"
      },
      "source": [
        "data['date'].head()"
      ],
      "execution_count": null,
      "outputs": [
        {
          "output_type": "execute_result",
          "data": {
            "text/plain": [
              "0   1959-01-01\n",
              "1   1959-01-02\n",
              "2   1959-01-03\n",
              "3   1959-01-04\n",
              "4   1959-01-05\n",
              "Name: date, dtype: datetime64[ns]"
            ]
          },
          "metadata": {
            "tags": []
          },
          "execution_count": 35
        }
      ]
    },
    {
      "cell_type": "markdown",
      "metadata": {
        "id": "wjvaRpLCaRS5",
        "colab_type": "text"
      },
      "source": [
        "# Data Visualization.\n"
      ]
    },
    {
      "cell_type": "code",
      "metadata": {
        "id": "ymW-TUk_VENJ",
        "colab_type": "code",
        "colab": {}
      },
      "source": [
        "data.set_index(data['date'],drop=True,inplace=True)"
      ],
      "execution_count": null,
      "outputs": []
    },
    {
      "cell_type": "code",
      "metadata": {
        "id": "wzHGPZ0oaNxQ",
        "colab_type": "code",
        "colab": {}
      },
      "source": [
        "data.drop(columns=['date'],inplace=True)"
      ],
      "execution_count": null,
      "outputs": []
    },
    {
      "cell_type": "code",
      "metadata": {
        "id": "iZ4AwqHnaNs_",
        "colab_type": "code",
        "colab": {
          "base_uri": "https://localhost:8080/",
          "height": 235
        },
        "outputId": "f548576b-a77f-4727-c54a-39294b9da8da"
      },
      "source": [
        "data.head()"
      ],
      "execution_count": null,
      "outputs": [
        {
          "output_type": "execute_result",
          "data": {
            "text/html": [
              "<div>\n",
              "<style scoped>\n",
              "    .dataframe tbody tr th:only-of-type {\n",
              "        vertical-align: middle;\n",
              "    }\n",
              "\n",
              "    .dataframe tbody tr th {\n",
              "        vertical-align: top;\n",
              "    }\n",
              "\n",
              "    .dataframe thead th {\n",
              "        text-align: right;\n",
              "    }\n",
              "</style>\n",
              "<table border=\"1\" class=\"dataframe\">\n",
              "  <thead>\n",
              "    <tr style=\"text-align: right;\">\n",
              "      <th></th>\n",
              "      <th>births</th>\n",
              "    </tr>\n",
              "    <tr>\n",
              "      <th>date</th>\n",
              "      <th></th>\n",
              "    </tr>\n",
              "  </thead>\n",
              "  <tbody>\n",
              "    <tr>\n",
              "      <th>1959-01-01</th>\n",
              "      <td>35</td>\n",
              "    </tr>\n",
              "    <tr>\n",
              "      <th>1959-01-02</th>\n",
              "      <td>32</td>\n",
              "    </tr>\n",
              "    <tr>\n",
              "      <th>1959-01-03</th>\n",
              "      <td>30</td>\n",
              "    </tr>\n",
              "    <tr>\n",
              "      <th>1959-01-04</th>\n",
              "      <td>31</td>\n",
              "    </tr>\n",
              "    <tr>\n",
              "      <th>1959-01-05</th>\n",
              "      <td>44</td>\n",
              "    </tr>\n",
              "  </tbody>\n",
              "</table>\n",
              "</div>"
            ],
            "text/plain": [
              "            births\n",
              "date              \n",
              "1959-01-01      35\n",
              "1959-01-02      32\n",
              "1959-01-03      30\n",
              "1959-01-04      31\n",
              "1959-01-05      44"
            ]
          },
          "metadata": {
            "tags": []
          },
          "execution_count": 41
        }
      ]
    },
    {
      "cell_type": "code",
      "metadata": {
        "id": "vxOgiyRaaNn7",
        "colab_type": "code",
        "colab": {
          "base_uri": "https://localhost:8080/",
          "height": 400
        },
        "outputId": "ba481efa-163d-4d90-c595-5986dd4e7eb7"
      },
      "source": [
        "data.plot(kind='line',figsize=(20,6))\n",
        "plt.show()"
      ],
      "execution_count": null,
      "outputs": [
        {
          "output_type": "display_data",
          "data": {
            "image/png": "[encoded data removed]",
            "text/plain": [
              "<Figure size 1440x432 with 1 Axes>"
            ]
          },
          "metadata": {
            "tags": [],
            "needs_background": "light"
          }
        }
      ]
    },
    {
      "cell_type": "markdown",
      "metadata": {
        "id": "fcXPcjL7bcd1",
        "colab_type": "text"
      },
      "source": [
        "since,data is not looking as seasonal so from that we can say it is the stationary data but we will see the some proof.\n",
        "\n"
      ]
    },
    {
      "cell_type": "code",
      "metadata": {
        "id": "trnZFRKzaNi3",
        "colab_type": "code",
        "colab": {}
      },
      "source": [
        "df_birth_mean = data.rolling(window=20).mean()"
      ],
      "execution_count": null,
      "outputs": []
    },
    {
      "cell_type": "code",
      "metadata": {
        "id": "U31NZeEObadF",
        "colab_type": "code",
        "colab": {
          "base_uri": "https://localhost:8080/",
          "height": 508
        },
        "outputId": "dd9b4d64-9c1b-4b6b-da2a-c42d83f3e264"
      },
      "source": [
        "df_birth_mean.plot(figsize=(20,8))\n",
        "plt.show()"
      ],
      "execution_count": null,
      "outputs": [
        {
          "output_type": "display_data",
          "data": {
            "image/png": "[encoded data removed]",
            "text/plain": [
              "<Figure size 1440x576 with 1 Axes>"
            ]
          },
          "metadata": {
            "tags": [],
            "needs_background": "light"
          }
        }
      ]
    },
    {
      "cell_type": "markdown",
      "metadata": {
        "id": "lKNNyi08c0cP",
        "colab_type": "text"
      },
      "source": [
        "From the above we got the clear idea that it is not seasonal data.If yoou see the data not having certain pattern.If you compare the  original and 20 days rollling series (moving avarage) kind of thing .There we will crystal idea we can not say it having the any ups and down in  the particular season.We can do log transformation and normal transformation on the data but now are just handeling small data so it doesn't matter over here.\n",
        "\n"
      ]
    },
    {
      "cell_type": "markdown",
      "metadata": {
        "id": "3WPfDTGdfKdf",
        "colab_type": "text"
      },
      "source": [
        "According to ARIMA model methodology,the privious history is best to create the prediction on the upcoming days.We are going to use the previous values for the prediction of future value.so for that we will give over here one shift."
      ]
    },
    {
      "cell_type": "code",
      "metadata": {
        "id": "AjkurmxNf5Bg",
        "colab_type": "code",
        "colab": {
          "base_uri": "https://localhost:8080/",
          "height": 238
        },
        "outputId": "ef19de83-ee3d-4db3-c46e-3454d54392a0"
      },
      "source": [
        "data['births'].shift(1)  #we can cleary see the value are getting shifted by one day."
      ],
      "execution_count": null,
      "outputs": [
        {
          "output_type": "execute_result",
          "data": {
            "text/plain": [
              "date\n",
              "1959-01-01     NaN\n",
              "1959-01-02    35.0\n",
              "1959-01-03    32.0\n",
              "1959-01-04    30.0\n",
              "1959-01-05    31.0\n",
              "              ... \n",
              "1959-12-27    34.0\n",
              "1959-12-28    37.0\n",
              "1959-12-29    52.0\n",
              "1959-12-30    48.0\n",
              "1959-12-31    55.0\n",
              "Name: births, Length: 365, dtype: float64"
            ]
          },
          "metadata": {
            "tags": []
          },
          "execution_count": 51
        }
      ]
    },
    {
      "cell_type": "code",
      "metadata": {
        "id": "U-L0tyL9gyj1",
        "colab_type": "code",
        "colab": {}
      },
      "source": [
        "data['Forecated_births'] = data['births'].shift(1)"
      ],
      "execution_count": null,
      "outputs": []
    },
    {
      "cell_type": "code",
      "metadata": {
        "id": "CIxghI5PhImh",
        "colab_type": "code",
        "colab": {
          "base_uri": "https://localhost:8080/",
          "height": 235
        },
        "outputId": "eef15463-6718-4c76-d4ca-838a7760546d"
      },
      "source": [
        "data.head()"
      ],
      "execution_count": null,
      "outputs": [
        {
          "output_type": "execute_result",
          "data": {
            "text/html": [
              "<div>\n",
              "<style scoped>\n",
              "    .dataframe tbody tr th:only-of-type {\n",
              "        vertical-align: middle;\n",
              "    }\n",
              "\n",
              "    .dataframe tbody tr th {\n",
              "        vertical-align: top;\n",
              "    }\n",
              "\n",
              "    .dataframe thead th {\n",
              "        text-align: right;\n",
              "    }\n",
              "</style>\n",
              "<table border=\"1\" class=\"dataframe\">\n",
              "  <thead>\n",
              "    <tr style=\"text-align: right;\">\n",
              "      <th></th>\n",
              "      <th>births</th>\n",
              "      <th>Forecated_births</th>\n",
              "    </tr>\n",
              "    <tr>\n",
              "      <th>date</th>\n",
              "      <th></th>\n",
              "      <th></th>\n",
              "    </tr>\n",
              "  </thead>\n",
              "  <tbody>\n",
              "    <tr>\n",
              "      <th>1959-01-01</th>\n",
              "      <td>35</td>\n",
              "      <td>NaN</td>\n",
              "    </tr>\n",
              "    <tr>\n",
              "      <th>1959-01-02</th>\n",
              "      <td>32</td>\n",
              "      <td>35.0</td>\n",
              "    </tr>\n",
              "    <tr>\n",
              "      <th>1959-01-03</th>\n",
              "      <td>30</td>\n",
              "      <td>32.0</td>\n",
              "    </tr>\n",
              "    <tr>\n",
              "      <th>1959-01-04</th>\n",
              "      <td>31</td>\n",
              "      <td>30.0</td>\n",
              "    </tr>\n",
              "    <tr>\n",
              "      <th>1959-01-05</th>\n",
              "      <td>44</td>\n",
              "      <td>31.0</td>\n",
              "    </tr>\n",
              "  </tbody>\n",
              "</table>\n",
              "</div>"
            ],
            "text/plain": [
              "            births  Forecated_births\n",
              "date                                \n",
              "1959-01-01      35               NaN\n",
              "1959-01-02      32              35.0\n",
              "1959-01-03      30              32.0\n",
              "1959-01-04      31              30.0\n",
              "1959-01-05      44              31.0"
            ]
          },
          "metadata": {
            "tags": []
          },
          "execution_count": 60
        }
      ]
    },
    {
      "cell_type": "markdown",
      "metadata": {
        "id": "92pS1Hz0gL1z",
        "colab_type": "text"
      },
      "source": [
        "# Diffreces Or Integration.."
      ]
    },
    {
      "cell_type": "markdown",
      "metadata": {
        "id": "EWM9SWBohp5a",
        "colab_type": "text"
      },
      "source": [
        "We are going use the mean squared error in order to get the error.\n"
      ]
    },
    {
      "cell_type": "code",
      "metadata": {
        "id": "TPO7BY39hogj",
        "colab_type": "code",
        "colab": {}
      },
      "source": [
        "from sklearn.metrics import mean_squared_error"
      ],
      "execution_count": null,
      "outputs": []
    },
    {
      "cell_type": "code",
      "metadata": {
        "id": "zFg7x_m3jmmv",
        "colab_type": "code",
        "colab": {}
      },
      "source": [
        "data1 = data.dropna()"
      ],
      "execution_count": null,
      "outputs": []
    },
    {
      "cell_type": "code",
      "metadata": {
        "id": "fZd4R7HMkHEt",
        "colab_type": "code",
        "colab": {
          "base_uri": "https://localhost:8080/",
          "height": 235
        },
        "outputId": "0a3eab9c-de89-4032-ded1-5949f0750bda"
      },
      "source": [
        "data1.head()"
      ],
      "execution_count": null,
      "outputs": [
        {
          "output_type": "execute_result",
          "data": {
            "text/html": [
              "<div>\n",
              "<style scoped>\n",
              "    .dataframe tbody tr th:only-of-type {\n",
              "        vertical-align: middle;\n",
              "    }\n",
              "\n",
              "    .dataframe tbody tr th {\n",
              "        vertical-align: top;\n",
              "    }\n",
              "\n",
              "    .dataframe thead th {\n",
              "        text-align: right;\n",
              "    }\n",
              "</style>\n",
              "<table border=\"1\" class=\"dataframe\">\n",
              "  <thead>\n",
              "    <tr style=\"text-align: right;\">\n",
              "      <th></th>\n",
              "      <th>births</th>\n",
              "      <th>Forecated_births</th>\n",
              "    </tr>\n",
              "    <tr>\n",
              "      <th>date</th>\n",
              "      <th></th>\n",
              "      <th></th>\n",
              "    </tr>\n",
              "  </thead>\n",
              "  <tbody>\n",
              "    <tr>\n",
              "      <th>1959-01-02</th>\n",
              "      <td>32</td>\n",
              "      <td>35.0</td>\n",
              "    </tr>\n",
              "    <tr>\n",
              "      <th>1959-01-03</th>\n",
              "      <td>30</td>\n",
              "      <td>32.0</td>\n",
              "    </tr>\n",
              "    <tr>\n",
              "      <th>1959-01-04</th>\n",
              "      <td>31</td>\n",
              "      <td>30.0</td>\n",
              "    </tr>\n",
              "    <tr>\n",
              "      <th>1959-01-05</th>\n",
              "      <td>44</td>\n",
              "      <td>31.0</td>\n",
              "    </tr>\n",
              "    <tr>\n",
              "      <th>1959-01-06</th>\n",
              "      <td>29</td>\n",
              "      <td>44.0</td>\n",
              "    </tr>\n",
              "  </tbody>\n",
              "</table>\n",
              "</div>"
            ],
            "text/plain": [
              "            births  Forecated_births\n",
              "date                                \n",
              "1959-01-02      32              35.0\n",
              "1959-01-03      30              32.0\n",
              "1959-01-04      31              30.0\n",
              "1959-01-05      44              31.0\n",
              "1959-01-06      29              44.0"
            ]
          },
          "metadata": {
            "tags": []
          },
          "execution_count": 65
        }
      ]
    },
    {
      "cell_type": "code",
      "metadata": {
        "id": "HwDVsxDwdBE5",
        "colab_type": "code",
        "colab": {}
      },
      "source": [
        "birth_error = mean_squared_error(data1['births'],data1['Forecated_births'])"
      ],
      "execution_count": null,
      "outputs": []
    },
    {
      "cell_type": "code",
      "metadata": {
        "id": "re_R9f3AdA--",
        "colab_type": "code",
        "colab": {
          "base_uri": "https://localhost:8080/",
          "height": 34
        },
        "outputId": "70f0fc8a-de7c-426d-840b-e6fd24868237"
      },
      "source": [
        "birth_error"
      ],
      "execution_count": null,
      "outputs": [
        {
          "output_type": "execute_result",
          "data": {
            "text/plain": [
              "84.22252747252747"
            ]
          },
          "metadata": {
            "tags": []
          },
          "execution_count": 64
        }
      ]
    },
    {
      "cell_type": "code",
      "metadata": {
        "id": "A4HtDoAOdA5p",
        "colab_type": "code",
        "colab": {
          "base_uri": "https://localhost:8080/",
          "height": 34
        },
        "outputId": "6f3deea7-25db-40e7-e594-9c5b0ab66069"
      },
      "source": [
        "np.sqrt(birth_error)"
      ],
      "execution_count": null,
      "outputs": [
        {
          "output_type": "execute_result",
          "data": {
            "text/plain": [
              "9.177283229394606"
            ]
          },
          "metadata": {
            "tags": []
          },
          "execution_count": 66
        }
      ]
    },
    {
      "cell_type": "markdown",
      "metadata": {
        "id": "P3UQuWKZk9Jg",
        "colab_type": "text"
      },
      "source": [
        "In this way, we have calculated the mean squared error in order to get the error in between the actual and prdicted.In the above way we can say 9.17 is the error.If we use any further algorithm we should have errror less than this one i.e. **9.17**. It means the if you use the advance AR,expontial or ARIMA your model should have the mean_squared_error less than 9.17.But the finally we are taking all of this things in the ARIMA.It stand for the **Auto-Regressive Integrated Moving Avarage.** Moving avarage is the smoothing part how through which we can remove the errors and noise from data.It does the correlation in such that the current value will correlated with previous value.The privious is the best reflection of the current value.It shows how well the values are related each other.It is known as parameter p.\n",
        "Integrated is the nothing but the order of the diffrence.\n",
        "e.g. Intialy we want the stationary time series.To get the time series in Stationary format where the Standard Deviation and mean will be the costant throughout the series.For the getting the seasonal series into the Stationary series we have to use some certain opertaion by using the shit and all.It is also known as parameter d.\n",
        "\n",
        "It to removing the error which is present actaul searies and return the seris in the stationary format.\n",
        "\n",
        "So by doing this we will get the stationary searies this is happen due to the ordering on the series.It takes the always diffrence in between the actul and predicted values in order one simlary happen with order two.mostly we just upto the order 1 and 2.\n",
        "\n",
        "For the Moving-Avarage (q) and AutoRegressive we need the some ACF (Atual auto_correlation) and PACF(Partial Auto Correlation).\n",
        "\n",
        "It will gives us better understanding of data.\n",
        "\n",
        "\n",
        "\n"
      ]
    },
    {
      "cell_type": "markdown",
      "metadata": {
        "id": "6oI-C7nsuJTN",
        "colab_type": "text"
      },
      "source": [
        "# To Check Staionary or not."
      ]
    },
    {
      "cell_type": "code",
      "metadata": {
        "id": "EdOw8IYyk8c4",
        "colab_type": "code",
        "colab": {}
      },
      "source": [
        "from statsmodels.tsa.stattools import adfuller"
      ],
      "execution_count": null,
      "outputs": []
    },
    {
      "cell_type": "code",
      "metadata": {
        "id": "6opf0UeWdAzd",
        "colab_type": "code",
        "colab": {}
      },
      "source": [
        "test_result = adfuller(data['births'])"
      ],
      "execution_count": null,
      "outputs": []
    },
    {
      "cell_type": "code",
      "metadata": {
        "id": "fYkm2bMEdAtq",
        "colab_type": "code",
        "colab": {}
      },
      "source": [
        "adf_score,pvalue,usedlag,nobs,critical_values,icbest = test_result"
      ],
      "execution_count": null,
      "outputs": []
    },
    {
      "cell_type": "markdown",
      "metadata": {
        "id": "HDg7q8ozweDT",
        "colab_type": "text"
      },
      "source": [
        "Null_hypothesis = Ho = data is not stationary\n",
        "Alternative = H1 = data is  stationary."
      ]
    },
    {
      "cell_type": "code",
      "metadata": {
        "id": "EXnf5ePHdAnu",
        "colab_type": "code",
        "colab": {}
      },
      "source": [
        "def is_stationary(p_values):\n",
        "  if p_values >= 0.05:\n",
        "    print('It is Weakly recommending that it is Null Hypothesis.It means that data is not stationary.')\n",
        "  else:\n",
        "    print('This is Strongly recommending that it is Alternative Hypothesis.It means that data is stationary.')"
      ],
      "execution_count": null,
      "outputs": []
    },
    {
      "cell_type": "code",
      "metadata": {
        "id": "IQXNKnFydAg3",
        "colab_type": "code",
        "colab": {
          "base_uri": "https://localhost:8080/",
          "height": 34
        },
        "outputId": "1d8c9a84-5c55-41bc-f472-273a0ff9437f"
      },
      "source": [
        "is_stationary(pvalue)"
      ],
      "execution_count": null,
      "outputs": [
        {
          "output_type": "stream",
          "text": [
            "This is Strongly recommending that it is Alternative Hypothesis.It means that data is stationary.\n"
          ],
          "name": "stdout"
        }
      ]
    },
    {
      "cell_type": "markdown",
      "metadata": {
        "id": "oqP45AfYyQvQ",
        "colab_type": "text"
      },
      "source": [
        "# Build The Advance Model.\n",
        "\n",
        "ARIMA contains Autoregression (p),Integrated (d) and Moving avarage (q)."
      ]
    },
    {
      "cell_type": "code",
      "metadata": {
        "id": "LkItYZcUyQBO",
        "colab_type": "code",
        "colab": {}
      },
      "source": [
        "from statsmodels.graphics.tsaplots import plot_acf,plot_pacf"
      ],
      "execution_count": null,
      "outputs": []
    },
    {
      "cell_type": "markdown",
      "metadata": {
        "id": "rxuzBZOo4HaX",
        "colab_type": "text"
      },
      "source": [
        "## Actual Auto-correlation "
      ]
    },
    {
      "cell_type": "code",
      "metadata": {
        "id": "-ye_pjgJyZnH",
        "colab_type": "code",
        "colab": {
          "base_uri": "https://localhost:8080/",
          "height": 298
        },
        "outputId": "be789c93-7db8-4f58-bb15-729a51ed1710"
      },
      "source": [
        "#plot_acf is to identify parameter Q\n",
        "# ARIMA (P,D,Q) HERE D = because we already know that D is the data is stationary and integrated_difference is zero.Q will identify with the help of the plot_acf. \n",
        "plot_acf(data['births'],lags=40,)\n",
        "plt.show()\n",
        "\n",
        "#From the below we can undertstand that the there is something at lag one is showing the 1 as autocorrelation that means the they pefectly match together themselves.\n",
        "#But after the one that 2 there is something 0.2 we have at lag 2 there is some correlation  and 3 also some correlation but at the 3 lag there is correlation is under the critical region.\n",
        "#so we are considering this lag. \n",
        "print('Plot_acf it help us to get the value of p')"
      ],
      "execution_count": null,
      "outputs": [
        {
          "output_type": "display_data",
          "data": {
            "image/png": "[encoded data removed]",
            "text/plain": [
              "<Figure size 432x288 with 1 Axes>"
            ]
          },
          "metadata": {
            "tags": [],
            "needs_background": "light"
          }
        },
        {
          "output_type": "stream",
          "text": [
            "Plot_acf it help us to get the value of p\n"
          ],
          "name": "stdout"
        }
      ]
    },
    {
      "cell_type": "markdown",
      "metadata": {
        "id": "AlIBuo_G4OBe",
        "colab_type": "text"
      },
      "source": [
        "##  Partial Auto-Correlation"
      ]
    },
    {
      "cell_type": "code",
      "metadata": {
        "id": "7SEoyeK3yZfp",
        "colab_type": "code",
        "colab": {
          "base_uri": "https://localhost:8080/",
          "height": 298
        },
        "outputId": "e4d623a4-000c-4cbc-be72-51e71f8b8527"
      },
      "source": [
        "plot_pacf(data['births'])\n",
        "plt.show()\n",
        "print('Plot_pacf is help us to determine the value of Q')\n",
        "#here we can see the upto the 1 .It is not going the critical region so we can use it."
      ],
      "execution_count": null,
      "outputs": [
        {
          "output_type": "display_data",
          "data": {
            "image/png": "[encoded data removed]",
            "text/plain": [
              "<Figure size 432x288 with 1 Axes>"
            ]
          },
          "metadata": {
            "tags": [],
            "needs_background": "light"
          }
        },
        {
          "output_type": "stream",
          "text": [
            "Plot_pacf is help us to determine the value of Q\n"
          ],
          "name": "stdout"
        }
      ]
    },
    {
      "cell_type": "code",
      "metadata": {
        "id": "nR0y0ndyyZWU",
        "colab_type": "code",
        "colab": {
          "base_uri": "https://localhost:8080/",
          "height": 34
        },
        "outputId": "2dc5e185-68ea-4a9a-e497-b02a52700657"
      },
      "source": [
        "print('ARIMA with P,D,Q respectively p value {} ,D value {} and Q value {}.'.format(2,0,2))"
      ],
      "execution_count": null,
      "outputs": [
        {
          "output_type": "stream",
          "text": [
            "ARIMA with P,D,Q respectively p value 2 ,D value 0 and Q value 2.\n"
          ],
          "name": "stdout"
        }
      ]
    },
    {
      "cell_type": "markdown",
      "metadata": {
        "id": "sv_koqUB6PT3",
        "colab_type": "text"
      },
      "source": [
        "# Create The ARIMA Model."
      ]
    },
    {
      "cell_type": "code",
      "metadata": {
        "id": "pfbVlGhMbaQo",
        "colab_type": "code",
        "colab": {}
      },
      "source": [
        "data.drop(columns=['Forecated_births'],inplace=True)"
      ],
      "execution_count": null,
      "outputs": []
    },
    {
      "cell_type": "code",
      "metadata": {
        "id": "yiKBenDLAGGd",
        "colab_type": "code",
        "colab": {
          "base_uri": "https://localhost:8080/",
          "height": 235
        },
        "outputId": "9ff0cccd-83e0-4ab2-da06-d9a29663aaee"
      },
      "source": [
        "data.head()"
      ],
      "execution_count": null,
      "outputs": [
        {
          "output_type": "execute_result",
          "data": {
            "text/html": [
              "<div>\n",
              "<style scoped>\n",
              "    .dataframe tbody tr th:only-of-type {\n",
              "        vertical-align: middle;\n",
              "    }\n",
              "\n",
              "    .dataframe tbody tr th {\n",
              "        vertical-align: top;\n",
              "    }\n",
              "\n",
              "    .dataframe thead th {\n",
              "        text-align: right;\n",
              "    }\n",
              "</style>\n",
              "<table border=\"1\" class=\"dataframe\">\n",
              "  <thead>\n",
              "    <tr style=\"text-align: right;\">\n",
              "      <th></th>\n",
              "      <th>births</th>\n",
              "    </tr>\n",
              "    <tr>\n",
              "      <th>date</th>\n",
              "      <th></th>\n",
              "    </tr>\n",
              "  </thead>\n",
              "  <tbody>\n",
              "    <tr>\n",
              "      <th>1959-01-01</th>\n",
              "      <td>35</td>\n",
              "    </tr>\n",
              "    <tr>\n",
              "      <th>1959-01-02</th>\n",
              "      <td>32</td>\n",
              "    </tr>\n",
              "    <tr>\n",
              "      <th>1959-01-03</th>\n",
              "      <td>30</td>\n",
              "    </tr>\n",
              "    <tr>\n",
              "      <th>1959-01-04</th>\n",
              "      <td>31</td>\n",
              "    </tr>\n",
              "    <tr>\n",
              "      <th>1959-01-05</th>\n",
              "      <td>44</td>\n",
              "    </tr>\n",
              "  </tbody>\n",
              "</table>\n",
              "</div>"
            ],
            "text/plain": [
              "            births\n",
              "date              \n",
              "1959-01-01      35\n",
              "1959-01-02      32\n",
              "1959-01-03      30\n",
              "1959-01-04      31\n",
              "1959-01-05      44"
            ]
          },
          "metadata": {
            "tags": []
          },
          "execution_count": 120
        }
      ]
    },
    {
      "cell_type": "code",
      "metadata": {
        "id": "HQcDjrGJ7o56",
        "colab_type": "code",
        "colab": {
          "base_uri": "https://localhost:8080/",
          "height": 235
        },
        "outputId": "659d01f4-6248-4ab9-84b5-2b31e413bcc3"
      },
      "source": [
        "data1.head()"
      ],
      "execution_count": null,
      "outputs": [
        {
          "output_type": "execute_result",
          "data": {
            "text/html": [
              "<div>\n",
              "<style scoped>\n",
              "    .dataframe tbody tr th:only-of-type {\n",
              "        vertical-align: middle;\n",
              "    }\n",
              "\n",
              "    .dataframe tbody tr th {\n",
              "        vertical-align: top;\n",
              "    }\n",
              "\n",
              "    .dataframe thead th {\n",
              "        text-align: right;\n",
              "    }\n",
              "</style>\n",
              "<table border=\"1\" class=\"dataframe\">\n",
              "  <thead>\n",
              "    <tr style=\"text-align: right;\">\n",
              "      <th></th>\n",
              "      <th>births</th>\n",
              "      <th>Forecated_births</th>\n",
              "    </tr>\n",
              "    <tr>\n",
              "      <th>date</th>\n",
              "      <th></th>\n",
              "      <th></th>\n",
              "    </tr>\n",
              "  </thead>\n",
              "  <tbody>\n",
              "    <tr>\n",
              "      <th>1959-01-02</th>\n",
              "      <td>32</td>\n",
              "      <td>35.0</td>\n",
              "    </tr>\n",
              "    <tr>\n",
              "      <th>1959-01-03</th>\n",
              "      <td>30</td>\n",
              "      <td>32.0</td>\n",
              "    </tr>\n",
              "    <tr>\n",
              "      <th>1959-01-04</th>\n",
              "      <td>31</td>\n",
              "      <td>30.0</td>\n",
              "    </tr>\n",
              "    <tr>\n",
              "      <th>1959-01-05</th>\n",
              "      <td>44</td>\n",
              "      <td>31.0</td>\n",
              "    </tr>\n",
              "    <tr>\n",
              "      <th>1959-01-06</th>\n",
              "      <td>29</td>\n",
              "      <td>44.0</td>\n",
              "    </tr>\n",
              "  </tbody>\n",
              "</table>\n",
              "</div>"
            ],
            "text/plain": [
              "            births  Forecated_births\n",
              "date                                \n",
              "1959-01-02      32              35.0\n",
              "1959-01-03      30              32.0\n",
              "1959-01-04      31              30.0\n",
              "1959-01-05      44              31.0\n",
              "1959-01-06      29              44.0"
            ]
          },
          "metadata": {
            "tags": []
          },
          "execution_count": 99
        }
      ]
    },
    {
      "cell_type": "markdown",
      "metadata": {
        "id": "H1tt_WgE7Fez",
        "colab_type": "text"
      },
      "source": [
        "Create the Train and Test split of the data."
      ]
    },
    {
      "cell_type": "code",
      "metadata": {
        "id": "wDho586r-iQe",
        "colab_type": "code",
        "colab": {
          "base_uri": "https://localhost:8080/",
          "height": 34
        },
        "outputId": "18adaf64-e1b5-4ea9-c8a9-00a0a41675cc"
      },
      "source": [
        "data.shape"
      ],
      "execution_count": null,
      "outputs": [
        {
          "output_type": "execute_result",
          "data": {
            "text/plain": [
              "(365, 1)"
            ]
          },
          "metadata": {
            "tags": []
          },
          "execution_count": 121
        }
      ]
    },
    {
      "cell_type": "code",
      "metadata": {
        "id": "vWbybdIC6GSY",
        "colab_type": "code",
        "colab": {}
      },
      "source": [
        "data_train =data[:310]\n",
        "data_test  =data[310:]"
      ],
      "execution_count": null,
      "outputs": []
    },
    {
      "cell_type": "code",
      "metadata": {
        "id": "XeOcHg-fIJGo",
        "colab_type": "code",
        "colab": {
          "base_uri": "https://localhost:8080/",
          "height": 111
        },
        "outputId": "c987964d-c325-4d61-ff94-0f005f348297"
      },
      "source": [
        "data_train[-1:]"
      ],
      "execution_count": null,
      "outputs": [
        {
          "output_type": "execute_result",
          "data": {
            "text/html": [
              "<div>\n",
              "<style scoped>\n",
              "    .dataframe tbody tr th:only-of-type {\n",
              "        vertical-align: middle;\n",
              "    }\n",
              "\n",
              "    .dataframe tbody tr th {\n",
              "        vertical-align: top;\n",
              "    }\n",
              "\n",
              "    .dataframe thead th {\n",
              "        text-align: right;\n",
              "    }\n",
              "</style>\n",
              "<table border=\"1\" class=\"dataframe\">\n",
              "  <thead>\n",
              "    <tr style=\"text-align: right;\">\n",
              "      <th></th>\n",
              "      <th>births</th>\n",
              "    </tr>\n",
              "    <tr>\n",
              "      <th>date</th>\n",
              "      <th></th>\n",
              "    </tr>\n",
              "  </thead>\n",
              "  <tbody>\n",
              "    <tr>\n",
              "      <th>1959-11-06</th>\n",
              "      <td>45</td>\n",
              "    </tr>\n",
              "  </tbody>\n",
              "</table>\n",
              "</div>"
            ],
            "text/plain": [
              "            births\n",
              "date              \n",
              "1959-11-06      45"
            ]
          },
          "metadata": {
            "tags": []
          },
          "execution_count": 183
        }
      ]
    },
    {
      "cell_type": "code",
      "metadata": {
        "id": "qxz7J-9c6GJp",
        "colab_type": "code",
        "colab": {
          "base_uri": "https://localhost:8080/",
          "height": 34
        },
        "outputId": "689db7a8-0be5-4633-e5fe-e017282e088b"
      },
      "source": [
        "data_train.shape,data_test.shape"
      ],
      "execution_count": null,
      "outputs": [
        {
          "output_type": "execute_result",
          "data": {
            "text/plain": [
              "((310, 1), (55, 1))"
            ]
          },
          "metadata": {
            "tags": []
          },
          "execution_count": 125
        }
      ]
    },
    {
      "cell_type": "code",
      "metadata": {
        "id": "JXwwDlN-6F8_",
        "colab_type": "code",
        "colab": {}
      },
      "source": [
        "from statsmodels.tsa.arima_model import ARIMA"
      ],
      "execution_count": null,
      "outputs": []
    },
    {
      "cell_type": "code",
      "metadata": {
        "id": "TbKN25Ih6Fxf",
        "colab_type": "code",
        "colab": {}
      },
      "source": [
        "Arima_model = ARIMA(data_train,order=(2,1,1))    #There is bit of seasonality we have to take d=1"
      ],
      "execution_count": null,
      "outputs": []
    },
    {
      "cell_type": "code",
      "metadata": {
        "id": "Rnoq1HxWaNdv",
        "colab_type": "code",
        "colab": {}
      },
      "source": [
        "Arima_model_fit = Arima_model.fit()"
      ],
      "execution_count": null,
      "outputs": []
    },
    {
      "cell_type": "code",
      "metadata": {
        "id": "GYY1At3DBXdo",
        "colab_type": "code",
        "colab": {
          "base_uri": "https://localhost:8080/",
          "height": 34
        },
        "outputId": "b63892fc-c497-4f57-df2d-d30b29c2cc66"
      },
      "source": [
        "Arima_model_fit.aic #akike information criteria with this we will get the value.The model will gives the lesser aic number that model is good.\n",
        "# else we need to chose the parameter in order to get the less values that are the P,D,Q."
      ],
      "execution_count": null,
      "outputs": [
        {
          "output_type": "execute_result",
          "data": {
            "text/plain": [
              "2100.0222132215586"
            ]
          },
          "metadata": {
            "tags": []
          },
          "execution_count": 194
        }
      ]
    },
    {
      "cell_type": "code",
      "metadata": {
        "id": "1i7dQ7faBXS7",
        "colab_type": "code",
        "colab": {}
      },
      "source": [
        "data_forecast = Arima_model_fit.forecast(steps=55)[0]  #test and steps shoud have the same number of indexes."
      ],
      "execution_count": null,
      "outputs": []
    },
    {
      "cell_type": "code",
      "metadata": {
        "id": "7hBCoj1jFMa4",
        "colab_type": "code",
        "colab": {
          "base_uri": "https://localhost:8080/",
          "height": 204
        },
        "outputId": "527f2ea8-98a5-417a-be52-76947da80001"
      },
      "source": [
        "data_forecast"
      ],
      "execution_count": null,
      "outputs": [
        {
          "output_type": "execute_result",
          "data": {
            "text/plain": [
              "array([46.47287875, 45.87516635, 45.9104323 , 45.90234453, 45.92495599,\n",
              "       45.94868681, 45.97428092, 46.00015472, 46.02616621, 46.05220949,\n",
              "       46.07826425, 46.10432213, 46.13038102, 46.1564402 , 46.18249948,\n",
              "       46.20855878, 46.23461809, 46.2606774 , 46.28673672, 46.31279603,\n",
              "       46.33885534, 46.36491466, 46.39097397, 46.41703329, 46.4430926 ,\n",
              "       46.46915192, 46.49521123, 46.52127055, 46.54732986, 46.57338917,\n",
              "       46.59944849, 46.6255078 , 46.65156712, 46.67762643, 46.70368575,\n",
              "       46.72974506, 46.75580438, 46.78186369, 46.807923  , 46.83398232,\n",
              "       46.86004163, 46.88610095, 46.91216026, 46.93821958, 46.96427889,\n",
              "       46.99033821, 47.01639752, 47.04245684, 47.06851615, 47.09457546,\n",
              "       47.12063478, 47.14669409, 47.17275341, 47.19881272, 47.22487204])"
            ]
          },
          "metadata": {
            "tags": []
          },
          "execution_count": 196
        }
      ]
    },
    {
      "cell_type": "code",
      "metadata": {
        "id": "iOgQZt6PDBC6",
        "colab_type": "code",
        "colab": {
          "base_uri": "https://localhost:8080/",
          "height": 34
        },
        "outputId": "55c43c3d-f21b-4f0f-8681-06145f2623ca"
      },
      "source": [
        "np.sqrt(mean_squared_error(data_test,data_forecast))"
      ],
      "execution_count": null,
      "outputs": [
        {
          "output_type": "execute_result",
          "data": {
            "text/plain": [
              "7.132109179648905"
            ]
          },
          "metadata": {
            "tags": []
          },
          "execution_count": 197
        }
      ]
    },
    {
      "cell_type": "markdown",
      "metadata": {
        "id": "dLjprpI9JzND",
        "colab_type": "text"
      },
      "source": [
        "If we see the previous mean squred error current mean squred is not higher than the current.So from that we can say our model is good.\n"
      ]
    },
    {
      "cell_type": "markdown",
      "metadata": {
        "id": "rOfynJzcLC8u",
        "colab_type": "text"
      },
      "source": [
        "# Thank You !!"
      ]
    }
  ]
}