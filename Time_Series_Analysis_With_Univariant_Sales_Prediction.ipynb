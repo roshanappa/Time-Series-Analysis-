{
  "nbformat": 4,
  "nbformat_minor": 0,
  "metadata": {
    "colab": {
      "name": "Time Series Analysis With Univariant Sales Prediction.ipynb",
      "provenance": [],
      "authorship_tag": "ABX9TyO3YcoB/bxC9efkAJYZ5yIW",
      "include_colab_link": true
    },
    "kernelspec": {
      "name": "python3",
      "display_name": "Python 3"
    },
    "accelerator": "GPU"
  },
  "cells": [
    {
      "cell_type": "markdown",
      "metadata": {
        "id": "view-in-github",
        "colab_type": "text"
      },
      "source": [
        "<a href=\"https://colab.research.google.com/github/roshanappa/Time-Series-Analysis-/blob/master/Time_Series_Analysis_With_Univariant_Sales_Prediction.ipynb\" target=\"_parent\"><img src=\"https://colab.research.google.com/assets/colab-badge.svg\" alt=\"Open In Colab\"/></a>"
      ]
    },
    {
      "cell_type": "code",
      "metadata": {
        "id": "QiZHAk_Em0Mh",
        "colab_type": "code",
        "colab": {}
      },
      "source": [
        "import numpy as np\n",
        "import pandas as pd\n",
        "import seaborn as sns\n",
        "import matplotlib.pyplot as plt\n",
        "%matplotlib inline\n",
        "import warnings\n",
        "warnings.filterwarnings('ignore')"
      ],
      "execution_count": 5,
      "outputs": []
    },
    {
      "cell_type": "code",
      "metadata": {
        "id": "JlaUQuih-UM7",
        "colab_type": "code",
        "colab": {}
      },
      "source": [
        "from zipfile import ZipFile"
      ],
      "execution_count": 6,
      "outputs": []
    },
    {
      "cell_type": "code",
      "metadata": {
        "id": "bQnSUcd6-UIG",
        "colab_type": "code",
        "colab": {
          "base_uri": "https://localhost:8080/",
          "height": 34
        },
        "outputId": "7dd2abf1-ca4e-49fc-ee06-bcc81ec99c08"
      },
      "source": [
        "with ZipFile('/content/1778_3076_bundle_archive.zip',mode='r') as zip:\n",
        "  zip.extractall()\n",
        "  print('Done')"
      ],
      "execution_count": 9,
      "outputs": [
        {
          "output_type": "stream",
          "text": [
            "Done\n"
          ],
          "name": "stdout"
        }
      ]
    },
    {
      "cell_type": "code",
      "metadata": {
        "id": "IfnEavzm-UDP",
        "colab_type": "code",
        "colab": {}
      },
      "source": [
        "data = pd.read_csv('/content/sales-of-shampoo-over-a-three-ye.csv')"
      ],
      "execution_count": 10,
      "outputs": []
    },
    {
      "cell_type": "code",
      "metadata": {
        "id": "vkTjcWxY-T-r",
        "colab_type": "code",
        "colab": {
          "base_uri": "https://localhost:8080/",
          "height": 204
        },
        "outputId": "853fcffc-a4ec-4e68-96c7-ca4eb5a57b16"
      },
      "source": [
        "data.head()"
      ],
      "execution_count": 11,
      "outputs": [
        {
          "output_type": "execute_result",
          "data": {
            "text/html": [
              "<div>\n",
              "<style scoped>\n",
              "    .dataframe tbody tr th:only-of-type {\n",
              "        vertical-align: middle;\n",
              "    }\n",
              "\n",
              "    .dataframe tbody tr th {\n",
              "        vertical-align: top;\n",
              "    }\n",
              "\n",
              "    .dataframe thead th {\n",
              "        text-align: right;\n",
              "    }\n",
              "</style>\n",
              "<table border=\"1\" class=\"dataframe\">\n",
              "  <thead>\n",
              "    <tr style=\"text-align: right;\">\n",
              "      <th></th>\n",
              "      <th>Month</th>\n",
              "      <th>Sales of shampoo over a three year period</th>\n",
              "    </tr>\n",
              "  </thead>\n",
              "  <tbody>\n",
              "    <tr>\n",
              "      <th>0</th>\n",
              "      <td>1-01</td>\n",
              "      <td>266.0</td>\n",
              "    </tr>\n",
              "    <tr>\n",
              "      <th>1</th>\n",
              "      <td>1-02</td>\n",
              "      <td>145.9</td>\n",
              "    </tr>\n",
              "    <tr>\n",
              "      <th>2</th>\n",
              "      <td>1-03</td>\n",
              "      <td>183.1</td>\n",
              "    </tr>\n",
              "    <tr>\n",
              "      <th>3</th>\n",
              "      <td>1-04</td>\n",
              "      <td>119.3</td>\n",
              "    </tr>\n",
              "    <tr>\n",
              "      <th>4</th>\n",
              "      <td>1-05</td>\n",
              "      <td>180.3</td>\n",
              "    </tr>\n",
              "  </tbody>\n",
              "</table>\n",
              "</div>"
            ],
            "text/plain": [
              "  Month  Sales of shampoo over a three year period\n",
              "0  1-01                                      266.0\n",
              "1  1-02                                      145.9\n",
              "2  1-03                                      183.1\n",
              "3  1-04                                      119.3\n",
              "4  1-05                                      180.3"
            ]
          },
          "metadata": {
            "tags": []
          },
          "execution_count": 11
        }
      ]
    },
    {
      "cell_type": "code",
      "metadata": {
        "id": "N1mpd05U-T6U",
        "colab_type": "code",
        "colab": {}
      },
      "source": [
        "data = pd.read_csv('/content/sales-of-shampoo-over-a-three-ye.csv')"
      ],
      "execution_count": 12,
      "outputs": []
    },
    {
      "cell_type": "code",
      "metadata": {
        "id": "5tDt94gw-T2C",
        "colab_type": "code",
        "colab": {
          "base_uri": "https://localhost:8080/",
          "height": 204
        },
        "outputId": "af8e3938-84e1-499b-98c5-5e997ed8d5cf"
      },
      "source": [
        "data.head()"
      ],
      "execution_count": 13,
      "outputs": [
        {
          "output_type": "execute_result",
          "data": {
            "text/html": [
              "<div>\n",
              "<style scoped>\n",
              "    .dataframe tbody tr th:only-of-type {\n",
              "        vertical-align: middle;\n",
              "    }\n",
              "\n",
              "    .dataframe tbody tr th {\n",
              "        vertical-align: top;\n",
              "    }\n",
              "\n",
              "    .dataframe thead th {\n",
              "        text-align: right;\n",
              "    }\n",
              "</style>\n",
              "<table border=\"1\" class=\"dataframe\">\n",
              "  <thead>\n",
              "    <tr style=\"text-align: right;\">\n",
              "      <th></th>\n",
              "      <th>Month</th>\n",
              "      <th>Sales of shampoo over a three year period</th>\n",
              "    </tr>\n",
              "  </thead>\n",
              "  <tbody>\n",
              "    <tr>\n",
              "      <th>0</th>\n",
              "      <td>1-01</td>\n",
              "      <td>266.0</td>\n",
              "    </tr>\n",
              "    <tr>\n",
              "      <th>1</th>\n",
              "      <td>1-02</td>\n",
              "      <td>145.9</td>\n",
              "    </tr>\n",
              "    <tr>\n",
              "      <th>2</th>\n",
              "      <td>1-03</td>\n",
              "      <td>183.1</td>\n",
              "    </tr>\n",
              "    <tr>\n",
              "      <th>3</th>\n",
              "      <td>1-04</td>\n",
              "      <td>119.3</td>\n",
              "    </tr>\n",
              "    <tr>\n",
              "      <th>4</th>\n",
              "      <td>1-05</td>\n",
              "      <td>180.3</td>\n",
              "    </tr>\n",
              "  </tbody>\n",
              "</table>\n",
              "</div>"
            ],
            "text/plain": [
              "  Month  Sales of shampoo over a three year period\n",
              "0  1-01                                      266.0\n",
              "1  1-02                                      145.9\n",
              "2  1-03                                      183.1\n",
              "3  1-04                                      119.3\n",
              "4  1-05                                      180.3"
            ]
          },
          "metadata": {
            "tags": []
          },
          "execution_count": 13
        }
      ]
    },
    {
      "cell_type": "code",
      "metadata": {
        "id": "iwxKMCkAM94N",
        "colab_type": "code",
        "colab": {
          "base_uri": "https://localhost:8080/",
          "height": 204
        },
        "outputId": "9a193423-ad31-4708-db98-6d55c9618975"
      },
      "source": [
        "data.rename(columns={'Sales of shampoo over a three year period':'Actual Sales'},inplace=True)\n",
        "data.head()"
      ],
      "execution_count": 14,
      "outputs": [
        {
          "output_type": "execute_result",
          "data": {
            "text/html": [
              "<div>\n",
              "<style scoped>\n",
              "    .dataframe tbody tr th:only-of-type {\n",
              "        vertical-align: middle;\n",
              "    }\n",
              "\n",
              "    .dataframe tbody tr th {\n",
              "        vertical-align: top;\n",
              "    }\n",
              "\n",
              "    .dataframe thead th {\n",
              "        text-align: right;\n",
              "    }\n",
              "</style>\n",
              "<table border=\"1\" class=\"dataframe\">\n",
              "  <thead>\n",
              "    <tr style=\"text-align: right;\">\n",
              "      <th></th>\n",
              "      <th>Month</th>\n",
              "      <th>Actual Sales</th>\n",
              "    </tr>\n",
              "  </thead>\n",
              "  <tbody>\n",
              "    <tr>\n",
              "      <th>0</th>\n",
              "      <td>1-01</td>\n",
              "      <td>266.0</td>\n",
              "    </tr>\n",
              "    <tr>\n",
              "      <th>1</th>\n",
              "      <td>1-02</td>\n",
              "      <td>145.9</td>\n",
              "    </tr>\n",
              "    <tr>\n",
              "      <th>2</th>\n",
              "      <td>1-03</td>\n",
              "      <td>183.1</td>\n",
              "    </tr>\n",
              "    <tr>\n",
              "      <th>3</th>\n",
              "      <td>1-04</td>\n",
              "      <td>119.3</td>\n",
              "    </tr>\n",
              "    <tr>\n",
              "      <th>4</th>\n",
              "      <td>1-05</td>\n",
              "      <td>180.3</td>\n",
              "    </tr>\n",
              "  </tbody>\n",
              "</table>\n",
              "</div>"
            ],
            "text/plain": [
              "  Month  Actual Sales\n",
              "0  1-01         266.0\n",
              "1  1-02         145.9\n",
              "2  1-03         183.1\n",
              "3  1-04         119.3\n",
              "4  1-05         180.3"
            ]
          },
          "metadata": {
            "tags": []
          },
          "execution_count": 14
        }
      ]
    },
    {
      "cell_type": "code",
      "metadata": {
        "id": "aOBEmDp4BToZ",
        "colab_type": "code",
        "colab": {
          "base_uri": "https://localhost:8080/",
          "height": 68
        },
        "outputId": "edbf6a74-e8f3-4ae4-84d0-f2bfaa882201"
      },
      "source": [
        "data.isnull().sum()"
      ],
      "execution_count": 15,
      "outputs": [
        {
          "output_type": "execute_result",
          "data": {
            "text/plain": [
              "Month           0\n",
              "Actual Sales    1\n",
              "dtype: int64"
            ]
          },
          "metadata": {
            "tags": []
          },
          "execution_count": 15
        }
      ]
    },
    {
      "cell_type": "code",
      "metadata": {
        "id": "pzWuLHMbBTit",
        "colab_type": "code",
        "colab": {}
      },
      "source": [
        "data.dropna(inplace=True)"
      ],
      "execution_count": 17,
      "outputs": []
    },
    {
      "cell_type": "code",
      "metadata": {
        "id": "4aZ9I4o7NVwm",
        "colab_type": "code",
        "colab": {}
      },
      "source": [
        "data.set_index(data['Month'],inplace=True)"
      ],
      "execution_count": 18,
      "outputs": []
    },
    {
      "cell_type": "code",
      "metadata": {
        "id": "lY_lWPWGNiS_",
        "colab_type": "code",
        "colab": {}
      },
      "source": [
        "data.drop(columns=['Month'],inplace=True)"
      ],
      "execution_count": 19,
      "outputs": []
    },
    {
      "cell_type": "code",
      "metadata": {
        "id": "PWZZMOM6BTdI",
        "colab_type": "code",
        "colab": {
          "base_uri": "https://localhost:8080/",
          "height": 297
        },
        "outputId": "30641493-11ec-482a-affd-ba938c432394"
      },
      "source": [
        "data.describe()"
      ],
      "execution_count": 20,
      "outputs": [
        {
          "output_type": "execute_result",
          "data": {
            "text/html": [
              "<div>\n",
              "<style scoped>\n",
              "    .dataframe tbody tr th:only-of-type {\n",
              "        vertical-align: middle;\n",
              "    }\n",
              "\n",
              "    .dataframe tbody tr th {\n",
              "        vertical-align: top;\n",
              "    }\n",
              "\n",
              "    .dataframe thead th {\n",
              "        text-align: right;\n",
              "    }\n",
              "</style>\n",
              "<table border=\"1\" class=\"dataframe\">\n",
              "  <thead>\n",
              "    <tr style=\"text-align: right;\">\n",
              "      <th></th>\n",
              "      <th>Actual Sales</th>\n",
              "    </tr>\n",
              "  </thead>\n",
              "  <tbody>\n",
              "    <tr>\n",
              "      <th>count</th>\n",
              "      <td>36.000000</td>\n",
              "    </tr>\n",
              "    <tr>\n",
              "      <th>mean</th>\n",
              "      <td>312.600000</td>\n",
              "    </tr>\n",
              "    <tr>\n",
              "      <th>std</th>\n",
              "      <td>148.937164</td>\n",
              "    </tr>\n",
              "    <tr>\n",
              "      <th>min</th>\n",
              "      <td>119.300000</td>\n",
              "    </tr>\n",
              "    <tr>\n",
              "      <th>25%</th>\n",
              "      <td>192.450000</td>\n",
              "    </tr>\n",
              "    <tr>\n",
              "      <th>50%</th>\n",
              "      <td>280.150000</td>\n",
              "    </tr>\n",
              "    <tr>\n",
              "      <th>75%</th>\n",
              "      <td>411.100000</td>\n",
              "    </tr>\n",
              "    <tr>\n",
              "      <th>max</th>\n",
              "      <td>682.000000</td>\n",
              "    </tr>\n",
              "  </tbody>\n",
              "</table>\n",
              "</div>"
            ],
            "text/plain": [
              "       Actual Sales\n",
              "count     36.000000\n",
              "mean     312.600000\n",
              "std      148.937164\n",
              "min      119.300000\n",
              "25%      192.450000\n",
              "50%      280.150000\n",
              "75%      411.100000\n",
              "max      682.000000"
            ]
          },
          "metadata": {
            "tags": []
          },
          "execution_count": 20
        }
      ]
    },
    {
      "cell_type": "code",
      "metadata": {
        "id": "J8Kj30gHBTXC",
        "colab_type": "code",
        "colab": {
          "base_uri": "https://localhost:8080/",
          "height": 34
        },
        "outputId": "e395ce2e-74a6-402b-db14-70343fd6d97c"
      },
      "source": [
        "data.shape"
      ],
      "execution_count": 21,
      "outputs": [
        {
          "output_type": "execute_result",
          "data": {
            "text/plain": [
              "(36, 1)"
            ]
          },
          "metadata": {
            "tags": []
          },
          "execution_count": 21
        }
      ]
    },
    {
      "cell_type": "code",
      "metadata": {
        "id": "c2ZiN6NwBTRa",
        "colab_type": "code",
        "colab": {
          "base_uri": "https://localhost:8080/",
          "height": 51
        },
        "outputId": "d2c04ddb-1841-4a80-b3be-b08861e1a86a"
      },
      "source": [
        "data.dtypes"
      ],
      "execution_count": 22,
      "outputs": [
        {
          "output_type": "execute_result",
          "data": {
            "text/plain": [
              "Actual Sales    float64\n",
              "dtype: object"
            ]
          },
          "metadata": {
            "tags": []
          },
          "execution_count": 22
        }
      ]
    },
    {
      "cell_type": "markdown",
      "metadata": {
        "id": "llIRthRHBvik",
        "colab_type": "text"
      },
      "source": [
        "# Data Visualization."
      ]
    },
    {
      "cell_type": "code",
      "metadata": {
        "id": "Xid3MRmPBTL8",
        "colab_type": "code",
        "colab": {
          "base_uri": "https://localhost:8080/",
          "height": 280
        },
        "outputId": "338e6f52-45c0-4ef6-82fa-f246e4f9bc2e"
      },
      "source": [
        "data.plot(kind='line',figsize=(15,4),color='r',legend=True)\n",
        "plt.show()"
      ],
      "execution_count": 23,
      "outputs": [
        {
          "output_type": "display_data",
          "data": {
            "image/png": "[encoded data removed]",
            "text/plain": [
              "<Figure size 1080x288 with 1 Axes>"
            ]
          },
          "metadata": {
            "tags": [],
            "needs_background": "light"
          }
        }
      ]
    },
    {
      "cell_type": "markdown",
      "metadata": {
        "id": "fscAmYlpCB8f",
        "colab_type": "text"
      },
      "source": [
        "Here,we can see the data is not stationary,because there is some trend is avalible so in order to do the time series we need the stationary data."
      ]
    },
    {
      "cell_type": "code",
      "metadata": {
        "id": "7fXKwhBOBTGU",
        "colab_type": "code",
        "colab": {}
      },
      "source": [
        "#Checking the rolling data so that we will get the better understanding of the data.\n",
        "rolling_data = data.rolling(window=10).mean()"
      ],
      "execution_count": 24,
      "outputs": []
    },
    {
      "cell_type": "code",
      "metadata": {
        "id": "fifkadueBTBJ",
        "colab_type": "code",
        "colab": {
          "base_uri": "https://localhost:8080/",
          "height": 388
        },
        "outputId": "b8ae0a85-37dc-40d5-ebb4-2aa295856828"
      },
      "source": [
        "rolling_data.plot(kind='line',legend='20 days Rooling data',color='b',figsize=(14,6))\n",
        "plt.show()"
      ],
      "execution_count": 25,
      "outputs": [
        {
          "output_type": "display_data",
          "data": {
            "image/png": "[encoded data removed]",
            "text/plain": [
              "<Figure size 1008x432 with 1 Axes>"
            ]
          },
          "metadata": {
            "tags": [],
            "needs_background": "light"
          }
        }
      ]
    },
    {
      "cell_type": "code",
      "metadata": {
        "id": "5-4YgczxhMCo",
        "colab_type": "code",
        "colab": {
          "base_uri": "https://localhost:8080/",
          "height": 297
        },
        "outputId": "5b14a974-5801-45bf-c894-201f43fc3054"
      },
      "source": [
        "import statsmodels.api as sm\n",
        "decomposition = sm.tsa.seasonal_decompose(data['Actual Sales'], model='additive',freq=10)\n",
        "decomposition.plot()\n",
        "plt.show()"
      ],
      "execution_count": 26,
      "outputs": [
        {
          "output_type": "display_data",
          "data": {
            "image/png": "[encoded data removed]",
            "text/plain": [
              "<Figure size 432x288 with 4 Axes>"
            ]
          },
          "metadata": {
            "tags": [],
            "needs_background": "light"
          }
        }
      ]
    },
    {
      "cell_type": "markdown",
      "metadata": {
        "id": "t8XPoRx4D-fM",
        "colab_type": "text"
      },
      "source": [
        "Without any noise we have got the rooling data with 10 days that is showing what kind of average trend is avalible inside the data."
      ]
    },
    {
      "cell_type": "markdown",
      "metadata": {
        "id": "aE_faHKCEc83",
        "colab_type": "text"
      },
      "source": [
        "# Unnderstand the Stationary and non-stationary with proof."
      ]
    },
    {
      "cell_type": "code",
      "metadata": {
        "id": "qVPFAkjBBS7-",
        "colab_type": "code",
        "colab": {}
      },
      "source": [
        "from statsmodels.tsa.stattools import adfuller"
      ],
      "execution_count": 27,
      "outputs": []
    },
    {
      "cell_type": "code",
      "metadata": {
        "id": "NGB6CdPeEYkm",
        "colab_type": "code",
        "colab": {}
      },
      "source": [
        "test_result = adfuller(data['Actual Sales'])"
      ],
      "execution_count": 28,
      "outputs": []
    },
    {
      "cell_type": "code",
      "metadata": {
        "id": "tmOqsSz6EYcR",
        "colab_type": "code",
        "colab": {}
      },
      "source": [
        "adf_score,pvalues,usedlog,nobs,critical_values,icbest=test_result"
      ],
      "execution_count": 29,
      "outputs": []
    },
    {
      "cell_type": "code",
      "metadata": {
        "id": "XNZ3YHT3EYL2",
        "colab_type": "code",
        "colab": {}
      },
      "source": [
        "def is_stationary(p_values):\n",
        "  if p_values >=0.05:\n",
        "    print('This is showing the data is strongly accepting the null hypothesis.That means the data is not stationary.')\n",
        "  else:\n",
        "    print('This is showing the data is strongly accepting the Alternative  hypothesis.That means the data is stationary.')\n"
      ],
      "execution_count": 30,
      "outputs": []
    },
    {
      "cell_type": "code",
      "metadata": {
        "id": "nDIwOZABEYDs",
        "colab_type": "code",
        "colab": {
          "base_uri": "https://localhost:8080/",
          "height": 34
        },
        "outputId": "e3047106-51a5-4249-9323-6642435ff71a"
      },
      "source": [
        "is_stationary(pvalues)"
      ],
      "execution_count": 31,
      "outputs": [
        {
          "output_type": "stream",
          "text": [
            "This is showing the data is strongly accepting the null hypothesis.That means the data is not stationary.\n"
          ],
          "name": "stdout"
        }
      ]
    },
    {
      "cell_type": "markdown",
      "metadata": {
        "id": "HEZhMWGMGwFN",
        "colab_type": "text"
      },
      "source": [
        "# Convert the non-Stationary data to Stationary data."
      ]
    },
    {
      "cell_type": "code",
      "metadata": {
        "id": "nn-iIoqvEXbG",
        "colab_type": "code",
        "colab": {}
      },
      "source": [
        "data['Forecast Sales']  = data['Actual Sales'].shift(1)"
      ],
      "execution_count": 32,
      "outputs": []
    },
    {
      "cell_type": "code",
      "metadata": {
        "id": "9U-SX2gCEXQ2",
        "colab_type": "code",
        "colab": {
          "base_uri": "https://localhost:8080/",
          "height": 136
        },
        "outputId": "039c7c84-2875-43fe-962c-7aa5d36baa8b"
      },
      "source": [
        "data['Forecast Sales'].head()"
      ],
      "execution_count": 33,
      "outputs": [
        {
          "output_type": "execute_result",
          "data": {
            "text/plain": [
              "Month\n",
              "1-01      NaN\n",
              "1-02    266.0\n",
              "1-03    145.9\n",
              "1-04    183.1\n",
              "1-05    119.3\n",
              "Name: Forecast Sales, dtype: float64"
            ]
          },
          "metadata": {
            "tags": []
          },
          "execution_count": 33
        }
      ]
    },
    {
      "cell_type": "code",
      "metadata": {
        "id": "2EtqR3vUI6mm",
        "colab_type": "code",
        "colab": {
          "base_uri": "https://localhost:8080/",
          "height": 235
        },
        "outputId": "5f3df568-fa42-4084-ef7e-4eb374e65ab1"
      },
      "source": [
        "data.head()"
      ],
      "execution_count": 37,
      "outputs": [
        {
          "output_type": "execute_result",
          "data": {
            "text/html": [
              "<div>\n",
              "<style scoped>\n",
              "    .dataframe tbody tr th:only-of-type {\n",
              "        vertical-align: middle;\n",
              "    }\n",
              "\n",
              "    .dataframe tbody tr th {\n",
              "        vertical-align: top;\n",
              "    }\n",
              "\n",
              "    .dataframe thead th {\n",
              "        text-align: right;\n",
              "    }\n",
              "</style>\n",
              "<table border=\"1\" class=\"dataframe\">\n",
              "  <thead>\n",
              "    <tr style=\"text-align: right;\">\n",
              "      <th></th>\n",
              "      <th>Actual Sales</th>\n",
              "      <th>Forecast Sales</th>\n",
              "      <th>Seasonal First Difference</th>\n",
              "    </tr>\n",
              "    <tr>\n",
              "      <th>Month</th>\n",
              "      <th></th>\n",
              "      <th></th>\n",
              "      <th></th>\n",
              "    </tr>\n",
              "  </thead>\n",
              "  <tbody>\n",
              "    <tr>\n",
              "      <th>1-01</th>\n",
              "      <td>266.0</td>\n",
              "      <td>NaN</td>\n",
              "      <td>NaN</td>\n",
              "    </tr>\n",
              "    <tr>\n",
              "      <th>1-02</th>\n",
              "      <td>145.9</td>\n",
              "      <td>266.0</td>\n",
              "      <td>-120.1</td>\n",
              "    </tr>\n",
              "    <tr>\n",
              "      <th>1-03</th>\n",
              "      <td>183.1</td>\n",
              "      <td>145.9</td>\n",
              "      <td>37.2</td>\n",
              "    </tr>\n",
              "    <tr>\n",
              "      <th>1-04</th>\n",
              "      <td>119.3</td>\n",
              "      <td>183.1</td>\n",
              "      <td>-63.8</td>\n",
              "    </tr>\n",
              "    <tr>\n",
              "      <th>1-05</th>\n",
              "      <td>180.3</td>\n",
              "      <td>119.3</td>\n",
              "      <td>61.0</td>\n",
              "    </tr>\n",
              "  </tbody>\n",
              "</table>\n",
              "</div>"
            ],
            "text/plain": [
              "       Actual Sales  Forecast Sales  Seasonal First Difference\n",
              "Month                                                         \n",
              "1-01          266.0             NaN                        NaN\n",
              "1-02          145.9           266.0                     -120.1\n",
              "1-03          183.1           145.9                       37.2\n",
              "1-04          119.3           183.1                      -63.8\n",
              "1-05          180.3           119.3                       61.0"
            ]
          },
          "metadata": {
            "tags": []
          },
          "execution_count": 37
        }
      ]
    },
    {
      "cell_type": "code",
      "metadata": {
        "id": "n6XqOadASTbL",
        "colab_type": "code",
        "colab": {}
      },
      "source": [
        "data['Seasonal First Difference'] = data['Actual Sales'] - data['Actual Sales'].shift(1)"
      ],
      "execution_count": 38,
      "outputs": []
    },
    {
      "cell_type": "code",
      "metadata": {
        "id": "VzQAKhwDWIUb",
        "colab_type": "code",
        "colab": {
          "base_uri": "https://localhost:8080/",
          "height": 136
        },
        "outputId": "29622429-35b6-491c-a9fc-3e5b2c4832f7"
      },
      "source": [
        "data['Seasonal First Difference'].head()"
      ],
      "execution_count": 39,
      "outputs": [
        {
          "output_type": "execute_result",
          "data": {
            "text/plain": [
              "Month\n",
              "1-01      NaN\n",
              "1-02   -120.1\n",
              "1-03     37.2\n",
              "1-04    -63.8\n",
              "1-05     61.0\n",
              "Name: Seasonal First Difference, dtype: float64"
            ]
          },
          "metadata": {
            "tags": []
          },
          "execution_count": 39
        }
      ]
    },
    {
      "cell_type": "code",
      "metadata": {
        "id": "ngIrtxe1WQrG",
        "colab_type": "code",
        "colab": {
          "base_uri": "https://localhost:8080/",
          "height": 235
        },
        "outputId": "3c88c102-40cd-4d6a-c84b-2a0b035a21de"
      },
      "source": [
        "data.head()"
      ],
      "execution_count": 50,
      "outputs": [
        {
          "output_type": "execute_result",
          "data": {
            "text/html": [
              "<div>\n",
              "<style scoped>\n",
              "    .dataframe tbody tr th:only-of-type {\n",
              "        vertical-align: middle;\n",
              "    }\n",
              "\n",
              "    .dataframe tbody tr th {\n",
              "        vertical-align: top;\n",
              "    }\n",
              "\n",
              "    .dataframe thead th {\n",
              "        text-align: right;\n",
              "    }\n",
              "</style>\n",
              "<table border=\"1\" class=\"dataframe\">\n",
              "  <thead>\n",
              "    <tr style=\"text-align: right;\">\n",
              "      <th></th>\n",
              "      <th>Actual Sales</th>\n",
              "      <th>Forecast Sales</th>\n",
              "      <th>Seasonal First Difference</th>\n",
              "    </tr>\n",
              "    <tr>\n",
              "      <th>Month</th>\n",
              "      <th></th>\n",
              "      <th></th>\n",
              "      <th></th>\n",
              "    </tr>\n",
              "  </thead>\n",
              "  <tbody>\n",
              "    <tr>\n",
              "      <th>1-02</th>\n",
              "      <td>145.9</td>\n",
              "      <td>266.0</td>\n",
              "      <td>-120.1</td>\n",
              "    </tr>\n",
              "    <tr>\n",
              "      <th>1-03</th>\n",
              "      <td>183.1</td>\n",
              "      <td>145.9</td>\n",
              "      <td>37.2</td>\n",
              "    </tr>\n",
              "    <tr>\n",
              "      <th>1-04</th>\n",
              "      <td>119.3</td>\n",
              "      <td>183.1</td>\n",
              "      <td>-63.8</td>\n",
              "    </tr>\n",
              "    <tr>\n",
              "      <th>1-05</th>\n",
              "      <td>180.3</td>\n",
              "      <td>119.3</td>\n",
              "      <td>61.0</td>\n",
              "    </tr>\n",
              "    <tr>\n",
              "      <th>1-06</th>\n",
              "      <td>168.5</td>\n",
              "      <td>180.3</td>\n",
              "      <td>-11.8</td>\n",
              "    </tr>\n",
              "  </tbody>\n",
              "</table>\n",
              "</div>"
            ],
            "text/plain": [
              "       Actual Sales  Forecast Sales  Seasonal First Difference\n",
              "Month                                                         \n",
              "1-02          145.9           266.0                     -120.1\n",
              "1-03          183.1           145.9                       37.2\n",
              "1-04          119.3           183.1                      -63.8\n",
              "1-05          180.3           119.3                       61.0\n",
              "1-06          168.5           180.3                      -11.8"
            ]
          },
          "metadata": {
            "tags": []
          },
          "execution_count": 50
        }
      ]
    },
    {
      "cell_type": "code",
      "metadata": {
        "id": "bmeB7hRvWVLz",
        "colab_type": "code",
        "colab": {}
      },
      "source": [
        "data.dropna(inplace=True)"
      ],
      "execution_count": 51,
      "outputs": []
    },
    {
      "cell_type": "code",
      "metadata": {
        "id": "0vzUKTAKI6c6",
        "colab_type": "code",
        "colab": {}
      },
      "source": [
        "test_forecast_result = adfuller(data['Seasonal First Difference'])"
      ],
      "execution_count": 52,
      "outputs": []
    },
    {
      "cell_type": "code",
      "metadata": {
        "id": "5_jU6_NII6SD",
        "colab_type": "code",
        "colab": {}
      },
      "source": [
        "adf_score,p_values,usedlog,nobs,critical_values,icbest=test_forecast_result"
      ],
      "execution_count": 53,
      "outputs": []
    },
    {
      "cell_type": "code",
      "metadata": {
        "id": "hHErugFXI6IH",
        "colab_type": "code",
        "colab": {
          "base_uri": "https://localhost:8080/",
          "height": 34
        },
        "outputId": "0630d8bd-302d-455c-fb50-04e656c89cc5"
      },
      "source": [
        "is_stationary(p_values)"
      ],
      "execution_count": 54,
      "outputs": [
        {
          "output_type": "stream",
          "text": [
            "This is showing the data is strongly accepting the Alternative  hypothesis.That means the data is stationary.\n"
          ],
          "name": "stdout"
        }
      ]
    },
    {
      "cell_type": "markdown",
      "metadata": {
        "id": "UJrj-HJIWiv2",
        "colab_type": "text"
      },
      "source": [
        "# Checking the base model MSE(Mean Squared Error)."
      ]
    },
    {
      "cell_type": "code",
      "metadata": {
        "id": "FRAknQoYI5-G",
        "colab_type": "code",
        "colab": {}
      },
      "source": [
        "from sklearn.metrics import mean_squared_error"
      ],
      "execution_count": 55,
      "outputs": []
    },
    {
      "cell_type": "code",
      "metadata": {
        "id": "-VOjVPnAI51M",
        "colab_type": "code",
        "colab": {}
      },
      "source": [
        "MSE_base_model = mean_squared_error(data['Actual Sales'],data['Forecast Sales'])"
      ],
      "execution_count": 56,
      "outputs": []
    },
    {
      "cell_type": "code",
      "metadata": {
        "id": "1I6RvZ2jXVkm",
        "colab_type": "code",
        "colab": {
          "base_uri": "https://localhost:8080/",
          "height": 34
        },
        "outputId": "a821a858-239e-4e93-e08a-bb552a71cb11"
      },
      "source": [
        "MSE_base_model"
      ],
      "execution_count": 57,
      "outputs": [
        {
          "output_type": "execute_result",
          "data": {
            "text/plain": [
              "11715.388285714285"
            ]
          },
          "metadata": {
            "tags": []
          },
          "execution_count": 57
        }
      ]
    },
    {
      "cell_type": "code",
      "metadata": {
        "id": "bA0uD0sII5ro",
        "colab_type": "code",
        "colab": {
          "base_uri": "https://localhost:8080/",
          "height": 34
        },
        "outputId": "5d0ab4d1-8f3a-44cc-b938-910cde406219"
      },
      "source": [
        "np.sqrt(MSE_base_model)"
      ],
      "execution_count": 58,
      "outputs": [
        {
          "output_type": "execute_result",
          "data": {
            "text/plain": [
              "108.23764726616282"
            ]
          },
          "metadata": {
            "tags": []
          },
          "execution_count": 58
        }
      ]
    },
    {
      "cell_type": "code",
      "metadata": {
        "id": "bt6iDhJecRRO",
        "colab_type": "code",
        "colab": {
          "base_uri": "https://localhost:8080/",
          "height": 279
        },
        "outputId": "3d0f16a8-e339-4c7f-e070-ead3453f2814"
      },
      "source": [
        "data['Seasonal First Difference'].plot()\n",
        "plt.show()"
      ],
      "execution_count": 59,
      "outputs": [
        {
          "output_type": "display_data",
          "data": {
            "image/png": "[encoded data removed]",
            "text/plain": [
              "<Figure size 432x288 with 1 Axes>"
            ]
          },
          "metadata": {
            "tags": [],
            "needs_background": "light"
          }
        }
      ]
    },
    {
      "cell_type": "markdown",
      "metadata": {
        "id": "zCG61pjQX0WE",
        "colab_type": "text"
      },
      "source": [
        "# NOW GO THE ARIMA\n",
        " Auto-Regressive model in order to create the forecasting for that we want the P,D and Q parameter so that we can get the prediction with the less MSE."
      ]
    },
    {
      "cell_type": "code",
      "metadata": {
        "id": "kcCYaWpBI5iU",
        "colab_type": "code",
        "colab": {}
      },
      "source": [
        "from statsmodels.tsa.arima_model import ARIMA\n",
        "from statsmodels.graphics.tsaplots import plot_acf,plot_pacf"
      ],
      "execution_count": 60,
      "outputs": []
    },
    {
      "cell_type": "code",
      "metadata": {
        "id": "ltJLTdqmI5W_",
        "colab_type": "code",
        "colab": {
          "base_uri": "https://localhost:8080/",
          "height": 357
        },
        "outputId": "75111f84-697a-47fb-9af3-3b0921d1a7bc"
      },
      "source": [
        "plt.figure(figsize=(16,5))\n",
        "ax1=plt.subplot(211)\n",
        "plot_acf(data['Forecast Sales'],ax=ax1)\n",
        "plt.show()\n",
        "plt.figure(figsize=(16,5))\n",
        "ax2=plt.subplot(212)\n",
        "plot_pacf(data['Forecast Sales'],ax=ax2)\n",
        "plt.show()"
      ],
      "execution_count": 61,
      "outputs": [
        {
          "output_type": "display_data",
          "data": {
            "image/png": "[encoded data removed]",
            "text/plain": [
              "<Figure size 1152x360 with 1 Axes>"
            ]
          },
          "metadata": {
            "tags": [],
            "needs_background": "light"
          }
        },
        {
          "output_type": "display_data",
          "data": {
            "image/png": "[encoded data removed]",
            "text/plain": [
              "<Figure size 1152x360 with 1 Axes>"
            ]
          },
          "metadata": {
            "tags": [],
            "needs_background": "light"
          }
        }
      ]
    },
    {
      "cell_type": "markdown",
      "metadata": {
        "id": "Q_R87e_maOtJ",
        "colab_type": "text"
      },
      "source": [
        "  From the above we can see the there is the autocorrelation with lag.\n",
        "  Here we can see the p is detemnine with the help of autocorrelation.we are going to take that 1 and for the Q we are using the Partial Auto-correlation which is here are taking 1 because all the value of lag giving the some better autocorrelation than others.One more thing that is D here we taking the D as 1.\n",
        "  "
      ]
    },
    {
      "cell_type": "code",
      "metadata": {
        "id": "aNmnKL33Y5PH",
        "colab_type": "code",
        "colab": {}
      },
      "source": [
        "from statsmodels.tsa.arima_model import ARIMA"
      ],
      "execution_count": 62,
      "outputs": []
    },
    {
      "cell_type": "code",
      "metadata": {
        "id": "A1daviqzcFhU",
        "colab_type": "code",
        "colab": {
          "base_uri": "https://localhost:8080/",
          "height": 34
        },
        "outputId": "36cfee9d-fafb-44ea-a4b8-4a78df1abe70"
      },
      "source": [
        "len(data['Actual Sales'])"
      ],
      "execution_count": 63,
      "outputs": [
        {
          "output_type": "execute_result",
          "data": {
            "text/plain": [
              "35"
            ]
          },
          "metadata": {
            "tags": []
          },
          "execution_count": 63
        }
      ]
    },
    {
      "cell_type": "code",
      "metadata": {
        "id": "VqmduP_dbzYT",
        "colab_type": "code",
        "colab": {}
      },
      "source": [
        "train_Sales = data['Actual Sales'][:25]\n",
        "test_sales  = data['Actual Sales'][20:]"
      ],
      "execution_count": 64,
      "outputs": []
    },
    {
      "cell_type": "code",
      "metadata": {
        "id": "STE2lFqlY5Bl",
        "colab_type": "code",
        "colab": {}
      },
      "source": [
        "Arima_model = ARIMA(train_Sales,order=(1,1,1))\n",
        "fit_model = Arima_model.fit()"
      ],
      "execution_count": 65,
      "outputs": []
    },
    {
      "cell_type": "code",
      "metadata": {
        "id": "Z7uqSu0Zd8Fg",
        "colab_type": "code",
        "colab": {
          "base_uri": "https://localhost:8080/",
          "height": 34
        },
        "outputId": "cae5dd36-4629-4a27-a47f-bf84e67bc4de"
      },
      "source": [
        "fit_model.aic    #lesser the aic better the model."
      ],
      "execution_count": 66,
      "outputs": [
        {
          "output_type": "execute_result",
          "data": {
            "text/plain": [
              "271.2930031621556"
            ]
          },
          "metadata": {
            "tags": []
          },
          "execution_count": 66
        }
      ]
    },
    {
      "cell_type": "code",
      "metadata": {
        "id": "9aoEeInPY40U",
        "colab_type": "code",
        "colab": {}
      },
      "source": [
        "Forecasting = fit_model.forecast(steps=len(test_sales))[0]"
      ],
      "execution_count": 67,
      "outputs": []
    },
    {
      "cell_type": "code",
      "metadata": {
        "id": "eSpX03XwY4Qz",
        "colab_type": "code",
        "colab": {
          "base_uri": "https://localhost:8080/",
          "height": 85
        },
        "outputId": "f3239bdc-0a97-4d03-fe13-084948312efa"
      },
      "source": [
        "Forecasting"
      ],
      "execution_count": 68,
      "outputs": [
        {
          "output_type": "execute_result",
          "data": {
            "text/plain": [
              "array([352.23309473, 395.21131208, 392.93332314, 406.27256927,\n",
              "       414.22254283, 424.03227317, 433.20022946, 442.5896523 ,\n",
              "       451.90265038, 461.24202149, 470.57229167, 479.90570244,\n",
              "       489.23802943, 498.57073043, 507.90330236])"
            ]
          },
          "metadata": {
            "tags": []
          },
          "execution_count": 68
        }
      ]
    },
    {
      "cell_type": "markdown",
      "metadata": {
        "id": "o5IFESoFetQX",
        "colab_type": "text"
      },
      "source": [
        "# Mean squred error measurement."
      ]
    },
    {
      "cell_type": "code",
      "metadata": {
        "id": "lCRI7Y0lBS1J",
        "colab_type": "code",
        "colab": {
          "base_uri": "https://localhost:8080/",
          "height": 34
        },
        "outputId": "09e8303c-d16f-4d80-e121-e9bb0c856d94"
      },
      "source": [
        "Base_model_MSE=np.sqrt(mean_squared_error(test_sales,Forecasting))\n",
        "Base_model_MSE"
      ],
      "execution_count": 73,
      "outputs": [
        {
          "output_type": "execute_result",
          "data": {
            "text/plain": [
              "92.17521547088572"
            ]
          },
          "metadata": {
            "tags": []
          },
          "execution_count": 73
        }
      ]
    },
    {
      "cell_type": "markdown",
      "metadata": {
        "id": "Efdi2C0wfju_",
        "colab_type": "text"
      },
      "source": [
        "From the above our base model perform not best rather than the ARIMA model because the MSE in ARIMA model is greater than the Base model."
      ]
    },
    {
      "cell_type": "markdown",
      "metadata": {
        "id": "bxDO13JogRMB",
        "colab_type": "text"
      },
      "source": [
        "# Lets do SARIMA"
      ]
    },
    {
      "cell_type": "markdown",
      "metadata": {
        "id": "v4ONO5BaieXk",
        "colab_type": "text"
      },
      "source": [
        "Becasue the atual series having some trends so go for the SARIMA."
      ]
    },
    {
      "cell_type": "code",
      "metadata": {
        "id": "yo_j0-Oje2lS",
        "colab_type": "code",
        "colab": {}
      },
      "source": [
        "import statsmodels.api as sm"
      ],
      "execution_count": 97,
      "outputs": []
    },
    {
      "cell_type": "code",
      "metadata": {
        "id": "0X9a-v9MgP13",
        "colab_type": "code",
        "colab": {}
      },
      "source": [
        "serima_model = sm.tsa.statespace.SARIMAX(train_Sales,order=(1,1,1),seasonal_order=(1,1,1,1))\n",
        "serima_model_fit = serima_model.fit()"
      ],
      "execution_count": 98,
      "outputs": []
    },
    {
      "cell_type": "code",
      "metadata": {
        "id": "096JHtF7f_js",
        "colab_type": "code",
        "colab": {}
      },
      "source": [
        "serima_forecasting = serima_model_fit.forecast(steps=len(test_sales))"
      ],
      "execution_count": 104,
      "outputs": []
    },
    {
      "cell_type": "code",
      "metadata": {
        "id": "aRimWbcOf_RG",
        "colab_type": "code",
        "colab": {}
      },
      "source": [
        "MSE_serima = np.sqrt(mean_squared_error(test_sales,serima_forecasting))"
      ],
      "execution_count": 101,
      "outputs": []
    },
    {
      "cell_type": "code",
      "metadata": {
        "id": "ybLrQZb-f-lV",
        "colab_type": "code",
        "colab": {
          "base_uri": "https://localhost:8080/",
          "height": 34
        },
        "outputId": "150b8b1b-71c3-4de5-ed21-5f5f683f9679"
      },
      "source": [
        "MSE_serima"
      ],
      "execution_count": 102,
      "outputs": [
        {
          "output_type": "execute_result",
          "data": {
            "text/plain": [
              "90.22166513672595"
            ]
          },
          "metadata": {
            "tags": []
          },
          "execution_count": 102
        }
      ]
    },
    {
      "cell_type": "markdown",
      "metadata": {
        "id": "lKQUeOnul6jU",
        "colab_type": "text"
      },
      "source": [
        "Since we are getting the MSE lesser tahn the base_model so we are going to do the Hyperparameter tunning in order to obtain the optimal P,D and Q values."
      ]
    },
    {
      "cell_type": "code",
      "metadata": {
        "id": "23yQF_s6f-Dj",
        "colab_type": "code",
        "colab": {}
      },
      "source": [
        "p_values = range(0,5)\n",
        "q_values = range(0,3)\n",
        "d_values = range(0,5)"
      ],
      "execution_count": 78,
      "outputs": []
    },
    {
      "cell_type": "code",
      "metadata": {
        "id": "b1GC4mIlf9y5",
        "colab_type": "code",
        "colab": {
          "base_uri": "https://localhost:8080/",
          "height": 595
        },
        "outputId": "73af0321-d892-4974-8e9b-6fef4c7a911f"
      },
      "source": [
        "for p in p_values:\n",
        "  for q in q_values:\n",
        "    for d in d_values:\n",
        "      order = (p,d,q)\n",
        "      train,test = data['Actual Sales'][:25],data['Actual Sales'][25:]\n",
        "      predictions = list()\n",
        "      for i in range(len(test)):\n",
        "        try:\n",
        "          model = ARIMA(train,order)\n",
        "          model_fit = model.fit()\n",
        "          prediction = model_fit.forecast()[0]\n",
        "          predictions.append(prediction)\n",
        "          error = np.sqrt(mean_squared_error(test,predictions))\n",
        "          print(order, ' and ',error)\n",
        "        except:\n",
        "          continue"
      ],
      "execution_count": 81,
      "outputs": [
        {
          "output_type": "stream",
          "text": [
            "(0, 0, 0)  and  279.06338530161923\n",
            "(0, 1, 0)  and  120.9338507919148\n",
            "(0, 2, 0)  and  122.44446659917362\n",
            "(0, 0, 1)  and  241.65523108246276\n",
            "(0, 1, 1)  and  181.16872760094884\n",
            "(0, 2, 1)  and  117.44910965217129\n",
            "(0, 0, 2)  and  194.13037624302845\n",
            "(0, 1, 2)  and  195.62820298231455\n",
            "(1, 0, 0)  and  194.7359316684793\n",
            "(1, 1, 0)  and  153.9158803031757\n",
            "(1, 2, 0)  and  117.00848879718603\n",
            "(1, 0, 1)  and  279.06647449432296\n",
            "(1, 1, 1)  and  182.939119663154\n",
            "(1, 1, 2)  and  205.1009850890506\n",
            "(2, 0, 0)  and  184.0380700644187\n",
            "(2, 1, 0)  and  160.8857127792145\n",
            "(2, 2, 0)  and  116.99316928709223\n",
            "(2, 0, 1)  and  192.25722166648873\n",
            "(2, 1, 1)  and  193.1938003549667\n",
            "(3, 0, 0)  and  185.38117707994988\n",
            "(3, 1, 0)  and  195.9330627469046\n",
            "(3, 2, 0)  and  173.79577637192918\n",
            "(3, 0, 1)  and  174.22147447983113\n",
            "(3, 1, 1)  and  189.5793728566549\n",
            "(3, 2, 1)  and  178.71565777651168\n",
            "(3, 1, 2)  and  169.37262858891748\n",
            "(4, 0, 0)  and  139.0815408312692\n",
            "(4, 1, 0)  and  182.6392657710364\n",
            "(4, 2, 0)  and  170.39016482919274\n",
            "(4, 0, 1)  and  203.71176918941524\n",
            "(4, 1, 1)  and  182.46393271231562\n",
            "(4, 2, 1)  and  161.4833129825762\n",
            "(4, 1, 2)  and  170.10759317212938\n",
            "(4, 2, 2)  and  160.65366361707513\n"
          ],
          "name": "stdout"
        }
      ]
    },
    {
      "cell_type": "markdown",
      "metadata": {
        "id": "wAi6Z5iNxEHl",
        "colab_type": "text"
      },
      "source": [
        "  Since, we are not getting the optimal P,Q,R for the data but we got already optimal vaues 1,1,1.Hyper-parameter tunning is working fine here.\n",
        "\n",
        "We will see the forecasting and actual data visualizations.\n",
        "\n",
        "\n",
        "\n",
        "\n"
      ]
    },
    {
      "cell_type": "code",
      "metadata": {
        "id": "WCvc_isbo0ZZ",
        "colab_type": "code",
        "colab": {}
      },
      "source": [
        "ARIMA_prediction_dataframe = pd.DataFrame(dict(Actual=test_sales,ARIMA_Forecated=Forecasting))"
      ],
      "execution_count": 109,
      "outputs": []
    },
    {
      "cell_type": "code",
      "metadata": {
        "id": "np4S0bq1f9iQ",
        "colab_type": "code",
        "colab": {
          "base_uri": "https://localhost:8080/",
          "height": 235
        },
        "outputId": "66101002-4694-4488-ec60-42db59aa1038"
      },
      "source": [
        "ARIMA_prediction_dataframe.head()"
      ],
      "execution_count": 110,
      "outputs": [
        {
          "output_type": "execute_result",
          "data": {
            "text/html": [
              "<div>\n",
              "<style scoped>\n",
              "    .dataframe tbody tr th:only-of-type {\n",
              "        vertical-align: middle;\n",
              "    }\n",
              "\n",
              "    .dataframe tbody tr th {\n",
              "        vertical-align: top;\n",
              "    }\n",
              "\n",
              "    .dataframe thead th {\n",
              "        text-align: right;\n",
              "    }\n",
              "</style>\n",
              "<table border=\"1\" class=\"dataframe\">\n",
              "  <thead>\n",
              "    <tr style=\"text-align: right;\">\n",
              "      <th></th>\n",
              "      <th>Actual</th>\n",
              "      <th>ARIMA_Forecated</th>\n",
              "    </tr>\n",
              "    <tr>\n",
              "      <th>Month</th>\n",
              "      <th></th>\n",
              "      <th></th>\n",
              "    </tr>\n",
              "  </thead>\n",
              "  <tbody>\n",
              "    <tr>\n",
              "      <th>2-10</th>\n",
              "      <td>421.6</td>\n",
              "      <td>352.233095</td>\n",
              "    </tr>\n",
              "    <tr>\n",
              "      <th>2-11</th>\n",
              "      <td>264.5</td>\n",
              "      <td>395.211312</td>\n",
              "    </tr>\n",
              "    <tr>\n",
              "      <th>2-12</th>\n",
              "      <td>342.3</td>\n",
              "      <td>392.933323</td>\n",
              "    </tr>\n",
              "    <tr>\n",
              "      <th>3-01</th>\n",
              "      <td>339.7</td>\n",
              "      <td>406.272569</td>\n",
              "    </tr>\n",
              "    <tr>\n",
              "      <th>3-02</th>\n",
              "      <td>440.4</td>\n",
              "      <td>414.222543</td>\n",
              "    </tr>\n",
              "  </tbody>\n",
              "</table>\n",
              "</div>"
            ],
            "text/plain": [
              "       Actual  ARIMA_Forecated\n",
              "Month                         \n",
              "2-10    421.6       352.233095\n",
              "2-11    264.5       395.211312\n",
              "2-12    342.3       392.933323\n",
              "3-01    339.7       406.272569\n",
              "3-02    440.4       414.222543"
            ]
          },
          "metadata": {
            "tags": []
          },
          "execution_count": 110
        }
      ]
    },
    {
      "cell_type": "code",
      "metadata": {
        "id": "0Bcgr4qWf9Rz",
        "colab_type": "code",
        "colab": {
          "base_uri": "https://localhost:8080/",
          "height": 498
        },
        "outputId": "a572a4dc-bdf1-47d6-d647-933e528d1663"
      },
      "source": [
        "ARIMA_prediction_dataframe.plot(figsize=(12,8))\n",
        "plt.show()\n",
        "#It auto_regression Moving avarage prediction.Since it is considering avarage."
      ],
      "execution_count": 111,
      "outputs": [
        {
          "output_type": "display_data",
          "data": {
            "image/png": "[encoded data removed]",
            "text/plain": [
              "<Figure size 864x576 with 1 Axes>"
            ]
          },
          "metadata": {
            "tags": [],
            "needs_background": "light"
          }
        }
      ]
    },
    {
      "cell_type": "markdown",
      "metadata": {
        "id": "g2dEemGS3_oO",
        "colab_type": "text"
      },
      "source": [
        "# SERIMAX data visualization."
      ]
    },
    {
      "cell_type": "code",
      "metadata": {
        "id": "f25iuprcf9KG",
        "colab_type": "code",
        "colab": {}
      },
      "source": [
        "serima_model = sm.tsa.statespace.SARIMAX( data['Actual Sales'],order=(1,1,1),seasonal_order=(1,1,1,1))\n",
        "serima_model_fit = serima_model.fit()"
      ],
      "execution_count": 116,
      "outputs": []
    },
    {
      "cell_type": "code",
      "metadata": {
        "id": "o1qlCPfd39a1",
        "colab_type": "code",
        "colab": {}
      },
      "source": [
        "forecast = serima_model_fit.predict(start = 20,end =34,dynamic=True)"
      ],
      "execution_count": 124,
      "outputs": []
    },
    {
      "cell_type": "code",
      "metadata": {
        "id": "qvozjBmJ6IzY",
        "colab_type": "code",
        "colab": {
          "base_uri": "https://localhost:8080/",
          "height": 306
        },
        "outputId": "a92f2680-817f-49b6-dd7e-0c7ac959e5bf"
      },
      "source": [
        "forecast"
      ],
      "execution_count": 125,
      "outputs": [
        {
          "output_type": "execute_result",
          "data": {
            "text/plain": [
              "Month\n",
              "2-10    286.174336\n",
              "2-11    306.048980\n",
              "2-12    309.773244\n",
              "3-01    321.425036\n",
              "3-02    329.654458\n",
              "3-03    339.263236\n",
              "3-04    348.339415\n",
              "3-05    357.615295\n",
              "3-06    366.817877\n",
              "3-07    376.046930\n",
              "3-08    385.266544\n",
              "3-09    394.489489\n",
              "3-10    403.711269\n",
              "3-11    412.933453\n",
              "3-12    422.155498\n",
              "dtype: float64"
            ]
          },
          "metadata": {
            "tags": []
          },
          "execution_count": 125
        }
      ]
    },
    {
      "cell_type": "code",
      "metadata": {
        "id": "yVvnZ6CL39Ol",
        "colab_type": "code",
        "colab": {}
      },
      "source": [
        "data['Serima Forecast'] = forecast"
      ],
      "execution_count": 126,
      "outputs": []
    },
    {
      "cell_type": "code",
      "metadata": {
        "id": "jbNCI8Xg39BL",
        "colab_type": "code",
        "colab": {
          "base_uri": "https://localhost:8080/",
          "height": 297
        },
        "outputId": "0ae199d1-791f-4d09-f1b2-9e99b0b5c0c9"
      },
      "source": [
        "data[['Actual Sales','Serima Forecast']].plot()"
      ],
      "execution_count": 128,
      "outputs": [
        {
          "output_type": "execute_result",
          "data": {
            "text/plain": [
              "<matplotlib.axes._subplots.AxesSubplot at 0x7fab40144278>"
            ]
          },
          "metadata": {
            "tags": []
          },
          "execution_count": 128
        },
        {
          "output_type": "display_data",
          "data": {
            "image/png": "[encoded data removed]",
            "text/plain": [
              "<Figure size 432x288 with 1 Axes>"
            ]
          },
          "metadata": {
            "tags": [],
            "needs_background": "light"
          }
        }
      ]
    },
    {
      "cell_type": "markdown",
      "metadata": {
        "id": "f2Kt57mY6_aU",
        "colab_type": "text"
      },
      "source": [
        "Thank You !!"
      ]
    }
  ]
}